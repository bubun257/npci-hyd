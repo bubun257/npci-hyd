{
 "cells": [
  {
   "cell_type": "code",
   "execution_count": 2,
   "id": "a58122b7-bb92-4b4c-b07f-5bb84b975109",
   "metadata": {},
   "outputs": [],
   "source": [
    "import csv"
   ]
  },
  {
   "cell_type": "code",
   "execution_count": 3,
   "id": "af7d79de-0a18-4500-b97a-8618dc36b3c0",
   "metadata": {},
   "outputs": [
    {
     "data": {
      "text/plain": [
       "{'Male': 485.0700000000001, 'Female': 246.51}"
      ]
     },
     "execution_count": 3,
     "metadata": {},
     "output_type": "execute_result"
    }
   ],
   "source": [
    "fpath = r'../data/tips.csv'\n",
    "f = open(fpath)\n",
    "reader = csv.reader(f)\n",
    "\n",
    "next(reader)\n",
    "\n",
    "tip_by_sex = {\n",
    "    'Male': 0,\n",
    "    'Female': 0\n",
    "}\n",
    "\n",
    "for row in reader:\n",
    "    tip, sex = float(row[1]), row[2]\n",
    "    tip_by_sex[sex] += tip\n",
    "\n",
    "tip_by_sex"
   ]
  },
  {
   "cell_type": "code",
   "execution_count": null,
   "id": "af6b10b0-b345-49a6-a89b-9fe4dde50120",
   "metadata": {},
   "outputs": [],
   "source": [
    "# Get counts of Males and Females in tips data: \n",
    "\n",
    "sex_counts = {\n",
    "    'Male': 157,\n",
    "    'Female': 87\n",
    "}"
   ]
  },
  {
   "cell_type": "code",
   "execution_count": 4,
   "id": "c626a4f1-394f-4a30-98ef-2af5b9b05842",
   "metadata": {},
   "outputs": [
    {
     "data": {
      "text/plain": [
       "{'Male': 157, 'Female': 87}"
      ]
     },
     "execution_count": 4,
     "metadata": {},
     "output_type": "execute_result"
    }
   ],
   "source": [
    "fpath = r'../data/tips.csv'\n",
    "f = open(fpath)\n",
    "reader = csv.reader(f)\n",
    "\n",
    "next(reader)\n",
    "\n",
    "sex_counts = {\n",
    "    'Male': 0,\n",
    "    'Female': 0\n",
    "}\n",
    "\n",
    "for row in reader:\n",
    "    sex = row[2]\n",
    "    sex_counts[sex] += 1\n",
    "\n",
    "sex_counts"
   ]
  },
  {
   "cell_type": "code",
   "execution_count": 5,
   "id": "d371c4a2-d7ae-40e0-9f56-26a935db6149",
   "metadata": {},
   "outputs": [
    {
     "data": {
      "text/plain": [
       "3.0896178343949052"
      ]
     },
     "execution_count": 5,
     "metadata": {},
     "output_type": "execute_result"
    }
   ],
   "source": [
    "tip_by_sex['Male'] / sex_counts['Male']"
   ]
  },
  {
   "cell_type": "code",
   "execution_count": 7,
   "id": "bf6fc98e-a5d3-486d-aab0-ff08ec9179c1",
   "metadata": {},
   "outputs": [
    {
     "name": "stdout",
     "output_type": "stream",
     "text": [
      "Male 3.0896178343949052\n",
      "Female 2.833448275862069\n"
     ]
    }
   ],
   "source": [
    "for sex in sex_counts.keys():\n",
    "    print(sex, tip_by_sex[sex] / sex_counts[sex])"
   ]
  },
  {
   "cell_type": "code",
   "execution_count": 8,
   "id": "6dc5d84b-d18b-4fe1-bba4-9e69bd1b8976",
   "metadata": {},
   "outputs": [],
   "source": [
    "def tips_by_sex(fpath):\n",
    "    f = open(fpath)\n",
    "    reader = csv.reader(f)\n",
    "    \n",
    "    next(reader)\n",
    "    \n",
    "    tip_by_sex = {\n",
    "        'Male': 0,\n",
    "        'Female': 0\n",
    "    }\n",
    "    \n",
    "    for row in reader:\n",
    "        tip, sex = float(row[1]), row[2]\n",
    "        tip_by_sex[sex] += tip\n",
    "    \n",
    "    return tip_by_sex"
   ]
  },
  {
   "cell_type": "code",
   "execution_count": 10,
   "id": "1731119e-2f4f-4a20-8093-596f4f301a6e",
   "metadata": {},
   "outputs": [],
   "source": [
    "def tips_by_sex(fpath):\n",
    "    f = open(fpath)\n",
    "    reader = csv.DictReader(f)\n",
    "    \n",
    "    tip_by_sex = {\n",
    "        'Male': 0,\n",
    "        'Female': 0\n",
    "    }\n",
    "    \n",
    "    for row in reader:\n",
    "        tip, sex = float(row['tip']), row['sex']\n",
    "        tip_by_sex[sex] += tip\n",
    "    \n",
    "    return tip_by_sex"
   ]
  },
  {
   "cell_type": "code",
   "execution_count": 13,
   "id": "859ddb91-2a00-426a-9cb8-cbe58ba9b8ff",
   "metadata": {},
   "outputs": [
    {
     "data": {
      "text/plain": [
       "{'Male': 485.0700000000001, 'Female': 246.51}"
      ]
     },
     "execution_count": 13,
     "metadata": {},
     "output_type": "execute_result"
    }
   ],
   "source": [
    "tips_by_sex(fpath)"
   ]
  },
  {
   "cell_type": "code",
   "execution_count": 25,
   "id": "77dacd2a-bc28-4ab0-b188-4e69e7d3a1b0",
   "metadata": {},
   "outputs": [],
   "source": [
    "def tips_by(fpath, by='sex', keys=['Male', 'Female']):\n",
    "    f = open(fpath)\n",
    "    reader = csv.DictReader(f)\n",
    "    \n",
    "    values = dict(zip(keys, [0]*len(keys)))\n",
    "    \n",
    "    for row in reader:\n",
    "        tip, sex = float(row['tip']), row[by]\n",
    "        values[sex] += tip\n",
    "    \n",
    "    return values"
   ]
  },
  {
   "cell_type": "code",
   "execution_count": 28,
   "id": "9969e739-7d2e-4173-b1f4-4187f4e0e3ca",
   "metadata": {},
   "outputs": [
    {
     "data": {
      "text/plain": [
       "{'Male': 485.0700000000001, 'Female': 246.51}"
      ]
     },
     "execution_count": 28,
     "metadata": {},
     "output_type": "execute_result"
    }
   ],
   "source": [
    "tips_by(fpath)"
   ]
  },
  {
   "cell_type": "code",
   "execution_count": 27,
   "id": "699185c9-4d9d-4e67-a11f-e532b1f21249",
   "metadata": {},
   "outputs": [
    {
     "data": {
      "text/plain": [
       "{'Yes': 279.81, 'No': 451.7700000000001}"
      ]
     },
     "execution_count": 27,
     "metadata": {},
     "output_type": "execute_result"
    }
   ],
   "source": [
    "tips_by(fpath, by='smoker', keys='Yes No'.split())"
   ]
  },
  {
   "cell_type": "code",
   "execution_count": 22,
   "id": "4496aa75-29bd-41c4-8d45-4cfbf9505085",
   "metadata": {},
   "outputs": [],
   "source": [
    "keys = ['Male', 'Female']\n",
    "# keys = ['Fri', 'Sat', 'Sun']"
   ]
  },
  {
   "cell_type": "code",
   "execution_count": 23,
   "id": "25e7f11e-f547-4fad-81a1-35f75c8fe689",
   "metadata": {},
   "outputs": [
    {
     "data": {
      "text/plain": [
       "[0, 0]"
      ]
     },
     "execution_count": 23,
     "metadata": {},
     "output_type": "execute_result"
    }
   ],
   "source": [
    "[0] * len(keys)"
   ]
  },
  {
   "cell_type": "code",
   "execution_count": 24,
   "id": "197d5d97-cd36-4659-8891-d8669a00291c",
   "metadata": {},
   "outputs": [
    {
     "data": {
      "text/plain": [
       "{'Male': 0, 'Female': 0}"
      ]
     },
     "execution_count": 24,
     "metadata": {},
     "output_type": "execute_result"
    }
   ],
   "source": [
    "dict(zip(keys, [0] * len(keys)))"
   ]
  },
  {
   "cell_type": "markdown",
   "id": "7fa7dd01-c6ae-4f61-9951-57052919aff0",
   "metadata": {},
   "source": [
    "## JSON"
   ]
  },
  {
   "cell_type": "code",
   "execution_count": 29,
   "id": "ece9d22d-10bb-48df-9738-5a241e11874e",
   "metadata": {},
   "outputs": [],
   "source": [
    "import json"
   ]
  },
  {
   "cell_type": "code",
   "execution_count": 32,
   "id": "711325fc-6314-49a5-862a-0e578b63dd16",
   "metadata": {},
   "outputs": [
    {
     "data": {
      "text/plain": [
       "[{'hostanme': 'mac1',\n",
       "  'ip': ['192.168.1.18', '10.10.2.9'],\n",
       "  'proc': 'i5',\n",
       "  'mem': 128,\n",
       "  'os': {'base': 'win32', 'bitsize': 32}},\n",
       " {'hostanme': 'mac2',\n",
       "  'ip': ['192.168.1.19', '10.10.2.11'],\n",
       "  'proc': 'i5',\n",
       "  'mem': 128,\n",
       "  'os': {'base': 'win32', 'bitsize': 32}}]"
      ]
     },
     "execution_count": 32,
     "metadata": {},
     "output_type": "execute_result"
    }
   ],
   "source": [
    "fpath = '../data/datacenter.json'\n",
    "f = open(fpath)\n",
    "dc = json.load(f)\n",
    "dc"
   ]
  },
  {
   "cell_type": "code",
   "execution_count": 33,
   "id": "9c76aaa3-85a0-4eac-aefe-99c46afcdce5",
   "metadata": {},
   "outputs": [
    {
     "data": {
      "text/plain": [
       "list"
      ]
     },
     "execution_count": 33,
     "metadata": {},
     "output_type": "execute_result"
    }
   ],
   "source": [
    "type(dc)"
   ]
  },
  {
   "cell_type": "code",
   "execution_count": 34,
   "id": "008fcd8a-94b1-408e-a661-a39ddcc4e791",
   "metadata": {},
   "outputs": [
    {
     "data": {
      "text/plain": [
       "dict"
      ]
     },
     "execution_count": 34,
     "metadata": {},
     "output_type": "execute_result"
    }
   ],
   "source": [
    "type(dc[0])"
   ]
  },
  {
   "cell_type": "code",
   "execution_count": 36,
   "id": "1e22bde6-d205-435b-bdb6-28ef402f1411",
   "metadata": {},
   "outputs": [
    {
     "data": {
      "text/plain": [
       "dict_keys(['hostanme', 'ip', 'proc', 'mem', 'os'])"
      ]
     },
     "execution_count": 36,
     "metadata": {},
     "output_type": "execute_result"
    }
   ],
   "source": [
    "dc[0].keys()"
   ]
  },
  {
   "cell_type": "code",
   "execution_count": 37,
   "id": "ce63420d-57d4-4653-870e-24bd6e474c8a",
   "metadata": {},
   "outputs": [
    {
     "data": {
      "text/plain": [
       "['192.168.1.19', '10.10.2.11']"
      ]
     },
     "execution_count": 37,
     "metadata": {},
     "output_type": "execute_result"
    }
   ],
   "source": [
    "# All ip addresses for the second machine\n",
    "dc[1]['ip']"
   ]
  },
  {
   "cell_type": "code",
   "execution_count": 40,
   "id": "27b39b09-6355-44a1-acb2-45d17b834c70",
   "metadata": {},
   "outputs": [
    {
     "data": {
      "text/plain": [
       "32"
      ]
     },
     "execution_count": 40,
     "metadata": {},
     "output_type": "execute_result"
    }
   ],
   "source": [
    "# bitsize of os for the first machine\n",
    "dc[0]['os']['bitsize']"
   ]
  },
  {
   "cell_type": "code",
   "execution_count": 41,
   "id": "c1abdb94-aec1-4078-89a9-070edf0f011e",
   "metadata": {},
   "outputs": [
    {
     "data": {
      "text/plain": [
       "{'hostanme': 'mac1',\n",
       " 'ip': ['192.168.1.18', '10.10.2.9'],\n",
       " 'proc': 'i5',\n",
       " 'mem': 128,\n",
       " 'os': {'base': 'win32', 'bitsize': 32}}"
      ]
     },
     "execution_count": 41,
     "metadata": {},
     "output_type": "execute_result"
    }
   ],
   "source": [
    "dc[0]"
   ]
  },
  {
   "cell_type": "code",
   "execution_count": 44,
   "id": "566aa07a-4fef-4020-8b95-7f1d28a82e35",
   "metadata": {},
   "outputs": [
    {
     "name": "stdout",
     "output_type": "stream",
     "text": [
      "mac1 32\n",
      "mac2 32\n"
     ]
    }
   ],
   "source": [
    "for server in dc:\n",
    "    print(server['hostanme'], server['os']['bitsize'])\n",
    "    "
   ]
  },
  {
   "cell_type": "code",
   "execution_count": null,
   "id": "3b6be872-8929-4d62-a84b-5ad64231a9a3",
   "metadata": {},
   "outputs": [],
   "source": [
    "dc = None      # force garbage collection (usually of large objects)"
   ]
  },
  {
   "cell_type": "markdown",
   "id": "6684412d-1b4a-482f-b165-f0d9aba80f34",
   "metadata": {},
   "source": [
    "## Object Orientation\n",
    "\n",
    "Example: BankAccount\n",
    "- Attributes\n",
    "    - Ac number\n",
    "    - Holder name, ...\n",
    "    - Balance\n",
    "- Behaviours:\n",
    "    - Check Balance\n",
    "    - Withdraw\n",
    "    - Deposit"
   ]
  },
  {
   "cell_type": "code",
   "execution_count": 49,
   "id": "cb0fca21-2215-4815-a560-553a11765425",
   "metadata": {},
   "outputs": [],
   "source": [
    "class BankAccount:\n",
    "    def __init__(self, acnum, name, opening_balance=0):         # constructor: entry point of class instance\n",
    "        self.acnum = acnum\n",
    "        self.name = name\n",
    "        self.balance = opening_balance\n",
    "\n",
    "    def check_balance(self):\n",
    "        return self.balance\n",
    "\n",
    "    def withdraw(self, amt):\n",
    "        self.balance -= amt\n",
    "\n",
    "    def deposit(self, amt):\n",
    "        self.balance += amt"
   ]
  },
  {
   "cell_type": "code",
   "execution_count": 50,
   "id": "e0c43a21-e5cc-4d44-bd6a-1364f6abf3b8",
   "metadata": {},
   "outputs": [],
   "source": [
    "myaccount = BankAccount(123, 'me')\n",
    "uraccount = BankAccount(111, 'billgates', 9832490823408)"
   ]
  },
  {
   "cell_type": "code",
   "execution_count": 51,
   "id": "5c12c781-0529-41c9-a55e-9f6cd826390d",
   "metadata": {},
   "outputs": [
    {
     "data": {
      "text/plain": [
       "<__main__.BankAccount at 0x103de6a50>"
      ]
     },
     "execution_count": 51,
     "metadata": {},
     "output_type": "execute_result"
    }
   ],
   "source": [
    "myaccount"
   ]
  },
  {
   "cell_type": "code",
   "execution_count": 52,
   "id": "063cda2b-6f41-42f4-a375-b529aefe2d69",
   "metadata": {},
   "outputs": [
    {
     "data": {
      "text/plain": [
       "__main__.BankAccount"
      ]
     },
     "execution_count": 52,
     "metadata": {},
     "output_type": "execute_result"
    }
   ],
   "source": [
    "type(myaccount)"
   ]
  },
  {
   "cell_type": "code",
   "execution_count": null,
   "id": "e0133140-3558-49d2-bda3-d80e68d78554",
   "metadata": {},
   "outputs": [],
   "source": [
    "class list:\n",
    "    def append(self, val):\n",
    "        ..."
   ]
  },
  {
   "cell_type": "code",
   "execution_count": 56,
   "id": "2712fc7c-c87e-488e-8a07-6121918b0a52",
   "metadata": {},
   "outputs": [
    {
     "data": {
      "text/plain": [
       "[1, 2, 3, 4, 5]"
      ]
     },
     "execution_count": 56,
     "metadata": {},
     "output_type": "execute_result"
    }
   ],
   "source": [
    "nums = [1,2,3,4]\n",
    "nums.append(5)\n",
    "nums"
   ]
  },
  {
   "cell_type": "code",
   "execution_count": 57,
   "id": "558dad7a-6149-4e57-8f3f-5f5dc17bb32e",
   "metadata": {},
   "outputs": [
    {
     "data": {
      "text/plain": [
       "[1, 2, 3, 4, 5, 5]"
      ]
     },
     "execution_count": 57,
     "metadata": {},
     "output_type": "execute_result"
    }
   ],
   "source": [
    "# nums.append(...)\n",
    "# list.append(...)\n",
    "list.append(nums, 5)\n",
    "nums"
   ]
  },
  {
   "cell_type": "code",
   "execution_count": 54,
   "id": "c8885fb3-ad18-4534-9a0b-5a4e28fbfbcb",
   "metadata": {},
   "outputs": [],
   "source": [
    "myaccount.deposit(100)"
   ]
  },
  {
   "cell_type": "code",
   "execution_count": 55,
   "id": "eaf31494-0fe6-43a2-8156-02243dcde163",
   "metadata": {},
   "outputs": [
    {
     "data": {
      "text/plain": [
       "100"
      ]
     },
     "execution_count": 55,
     "metadata": {},
     "output_type": "execute_result"
    }
   ],
   "source": [
    "myaccount.check_balance()"
   ]
  },
  {
   "cell_type": "code",
   "execution_count": null,
   "id": "511390a6-bc23-48aa-bcc2-92f500af1f9e",
   "metadata": {},
   "outputs": [],
   "source": []
  },
  {
   "cell_type": "markdown",
   "id": "c76072f0-6a77-47d6-a1b5-0849efc8e9f1",
   "metadata": {},
   "source": [
    "## Modules"
   ]
  },
  {
   "cell_type": "code",
   "execution_count": 59,
   "id": "8135dd15-4abb-460e-a2be-74518185ed5c",
   "metadata": {},
   "outputs": [],
   "source": [
    "import csv"
   ]
  },
  {
   "cell_type": "code",
   "execution_count": 60,
   "id": "6605103b-116d-4131-92de-67c7f334e056",
   "metadata": {},
   "outputs": [
    {
     "data": {
      "text/plain": [
       "<module 'csv' from '/opt/anaconda3/lib/python3.11/csv.py'>"
      ]
     },
     "execution_count": 60,
     "metadata": {},
     "output_type": "execute_result"
    }
   ],
   "source": [
    "csv"
   ]
  },
  {
   "cell_type": "code",
   "execution_count": 61,
   "id": "a7bb2baa-0a53-467e-85c9-707514f1e3ce",
   "metadata": {},
   "outputs": [
    {
     "data": {
      "text/plain": [
       "<module 'pandas' from '/opt/anaconda3/lib/python3.11/site-packages/pandas/__init__.py'>"
      ]
     },
     "execution_count": 61,
     "metadata": {},
     "output_type": "execute_result"
    }
   ],
   "source": [
    "pd"
   ]
  },
  {
   "cell_type": "code",
   "execution_count": 62,
   "id": "4a0cb46b-565b-49da-bd39-4a463c384e82",
   "metadata": {},
   "outputs": [
    {
     "ename": "ModuleNotFoundError",
     "evalue": "No module named 'pyspark'",
     "output_type": "error",
     "traceback": [
      "\u001b[0;31m---------------------------------------------------------------------------\u001b[0m",
      "\u001b[0;31mModuleNotFoundError\u001b[0m                       Traceback (most recent call last)",
      "Cell \u001b[0;32mIn[62], line 1\u001b[0m\n\u001b[0;32m----> 1\u001b[0m \u001b[38;5;28;01mimport\u001b[39;00m \u001b[38;5;21;01mpyspark\u001b[39;00m\n",
      "\u001b[0;31mModuleNotFoundError\u001b[0m: No module named 'pyspark'"
     ]
    }
   ],
   "source": [
    "import pyspark"
   ]
  },
  {
   "cell_type": "code",
   "execution_count": 63,
   "id": "efb01247-d2d8-454b-8c36-dc784432509f",
   "metadata": {},
   "outputs": [],
   "source": [
    "import sys"
   ]
  },
  {
   "cell_type": "code",
   "execution_count": 64,
   "id": "5db84c5c-d722-4de4-a7c0-f5e1258cddbb",
   "metadata": {},
   "outputs": [
    {
     "data": {
      "text/plain": [
       "['/Users/ashishgulati/Train/npci/npci-hyd/eve',\n",
       " '/opt/anaconda3/lib/python311.zip',\n",
       " '/opt/anaconda3/lib/python3.11',\n",
       " '/opt/anaconda3/lib/python3.11/lib-dynload',\n",
       " '',\n",
       " '/opt/anaconda3/lib/python3.11/site-packages',\n",
       " '/opt/anaconda3/lib/python3.11/site-packages/aeosa',\n",
       " '/opt/anaconda3/lib/python3.11/site-packages/pyjnius-1.6.1-py3.11-macosx-11.0-arm64.egg']"
      ]
     },
     "execution_count": 64,
     "metadata": {},
     "output_type": "execute_result"
    }
   ],
   "source": [
    "sys.path"
   ]
  },
  {
   "cell_type": "code",
   "execution_count": 65,
   "id": "cdd55cfe-1ad2-46a6-8077-4294fbc18e97",
   "metadata": {},
   "outputs": [],
   "source": [
    "import csv"
   ]
  },
  {
   "cell_type": "code",
   "execution_count": null,
   "id": "b2bca269-3eaa-4b49-8276-22caab92a16c",
   "metadata": {},
   "outputs": [],
   "source": [
    "csv.DictReader"
   ]
  },
  {
   "cell_type": "code",
   "execution_count": 67,
   "id": "7cf30341-f427-4831-bbca-b632646f923c",
   "metadata": {},
   "outputs": [],
   "source": [
    "from csv import DictReader, reader, DictWriter"
   ]
  },
  {
   "cell_type": "code",
   "execution_count": null,
   "id": "ba089db1-d6e6-4281-9f17-f3b2be011906",
   "metadata": {},
   "outputs": [],
   "source": [
    "DictReader"
   ]
  },
  {
   "cell_type": "code",
   "execution_count": 68,
   "id": "63c64367-e07b-4933-b5c7-ff9b2388aca3",
   "metadata": {},
   "outputs": [
    {
     "data": {
      "text/plain": [
       "<__main__.BankAccount at 0x103de6a50>"
      ]
     },
     "execution_count": 68,
     "metadata": {},
     "output_type": "execute_result"
    }
   ],
   "source": [
    "myaccount"
   ]
  },
  {
   "cell_type": "code",
   "execution_count": null,
   "id": "2f08e1cd-315f-40d0-bbfb-070098c83804",
   "metadata": {},
   "outputs": [],
   "source": [
    "list.__repr__"
   ]
  },
  {
   "cell_type": "code",
   "execution_count": null,
   "id": "d032607a-865b-45f3-91c0-f584d9055d9a",
   "metadata": {},
   "outputs": [],
   "source": [
    "ac1 <= ac2"
   ]
  },
  {
   "cell_type": "code",
   "execution_count": null,
   "id": "f83a472c-27a6-49ec-a79c-d5604fda3769",
   "metadata": {},
   "outputs": [],
   "source": []
  },
  {
   "cell_type": "code",
   "execution_count": null,
   "id": "0c5a2c06-bf72-4259-b2db-741322e2f7cc",
   "metadata": {},
   "outputs": [],
   "source": []
  },
  {
   "cell_type": "code",
   "execution_count": 45,
   "id": "c9340087-4c01-465d-828f-ed1de9329e10",
   "metadata": {},
   "outputs": [],
   "source": [
    "import pandas as pd"
   ]
  },
  {
   "cell_type": "code",
   "execution_count": 47,
   "id": "e2b6eecf-7d81-4bbe-9c77-92aa393f3c3c",
   "metadata": {},
   "outputs": [
    {
     "data": {
      "text/html": [
       "<div>\n",
       "<style scoped>\n",
       "    .dataframe tbody tr th:only-of-type {\n",
       "        vertical-align: middle;\n",
       "    }\n",
       "\n",
       "    .dataframe tbody tr th {\n",
       "        vertical-align: top;\n",
       "    }\n",
       "\n",
       "    .dataframe thead th {\n",
       "        text-align: right;\n",
       "    }\n",
       "</style>\n",
       "<table border=\"1\" class=\"dataframe\">\n",
       "  <thead>\n",
       "    <tr style=\"text-align: right;\">\n",
       "      <th></th>\n",
       "      <th>results</th>\n",
       "      <th>status</th>\n",
       "    </tr>\n",
       "  </thead>\n",
       "  <tbody>\n",
       "    <tr>\n",
       "      <th>0</th>\n",
       "      <td>{'address_components': [{'long_name': 'Dubai',...</td>\n",
       "      <td>OK</td>\n",
       "    </tr>\n",
       "    <tr>\n",
       "      <th>1</th>\n",
       "      <td>{'address_components': [{'long_name': 'Dubai',...</td>\n",
       "      <td>OK</td>\n",
       "    </tr>\n",
       "  </tbody>\n",
       "</table>\n",
       "</div>"
      ],
      "text/plain": [
       "                                             results status\n",
       "0  {'address_components': [{'long_name': 'Dubai',...     OK\n",
       "1  {'address_components': [{'long_name': 'Dubai',...     OK"
      ]
     },
     "execution_count": 47,
     "metadata": {},
     "output_type": "execute_result"
    }
   ],
   "source": [
    "df = pd.read_json('../data/geocode.json')\n",
    "df"
   ]
  },
  {
   "cell_type": "code",
   "execution_count": 48,
   "id": "bcffec95-5b7f-4a3d-ae03-e60e723ccaab",
   "metadata": {},
   "outputs": [
    {
     "data": {
      "text/plain": [
       "{'address_components': [{'long_name': 'Dubai',\n",
       "   'short_name': 'Dubai',\n",
       "   'types': ['administrative_area_level_1', 'political']},\n",
       "  {'long_name': 'United Arab Emirates',\n",
       "   'short_name': 'AE',\n",
       "   'types': ['country', 'political']}],\n",
       " 'formatted_address': 'Sheikh Mohamed Bin Zayed Road (E311), Exit 60,Muhaisanah 2 - Dubai - United Arab Emirates',\n",
       " 'geometry': {'location': {'lat': 25.258679, 'lng': 55.410943},\n",
       "  'location_type': 'GEOMETRIC_CENTER',\n",
       "  'viewport': {'northeast': {'lat': 25.2600279802915,\n",
       "    'lng': 55.41229198029149},\n",
       "   'southwest': {'lat': 25.2573300197085, 'lng': 55.4095940197085}}},\n",
       " 'place_id': 'ChIJocpip3FeXz4RbMBhekhoTrI',\n",
       " 'types': ['establishment', 'point_of_interest']}"
      ]
     },
     "execution_count": 48,
     "metadata": {},
     "output_type": "execute_result"
    }
   ],
   "source": [
    "df.iloc[0,0]"
   ]
  },
  {
   "cell_type": "code",
   "execution_count": 58,
   "id": "d858b521-54e4-42ac-b5d4-fb7684c51d7f",
   "metadata": {},
   "outputs": [
    {
     "data": {
      "text/plain": [
       "'__main__'"
      ]
     },
     "execution_count": 58,
     "metadata": {},
     "output_type": "execute_result"
    }
   ],
   "source": [
    "__name__"
   ]
  },
  {
   "cell_type": "code",
   "execution_count": null,
   "id": "df250dc0-fb54-4c4b-a22e-a5265af69f34",
   "metadata": {},
   "outputs": [],
   "source": []
  },
  {
   "cell_type": "code",
   "execution_count": null,
   "id": "4fcbeab4-1253-4c8f-9ebb-c09dd8f720b7",
   "metadata": {},
   "outputs": [],
   "source": []
  }
 ],
 "metadata": {
  "kernelspec": {
   "display_name": "Python 3 (ipykernel)",
   "language": "python",
   "name": "python3"
  },
  "language_info": {
   "codemirror_mode": {
    "name": "ipython",
    "version": 3
   },
   "file_extension": ".py",
   "mimetype": "text/x-python",
   "name": "python",
   "nbconvert_exporter": "python",
   "pygments_lexer": "ipython3",
   "version": "3.11.0"
  }
 },
 "nbformat": 4,
 "nbformat_minor": 5
}
