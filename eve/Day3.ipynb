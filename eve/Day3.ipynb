{
 "cells": [
  {
   "cell_type": "markdown",
   "id": "20ffd4ee-1368-4325-8781-e2c1637a27d2",
   "metadata": {},
   "source": [
    "### Instructions for cloning repo\n",
    "\n",
    "1. Open Anaconda Prompt\n",
    "2. Run `conda install git`\n",
    "3. Run `git` command. It should not show as 'No such command ..'\n",
    "4. Clone the repo : `git clone https://github.com/py-train/npci-hyd`"
   ]
  },
  {
   "cell_type": "code",
   "execution_count": 1,
   "id": "73466792-6b16-4a1e-b85e-20faf85a91f1",
   "metadata": {},
   "outputs": [],
   "source": [
    "piggybank = [1, 1, 2, 5, 1, 2, 10, 10, 2, 5, 1]"
   ]
  },
  {
   "cell_type": "code",
   "execution_count": null,
   "id": "64bdcfe3-d178-46ab-9506-cb85ecb18df9",
   "metadata": {},
   "outputs": [],
   "source": [
    "{1 : 4,\n",
    "2 : 3,\n",
    "5 : 1 ,\n",
    "10 : 2}"
   ]
  },
  {
   "cell_type": "code",
   "execution_count": 6,
   "id": "28523386-1f1d-4b4d-990e-7ad0cc3e61b4",
   "metadata": {},
   "outputs": [],
   "source": [
    "coin_count = {1: 0, 2: 0, 5: 0, 10: 0}\n",
    "\n",
    "for coin in piggybank:\n",
    "    coin_count[coin] += 1"
   ]
  },
  {
   "cell_type": "code",
   "execution_count": 7,
   "id": "6139ca82-34c1-4792-8eb4-ed7b1ca7524b",
   "metadata": {},
   "outputs": [
    {
     "data": {
      "text/plain": [
       "{1: 4, 2: 3, 5: 2, 10: 2}"
      ]
     },
     "execution_count": 7,
     "metadata": {},
     "output_type": "execute_result"
    }
   ],
   "source": [
    "coin_count"
   ]
  },
  {
   "cell_type": "code",
   "execution_count": null,
   "id": "9b9bb544-e2bf-4eba-8036-69e8003d3612",
   "metadata": {},
   "outputs": [],
   "source": []
  },
  {
   "cell_type": "code",
   "execution_count": 11,
   "id": "b30004c7-7ece-4d68-a46e-52d3048fa304",
   "metadata": {},
   "outputs": [],
   "source": [
    "coin_count = {}\n",
    "\n",
    "for coin in piggybank:\n",
    "    if coin in coin_count:\n",
    "        coin_count[coin] = coin_count[coin] + 1\n",
    "    else:\n",
    "        coin_count[coin] = 1"
   ]
  },
  {
   "cell_type": "code",
   "execution_count": 12,
   "id": "e6e82319-0eb4-4f54-9d68-da6d71fcc8fc",
   "metadata": {},
   "outputs": [
    {
     "data": {
      "text/plain": [
       "{1: 4, 2: 3, 5: 2, 10: 2}"
      ]
     },
     "execution_count": 12,
     "metadata": {},
     "output_type": "execute_result"
    }
   ],
   "source": [
    "coin_count"
   ]
  },
  {
   "cell_type": "markdown",
   "id": "89f2e46f-f197-4f78-9877-6a563da532c5",
   "metadata": {},
   "source": [
    "## File I/O"
   ]
  },
  {
   "cell_type": "code",
   "execution_count": 13,
   "id": "b9265744-234a-4cbf-b78e-88b9584ccaac",
   "metadata": {},
   "outputs": [],
   "source": [
    "fpath = r'/Users/ashishgulati/Train/npci/npci-hyd/data/alice.txt'"
   ]
  },
  {
   "cell_type": "code",
   "execution_count": 20,
   "id": "e9aca489-a1f1-4d3c-bd5f-35b1d5d3b81c",
   "metadata": {},
   "outputs": [
    {
     "data": {
      "text/plain": [
       "<_io.TextIOWrapper name='/Users/ashishgulati/Train/npci/npci-hyd/data/alice.txt' mode='r' encoding='utf-8'>"
      ]
     },
     "execution_count": 20,
     "metadata": {},
     "output_type": "execute_result"
    }
   ],
   "source": [
    "f = open(fpath, encoding='utf-8')\n",
    "f"
   ]
  },
  {
   "cell_type": "code",
   "execution_count": 17,
   "id": "3cdec0c5-2616-4edf-93f0-ebcda23c91a7",
   "metadata": {},
   "outputs": [
    {
     "data": {
      "text/plain": [
       "_io.TextIOWrapper"
      ]
     },
     "execution_count": 17,
     "metadata": {},
     "output_type": "execute_result"
    }
   ],
   "source": [
    "type(f)"
   ]
  },
  {
   "cell_type": "code",
   "execution_count": 19,
   "id": "19ef5282-2b82-44db-80e4-39bcf35313a8",
   "metadata": {},
   "outputs": [
    {
     "data": {
      "text/plain": [
       "True"
      ]
     },
     "execution_count": 19,
     "metadata": {},
     "output_type": "execute_result"
    }
   ],
   "source": [
    "f.close()\n",
    "f.closed"
   ]
  },
  {
   "cell_type": "code",
   "execution_count": 21,
   "id": "09f23180-7fe1-42ee-bb41-d9d6f439079f",
   "metadata": {},
   "outputs": [
    {
     "data": {
      "text/plain": [
       "True"
      ]
     },
     "execution_count": 21,
     "metadata": {},
     "output_type": "execute_result"
    }
   ],
   "source": [
    "f.readable()"
   ]
  },
  {
   "cell_type": "code",
   "execution_count": 26,
   "id": "17defc3e-46c2-4c27-b6c8-4c37f42ca344",
   "metadata": {},
   "outputs": [
    {
     "data": {
      "text/plain": [
       "'whatsoever. You may copy it, give it away or re-use it under the terms\\n'"
      ]
     },
     "execution_count": 26,
     "metadata": {},
     "output_type": "execute_result"
    }
   ],
   "source": [
    "f.readline()"
   ]
  },
  {
   "cell_type": "code",
   "execution_count": 27,
   "id": "a7e32a28-2f0c-413c-9660-c69064c87103",
   "metadata": {},
   "outputs": [
    {
     "data": {
      "text/plain": [
       "['of the Project Gutenberg License included with this ebook or online\\n',\n",
       " 'at www.gutenberg.org. If you are not located in the United States,\\n',\n",
       " 'you will have to check the laws of the country where you are located\\n']"
      ]
     },
     "execution_count": 27,
     "metadata": {},
     "output_type": "execute_result"
    }
   ],
   "source": [
    "f.readlines(200)"
   ]
  },
  {
   "cell_type": "code",
   "execution_count": 28,
   "id": "79addf9d-5091-4dcc-b3fb-b07da06e55b9",
   "metadata": {},
   "outputs": [
    {
     "data": {
      "text/plain": [
       "['before using this eBook.\\n',\n",
       " '\\n',\n",
       " \"Title: Alice's Adventures in Wonderland\\n\",\n",
       " '\\n',\n",
       " 'Author: Lewis Carroll\\n',\n",
       " '\\n',\n",
       " 'Release date: June 27, 2008 [eBook #11]\\n',\n",
       " '                Most recently updated: November 10, 2024\\n',\n",
       " '\\n',\n",
       " 'Language: English\\n']"
      ]
     },
     "execution_count": 28,
     "metadata": {},
     "output_type": "execute_result"
    }
   ],
   "source": [
    "lines = f.readlines(200)\n",
    "lines"
   ]
  },
  {
   "cell_type": "code",
   "execution_count": 29,
   "id": "b798fdf7-4499-4fa1-94fd-d1f2a5b50455",
   "metadata": {},
   "outputs": [
    {
     "data": {
      "text/plain": [
       "\"\\nCredits: Arthur DiBianca and David Widger\\n\\n\\n*** START OF THE PROJECT GUTENBERG EBOOK ALICE'S ADVENTURES IN WONDERLAND ***\\n[Illustration]\\n\\n\\n\\n\\nAlice’s Adventures in Wonderland\\n\\nby Lewis Carroll\\n\\nTHE MI\""
      ]
     },
     "execution_count": 29,
     "metadata": {},
     "output_type": "execute_result"
    }
   ],
   "source": [
    "f.read(200)"
   ]
  },
  {
   "cell_type": "code",
   "execution_count": 38,
   "id": "9803bb75-597f-4d33-b059-40aab0b7586a",
   "metadata": {},
   "outputs": [],
   "source": [
    "for line in f:\n",
    "    # print(line.strip())\n",
    "    print(line, end='')"
   ]
  },
  {
   "cell_type": "code",
   "execution_count": 32,
   "id": "391cce5d-ed8d-4524-96a2-607c787cf15e",
   "metadata": {},
   "outputs": [
    {
     "data": {
      "text/plain": [
       "[]"
      ]
     },
     "execution_count": 32,
     "metadata": {},
     "output_type": "execute_result"
    }
   ],
   "source": [
    "f.readlines()"
   ]
  },
  {
   "cell_type": "code",
   "execution_count": 33,
   "id": "f67c580d-9d8a-462b-bccc-401f94066d40",
   "metadata": {},
   "outputs": [
    {
     "data": {
      "text/plain": [
       "174357"
      ]
     },
     "execution_count": 33,
     "metadata": {},
     "output_type": "execute_result"
    }
   ],
   "source": [
    "f.tell()"
   ]
  },
  {
   "cell_type": "code",
   "execution_count": 36,
   "id": "f076beaa-a80d-44a3-a3ae-67e56e790b8c",
   "metadata": {},
   "outputs": [
    {
     "data": {
      "text/plain": [
       "0"
      ]
     },
     "execution_count": 36,
     "metadata": {},
     "output_type": "execute_result"
    }
   ],
   "source": [
    "f.seek(0)"
   ]
  },
  {
   "cell_type": "code",
   "execution_count": null,
   "id": "97f7e9e8-c38e-4013-9269-a78034dd7a42",
   "metadata": {},
   "outputs": [],
   "source": [
    "fpath = r'/Users/ashishgulati/Train/npci/npci-hyd/data/alice.txt'\n",
    "f = open(fpath, encoding='utf-8')\n",
    "\n",
    "for line in f:\n",
    "    "
   ]
  },
  {
   "cell_type": "code",
   "execution_count": 41,
   "id": "5e7b918e-a2b1-4835-933a-7cfe31e378f4",
   "metadata": {},
   "outputs": [
    {
     "data": {
      "text/plain": [
       "3757"
      ]
     },
     "execution_count": 41,
     "metadata": {},
     "output_type": "execute_result"
    }
   ],
   "source": [
    "# 1. Calculate number of lines of the file: 3757\n",
    "fpath = r'/Users/ashishgulati/Train/npci/npci-hyd/data/alice.txt'\n",
    "f = open(fpath, encoding='utf-8')\n",
    "\n",
    "nlines = 0\n",
    "\n",
    "for line in f:\n",
    "    nlines += 1\n",
    "\n",
    "nlines"
   ]
  },
  {
   "cell_type": "code",
   "execution_count": null,
   "id": "b59f78d4-35e3-4eeb-9b3d-78d701cd241b",
   "metadata": {},
   "outputs": [],
   "source": [
    "# 2. Calculate number of words of the file : 29564"
   ]
  },
  {
   "cell_type": "code",
   "execution_count": 40,
   "id": "8ec92191-8cd0-48af-943c-0cc7e5dfff3c",
   "metadata": {},
   "outputs": [
    {
     "data": {
      "text/plain": [
       "9"
      ]
     },
     "execution_count": 40,
     "metadata": {},
     "output_type": "execute_result"
    }
   ],
   "source": [
    "line = \"The Project Gutenberg eBook of Alice's Adventures in Wonderland\"\n",
    "len(line.split())"
   ]
  },
  {
   "cell_type": "code",
   "execution_count": 49,
   "id": "a3afa700-226b-47c8-84c8-24ca208e51f7",
   "metadata": {},
   "outputs": [
    {
     "data": {
      "text/plain": [
       "403"
      ]
     },
     "execution_count": 49,
     "metadata": {},
     "output_type": "execute_result"
    }
   ],
   "source": [
    "# 3. Count of 'Alice' in the file : 403, 220\n",
    "\n",
    "fpath = r'/Users/ashishgulati/Train/npci/npci-hyd/data/alice.txt'\n",
    "f = open(fpath, encoding='utf-8')\n",
    "\n",
    "count = 0\n",
    "\n",
    "for line in f:\n",
    "    count += line.lower().count('alice')\n",
    "\n",
    "count"
   ]
  },
  {
   "cell_type": "code",
   "execution_count": 42,
   "id": "a6807bd7-ceb4-47ff-9b23-8e3aa8171191",
   "metadata": {},
   "outputs": [
    {
     "data": {
      "text/plain": [
       "[\"Alice's\", 'adeventures.', 'Alice!', 'Alice', 'ALICE']"
      ]
     },
     "execution_count": 42,
     "metadata": {},
     "output_type": "execute_result"
    }
   ],
   "source": [
    "line = \"Alice's adeventures. Alice! Alice ALICE\"\n",
    "line.split()"
   ]
  },
  {
   "cell_type": "code",
   "execution_count": 45,
   "id": "5be8881e-28fb-42c6-82dc-dd29d7be3897",
   "metadata": {},
   "outputs": [
    {
     "data": {
      "text/plain": [
       "4"
      ]
     },
     "execution_count": 45,
     "metadata": {},
     "output_type": "execute_result"
    }
   ],
   "source": [
    "count = 0\n",
    "for word in line.split():\n",
    "    if 'alice' in word.lower():\n",
    "        count += 1\n",
    "\n",
    "count"
   ]
  },
  {
   "cell_type": "code",
   "execution_count": 46,
   "id": "6944258a-b7d6-4ef8-b398-8257e8608c44",
   "metadata": {},
   "outputs": [
    {
     "data": {
      "text/plain": [
       "4"
      ]
     },
     "execution_count": 46,
     "metadata": {},
     "output_type": "execute_result"
    }
   ],
   "source": [
    "count = 0\n",
    "for word in line.lower().split():\n",
    "    if 'alice' in word:\n",
    "        count += 1\n",
    "\n",
    "count"
   ]
  },
  {
   "cell_type": "code",
   "execution_count": 48,
   "id": "991b4a2c-2aa5-4ed0-9082-d6b15c140a74",
   "metadata": {},
   "outputs": [
    {
     "data": {
      "text/plain": [
       "4"
      ]
     },
     "execution_count": 48,
     "metadata": {},
     "output_type": "execute_result"
    }
   ],
   "source": [
    "line = \"Alice's adeventures. Alice! Alice ALICE\"\n",
    "line.count('Alice')\n",
    "line.lower().count('alice')"
   ]
  },
  {
   "cell_type": "code",
   "execution_count": 50,
   "id": "75d76ce6-68d4-49bf-a6c8-5aa11ccd6d3d",
   "metadata": {},
   "outputs": [],
   "source": [
    "characters = 'Queen King Rabbit Hatter Cat'.split()"
   ]
  },
  {
   "cell_type": "code",
   "execution_count": null,
   "id": "bd9ef980-2641-4445-90e0-f8d00d1e0ba1",
   "metadata": {},
   "outputs": [],
   "source": [
    "{\n",
    "    'Queen': 121,\n",
    "    'King': 71,\n",
    "}"
   ]
  },
  {
   "cell_type": "markdown",
   "id": "3fbffc84-5fce-45ac-b53a-074dc2059797",
   "metadata": {},
   "source": [
    "### Functions"
   ]
  },
  {
   "cell_type": "code",
   "execution_count": 51,
   "id": "7d6951e7-e16f-4624-b86a-7eab6d5c6cfd",
   "metadata": {},
   "outputs": [],
   "source": [
    "def square(num):\n",
    "    ...\n",
    "    ...\n",
    "    return num**2"
   ]
  },
  {
   "cell_type": "code",
   "execution_count": 52,
   "id": "a3977bf2-5864-4663-8019-fb77f81c7e5a",
   "metadata": {},
   "outputs": [
    {
     "data": {
      "text/plain": [
       "100"
      ]
     },
     "execution_count": 52,
     "metadata": {},
     "output_type": "execute_result"
    }
   ],
   "source": [
    "square(10)"
   ]
  },
  {
   "cell_type": "code",
   "execution_count": 57,
   "id": "72a96d8a-bc22-49f8-ace6-7f7ffeb144d6",
   "metadata": {},
   "outputs": [],
   "source": [
    "def word_count(fpath, keyword):\n",
    "    '''Count of keyword in a file\n",
    "    (Case insensitive)\n",
    "    '''\n",
    "    f = open(fpath, encoding='utf-8')\n",
    "    \n",
    "    count = 0\n",
    "    \n",
    "    for line in f:\n",
    "        count += line.lower().count(keyword.lower())\n",
    "    \n",
    "    return count"
   ]
  },
  {
   "cell_type": "code",
   "execution_count": 58,
   "id": "e9199584-76d6-49c8-b767-c18ad779d31f",
   "metadata": {},
   "outputs": [
    {
     "data": {
      "text/plain": [
       "403"
      ]
     },
     "execution_count": 58,
     "metadata": {},
     "output_type": "execute_result"
    }
   ],
   "source": [
    "word_count(fpath, 'Alice')"
   ]
  },
  {
   "cell_type": "code",
   "execution_count": 59,
   "id": "cec2e048-09bd-4588-90ea-d205865fd742",
   "metadata": {},
   "outputs": [
    {
     "data": {
      "text/plain": [
       "{'Queen': 77, 'King': 179, 'Rabbit': 54, 'Hatter': 57, 'Cat': 103}"
      ]
     },
     "execution_count": 59,
     "metadata": {},
     "output_type": "execute_result"
    }
   ],
   "source": [
    "char_counts = {}\n",
    "\n",
    "for char in characters:\n",
    "    count = word_count(fpath, char)\n",
    "    char_counts[char] = count\n",
    "\n",
    "char_counts"
   ]
  },
  {
   "cell_type": "code",
   "execution_count": 60,
   "id": "111651e7-5425-4499-9b05-30028e07a3f7",
   "metadata": {},
   "outputs": [],
   "source": [
    "import csv"
   ]
  },
  {
   "cell_type": "code",
   "execution_count": 93,
   "id": "92d29111-ab3a-45f4-b25c-ee6181bd45ed",
   "metadata": {},
   "outputs": [
    {
     "name": "stdout",
     "output_type": "stream",
     "text": [
      "['16.99', '1.01', 'Female', 'No', 'Sun', 'Dinner', '2']\n",
      "['10.34', '1.66', 'Male', 'No', 'Sun', 'Dinner', '3']\n",
      "['21.01', '3.5', 'Male', 'No', 'Sun', 'Dinner', '3']\n",
      "['23.68', '3.31', 'Male', 'No', 'Sun', 'Dinner', '2']\n",
      "['24.59', '3.61', 'Female', 'No', 'Sun', 'Dinner', '4']\n",
      "['25.29', '4.71', 'Male', 'No', 'Sun', 'Dinner', '4']\n",
      "['8.77', '2', 'Male', 'No', 'Sun', 'Dinner', '2']\n",
      "['26.88', '3.12', 'Male', 'No', 'Sun', 'Dinner', '4']\n",
      "['15.04', '1.96', 'Male', 'No', 'Sun', 'Dinner', '2']\n",
      "['14.78', '3.23', 'Male', 'No', 'Sun', 'Dinner', '2']\n",
      "['10.27', '1.71', 'Male', 'No', 'Sun', 'Dinner', '2']\n",
      "['35.26', '5', 'Female', 'No', 'Sun', 'Dinner', '4']\n",
      "['15.42', '1.57', 'Male', 'No', 'Sun', 'Dinner', '2']\n",
      "['18.43', '3', 'Male', 'No', 'Sun', 'Dinner', '4']\n",
      "['14.83', '3.02', 'Female', 'No', 'Sun', 'Dinner', '2']\n",
      "['21.58', '3.92', 'Male', 'No', 'Sun', 'Dinner', '2']\n",
      "['10.33', '1.67', 'Female', 'No', 'Sun', 'Dinner', '3']\n",
      "['16.29', '3.71', 'Male', 'No', 'Sun', 'Dinner', '3']\n",
      "['16.97', '3.5', 'Female', 'No', 'Sun', 'Dinner', '3']\n",
      "['20.65', '3.35', 'Male', 'No', 'Sat', 'Dinner', '3']\n",
      "['17.92', '4.08', 'Male', 'No', 'Sat', 'Dinner', '2']\n",
      "['20.29', '2.75', 'Female', 'No', 'Sat', 'Dinner', '2']\n",
      "['15.77', '2.23', 'Female', 'No', 'Sat', 'Dinner', '2']\n",
      "['39.42', '7.58', 'Male', 'No', 'Sat', 'Dinner', '4']\n",
      "['19.82', '3.18', 'Male', 'No', 'Sat', 'Dinner', '2']\n",
      "['17.81', '2.34', 'Male', 'No', 'Sat', 'Dinner', '4']\n",
      "['13.37', '2', 'Male', 'No', 'Sat', 'Dinner', '2']\n",
      "['12.69', '2', 'Male', 'No', 'Sat', 'Dinner', '2']\n",
      "['21.7', '4.3', 'Male', 'No', 'Sat', 'Dinner', '2']\n",
      "['19.65', '3', 'Female', 'No', 'Sat', 'Dinner', '2']\n",
      "['9.55', '1.45', 'Male', 'No', 'Sat', 'Dinner', '2']\n",
      "['18.35', '2.5', 'Male', 'No', 'Sat', 'Dinner', '4']\n",
      "['15.06', '3', 'Female', 'No', 'Sat', 'Dinner', '2']\n",
      "['20.69', '2.45', 'Female', 'No', 'Sat', 'Dinner', '4']\n",
      "['17.78', '3.27', 'Male', 'No', 'Sat', 'Dinner', '2']\n",
      "['24.06', '3.6', 'Male', 'No', 'Sat', 'Dinner', '3']\n",
      "['16.31', '2', 'Male', 'No', 'Sat', 'Dinner', '3']\n",
      "['16.93', '3.07', 'Female', 'No', 'Sat', 'Dinner', '3']\n",
      "['18.69', '2.31', 'Male', 'No', 'Sat', 'Dinner', '3']\n",
      "['31.27', '5', 'Male', 'No', 'Sat', 'Dinner', '3']\n",
      "['16.04', '2.24', 'Male', 'No', 'Sat', 'Dinner', '3']\n",
      "['17.46', '2.54', 'Male', 'No', 'Sun', 'Dinner', '2']\n",
      "['13.94', '3.06', 'Male', 'No', 'Sun', 'Dinner', '2']\n",
      "['9.68', '1.32', 'Male', 'No', 'Sun', 'Dinner', '2']\n",
      "['30.4', '5.6', 'Male', 'No', 'Sun', 'Dinner', '4']\n",
      "['18.29', '3', 'Male', 'No', 'Sun', 'Dinner', '2']\n",
      "['22.23', '5', 'Male', 'No', 'Sun', 'Dinner', '2']\n",
      "['32.4', '6', 'Male', 'No', 'Sun', 'Dinner', '4']\n",
      "['28.55', '2.05', 'Male', 'No', 'Sun', 'Dinner', '3']\n",
      "['18.04', '3', 'Male', 'No', 'Sun', 'Dinner', '2']\n",
      "['12.54', '2.5', 'Male', 'No', 'Sun', 'Dinner', '2']\n",
      "['10.29', '2.6', 'Female', 'No', 'Sun', 'Dinner', '2']\n",
      "['34.81', '5.2', 'Female', 'No', 'Sun', 'Dinner', '4']\n",
      "['9.94', '1.56', 'Male', 'No', 'Sun', 'Dinner', '2']\n",
      "['25.56', '4.34', 'Male', 'No', 'Sun', 'Dinner', '4']\n",
      "['19.49', '3.51', 'Male', 'No', 'Sun', 'Dinner', '2']\n",
      "['38.01', '3', 'Male', 'Yes', 'Sat', 'Dinner', '4']\n",
      "['26.41', '1.5', 'Female', 'No', 'Sat', 'Dinner', '2']\n",
      "['11.24', '1.76', 'Male', 'Yes', 'Sat', 'Dinner', '2']\n",
      "['48.27', '6.73', 'Male', 'No', 'Sat', 'Dinner', '4']\n",
      "['20.29', '3.21', 'Male', 'Yes', 'Sat', 'Dinner', '2']\n",
      "['13.81', '2', 'Male', 'Yes', 'Sat', 'Dinner', '2']\n",
      "['11.02', '1.98', 'Male', 'Yes', 'Sat', 'Dinner', '2']\n",
      "['18.29', '3.76', 'Male', 'Yes', 'Sat', 'Dinner', '4']\n",
      "['17.59', '2.64', 'Male', 'No', 'Sat', 'Dinner', '3']\n",
      "['20.08', '3.15', 'Male', 'No', 'Sat', 'Dinner', '3']\n",
      "['16.45', '2.47', 'Female', 'No', 'Sat', 'Dinner', '2']\n",
      "['3.07', '1', 'Female', 'Yes', 'Sat', 'Dinner', '1']\n",
      "['20.23', '2.01', 'Male', 'No', 'Sat', 'Dinner', '2']\n",
      "['15.01', '2.09', 'Male', 'Yes', 'Sat', 'Dinner', '2']\n",
      "['12.02', '1.97', 'Male', 'No', 'Sat', 'Dinner', '2']\n",
      "['17.07', '3', 'Female', 'No', 'Sat', 'Dinner', '3']\n",
      "['26.86', '3.14', 'Female', 'Yes', 'Sat', 'Dinner', '2']\n",
      "['25.28', '5', 'Female', 'Yes', 'Sat', 'Dinner', '2']\n",
      "['14.73', '2.2', 'Female', 'No', 'Sat', 'Dinner', '2']\n",
      "['10.51', '1.25', 'Male', 'No', 'Sat', 'Dinner', '2']\n",
      "['17.92', '3.08', 'Male', 'Yes', 'Sat', 'Dinner', '2']\n",
      "['27.2', '4', 'Male', 'No', 'Thur', 'Lunch', '4']\n",
      "['22.76', '3', 'Male', 'No', 'Thur', 'Lunch', '2']\n",
      "['17.29', '2.71', 'Male', 'No', 'Thur', 'Lunch', '2']\n",
      "['19.44', '3', 'Male', 'Yes', 'Thur', 'Lunch', '2']\n",
      "['16.66', '3.4', 'Male', 'No', 'Thur', 'Lunch', '2']\n",
      "['10.07', '1.83', 'Female', 'No', 'Thur', 'Lunch', '1']\n",
      "['32.68', '5', 'Male', 'Yes', 'Thur', 'Lunch', '2']\n",
      "['15.98', '2.03', 'Male', 'No', 'Thur', 'Lunch', '2']\n",
      "['34.83', '5.17', 'Female', 'No', 'Thur', 'Lunch', '4']\n",
      "['13.03', '2', 'Male', 'No', 'Thur', 'Lunch', '2']\n",
      "['18.28', '4', 'Male', 'No', 'Thur', 'Lunch', '2']\n",
      "['24.71', '5.85', 'Male', 'No', 'Thur', 'Lunch', '2']\n",
      "['21.16', '3', 'Male', 'No', 'Thur', 'Lunch', '2']\n",
      "['28.97', '3', 'Male', 'Yes', 'Fri', 'Dinner', '2']\n",
      "['22.49', '3.5', 'Male', 'No', 'Fri', 'Dinner', '2']\n",
      "['5.75', '1', 'Female', 'Yes', 'Fri', 'Dinner', '2']\n",
      "['16.32', '4.3', 'Female', 'Yes', 'Fri', 'Dinner', '2']\n",
      "['22.75', '3.25', 'Female', 'No', 'Fri', 'Dinner', '2']\n",
      "['40.17', '4.73', 'Male', 'Yes', 'Fri', 'Dinner', '4']\n",
      "['27.28', '4', 'Male', 'Yes', 'Fri', 'Dinner', '2']\n",
      "['12.03', '1.5', 'Male', 'Yes', 'Fri', 'Dinner', '2']\n",
      "['21.01', '3', 'Male', 'Yes', 'Fri', 'Dinner', '2']\n",
      "['12.46', '1.5', 'Male', 'No', 'Fri', 'Dinner', '2']\n",
      "['11.35', '2.5', 'Female', 'Yes', 'Fri', 'Dinner', '2']\n",
      "['15.38', '3', 'Female', 'Yes', 'Fri', 'Dinner', '2']\n",
      "['44.3', '2.5', 'Female', 'Yes', 'Sat', 'Dinner', '3']\n",
      "['22.42', '3.48', 'Female', 'Yes', 'Sat', 'Dinner', '2']\n",
      "['20.92', '4.08', 'Female', 'No', 'Sat', 'Dinner', '2']\n",
      "['15.36', '1.64', 'Male', 'Yes', 'Sat', 'Dinner', '2']\n",
      "['20.49', '4.06', 'Male', 'Yes', 'Sat', 'Dinner', '2']\n",
      "['25.21', '4.29', 'Male', 'Yes', 'Sat', 'Dinner', '2']\n",
      "['18.24', '3.76', 'Male', 'No', 'Sat', 'Dinner', '2']\n",
      "['14.31', '4', 'Female', 'Yes', 'Sat', 'Dinner', '2']\n",
      "['14', '3', 'Male', 'No', 'Sat', 'Dinner', '2']\n",
      "['7.25', '1', 'Female', 'No', 'Sat', 'Dinner', '1']\n",
      "['38.07', '4', 'Male', 'No', 'Sun', 'Dinner', '3']\n",
      "['23.95', '2.55', 'Male', 'No', 'Sun', 'Dinner', '2']\n",
      "['25.71', '4', 'Female', 'No', 'Sun', 'Dinner', '3']\n",
      "['17.31', '3.5', 'Female', 'No', 'Sun', 'Dinner', '2']\n",
      "['29.93', '5.07', 'Male', 'No', 'Sun', 'Dinner', '4']\n",
      "['10.65', '1.5', 'Female', 'No', 'Thur', 'Lunch', '2']\n",
      "['12.43', '1.8', 'Female', 'No', 'Thur', 'Lunch', '2']\n",
      "['24.08', '2.92', 'Female', 'No', 'Thur', 'Lunch', '4']\n",
      "['11.69', '2.31', 'Male', 'No', 'Thur', 'Lunch', '2']\n",
      "['13.42', '1.68', 'Female', 'No', 'Thur', 'Lunch', '2']\n",
      "['14.26', '2.5', 'Male', 'No', 'Thur', 'Lunch', '2']\n",
      "['15.95', '2', 'Male', 'No', 'Thur', 'Lunch', '2']\n",
      "['12.48', '2.52', 'Female', 'No', 'Thur', 'Lunch', '2']\n",
      "['29.8', '4.2', 'Female', 'No', 'Thur', 'Lunch', '6']\n",
      "['8.52', '1.48', 'Male', 'No', 'Thur', 'Lunch', '2']\n",
      "['14.52', '2', 'Female', 'No', 'Thur', 'Lunch', '2']\n",
      "['11.38', '2', 'Female', 'No', 'Thur', 'Lunch', '2']\n",
      "['22.82', '2.18', 'Male', 'No', 'Thur', 'Lunch', '3']\n",
      "['19.08', '1.5', 'Male', 'No', 'Thur', 'Lunch', '2']\n",
      "['20.27', '2.83', 'Female', 'No', 'Thur', 'Lunch', '2']\n",
      "['11.17', '1.5', 'Female', 'No', 'Thur', 'Lunch', '2']\n",
      "['12.26', '2', 'Female', 'No', 'Thur', 'Lunch', '2']\n",
      "['18.26', '3.25', 'Female', 'No', 'Thur', 'Lunch', '2']\n",
      "['8.51', '1.25', 'Female', 'No', 'Thur', 'Lunch', '2']\n",
      "['10.33', '2', 'Female', 'No', 'Thur', 'Lunch', '2']\n",
      "['14.15', '2', 'Female', 'No', 'Thur', 'Lunch', '2']\n",
      "['16', '2', 'Male', 'Yes', 'Thur', 'Lunch', '2']\n",
      "['13.16', '2.75', 'Female', 'No', 'Thur', 'Lunch', '2']\n",
      "['17.47', '3.5', 'Female', 'No', 'Thur', 'Lunch', '2']\n",
      "['34.3', '6.7', 'Male', 'No', 'Thur', 'Lunch', '6']\n",
      "['41.19', '5', 'Male', 'No', 'Thur', 'Lunch', '5']\n",
      "['27.05', '5', 'Female', 'No', 'Thur', 'Lunch', '6']\n",
      "['16.43', '2.3', 'Female', 'No', 'Thur', 'Lunch', '2']\n",
      "['8.35', '1.5', 'Female', 'No', 'Thur', 'Lunch', '2']\n",
      "['18.64', '1.36', 'Female', 'No', 'Thur', 'Lunch', '3']\n",
      "['11.87', '1.63', 'Female', 'No', 'Thur', 'Lunch', '2']\n",
      "['9.78', '1.73', 'Male', 'No', 'Thur', 'Lunch', '2']\n",
      "['7.51', '2', 'Male', 'No', 'Thur', 'Lunch', '2']\n",
      "['14.07', '2.5', 'Male', 'No', 'Sun', 'Dinner', '2']\n",
      "['13.13', '2', 'Male', 'No', 'Sun', 'Dinner', '2']\n",
      "['17.26', '2.74', 'Male', 'No', 'Sun', 'Dinner', '3']\n",
      "['24.55', '2', 'Male', 'No', 'Sun', 'Dinner', '4']\n",
      "['19.77', '2', 'Male', 'No', 'Sun', 'Dinner', '4']\n",
      "['29.85', '5.14', 'Female', 'No', 'Sun', 'Dinner', '5']\n",
      "['48.17', '5', 'Male', 'No', 'Sun', 'Dinner', '6']\n",
      "['25', '3.75', 'Female', 'No', 'Sun', 'Dinner', '4']\n",
      "['13.39', '2.61', 'Female', 'No', 'Sun', 'Dinner', '2']\n",
      "['16.49', '2', 'Male', 'No', 'Sun', 'Dinner', '4']\n",
      "['21.5', '3.5', 'Male', 'No', 'Sun', 'Dinner', '4']\n",
      "['12.66', '2.5', 'Male', 'No', 'Sun', 'Dinner', '2']\n",
      "['16.21', '2', 'Female', 'No', 'Sun', 'Dinner', '3']\n",
      "['13.81', '2', 'Male', 'No', 'Sun', 'Dinner', '2']\n",
      "['17.51', '3', 'Female', 'Yes', 'Sun', 'Dinner', '2']\n",
      "['24.52', '3.48', 'Male', 'No', 'Sun', 'Dinner', '3']\n",
      "['20.76', '2.24', 'Male', 'No', 'Sun', 'Dinner', '2']\n",
      "['31.71', '4.5', 'Male', 'No', 'Sun', 'Dinner', '4']\n",
      "['10.59', '1.61', 'Female', 'Yes', 'Sat', 'Dinner', '2']\n",
      "['10.63', '2', 'Female', 'Yes', 'Sat', 'Dinner', '2']\n",
      "['50.81', '10', 'Male', 'Yes', 'Sat', 'Dinner', '3']\n",
      "['15.81', '3.16', 'Male', 'Yes', 'Sat', 'Dinner', '2']\n",
      "['7.25', '5.15', 'Male', 'Yes', 'Sun', 'Dinner', '2']\n",
      "['31.85', '3.18', 'Male', 'Yes', 'Sun', 'Dinner', '2']\n",
      "['16.82', '4', 'Male', 'Yes', 'Sun', 'Dinner', '2']\n",
      "['32.9', '3.11', 'Male', 'Yes', 'Sun', 'Dinner', '2']\n",
      "['17.89', '2', 'Male', 'Yes', 'Sun', 'Dinner', '2']\n",
      "['14.48', '2', 'Male', 'Yes', 'Sun', 'Dinner', '2']\n",
      "['9.6', '4', 'Female', 'Yes', 'Sun', 'Dinner', '2']\n",
      "['34.63', '3.55', 'Male', 'Yes', 'Sun', 'Dinner', '2']\n",
      "['34.65', '3.68', 'Male', 'Yes', 'Sun', 'Dinner', '4']\n",
      "['23.33', '5.65', 'Male', 'Yes', 'Sun', 'Dinner', '2']\n",
      "['45.35', '3.5', 'Male', 'Yes', 'Sun', 'Dinner', '3']\n",
      "['23.17', '6.5', 'Male', 'Yes', 'Sun', 'Dinner', '4']\n",
      "['40.55', '3', 'Male', 'Yes', 'Sun', 'Dinner', '2']\n",
      "['20.69', '5', 'Male', 'No', 'Sun', 'Dinner', '5']\n",
      "['20.9', '3.5', 'Female', 'Yes', 'Sun', 'Dinner', '3']\n",
      "['30.46', '2', 'Male', 'Yes', 'Sun', 'Dinner', '5']\n",
      "['18.15', '3.5', 'Female', 'Yes', 'Sun', 'Dinner', '3']\n",
      "['23.1', '4', 'Male', 'Yes', 'Sun', 'Dinner', '3']\n",
      "['15.69', '1.5', 'Male', 'Yes', 'Sun', 'Dinner', '2']\n",
      "['19.81', '4.19', 'Female', 'Yes', 'Thur', 'Lunch', '2']\n",
      "['28.44', '2.56', 'Male', 'Yes', 'Thur', 'Lunch', '2']\n",
      "['15.48', '2.02', 'Male', 'Yes', 'Thur', 'Lunch', '2']\n",
      "['16.58', '4', 'Male', 'Yes', 'Thur', 'Lunch', '2']\n",
      "['7.56', '1.44', 'Male', 'No', 'Thur', 'Lunch', '2']\n",
      "['10.34', '2', 'Male', 'Yes', 'Thur', 'Lunch', '2']\n",
      "['43.11', '5', 'Female', 'Yes', 'Thur', 'Lunch', '4']\n",
      "['13', '2', 'Female', 'Yes', 'Thur', 'Lunch', '2']\n",
      "['13.51', '2', 'Male', 'Yes', 'Thur', 'Lunch', '2']\n",
      "['18.71', '4', 'Male', 'Yes', 'Thur', 'Lunch', '3']\n",
      "['12.74', '2.01', 'Female', 'Yes', 'Thur', 'Lunch', '2']\n",
      "['13', '2', 'Female', 'Yes', 'Thur', 'Lunch', '2']\n",
      "['16.4', '2.5', 'Female', 'Yes', 'Thur', 'Lunch', '2']\n",
      "['20.53', '4', 'Male', 'Yes', 'Thur', 'Lunch', '4']\n",
      "['16.47', '3.23', 'Female', 'Yes', 'Thur', 'Lunch', '3']\n",
      "['26.59', '3.41', 'Male', 'Yes', 'Sat', 'Dinner', '3']\n",
      "['38.73', '3', 'Male', 'Yes', 'Sat', 'Dinner', '4']\n",
      "['24.27', '2.03', 'Male', 'Yes', 'Sat', 'Dinner', '2']\n",
      "['12.76', '2.23', 'Female', 'Yes', 'Sat', 'Dinner', '2']\n",
      "['30.06', '2', 'Male', 'Yes', 'Sat', 'Dinner', '3']\n",
      "['25.89', '5.16', 'Male', 'Yes', 'Sat', 'Dinner', '4']\n",
      "['48.33', '9', 'Male', 'No', 'Sat', 'Dinner', '4']\n",
      "['13.27', '2.5', 'Female', 'Yes', 'Sat', 'Dinner', '2']\n",
      "['28.17', '6.5', 'Female', 'Yes', 'Sat', 'Dinner', '3']\n",
      "['12.9', '1.1', 'Female', 'Yes', 'Sat', 'Dinner', '2']\n",
      "['28.15', '3', 'Male', 'Yes', 'Sat', 'Dinner', '5']\n",
      "['11.59', '1.5', 'Male', 'Yes', 'Sat', 'Dinner', '2']\n",
      "['7.74', '1.44', 'Male', 'Yes', 'Sat', 'Dinner', '2']\n",
      "['30.14', '3.09', 'Female', 'Yes', 'Sat', 'Dinner', '4']\n",
      "['12.16', '2.2', 'Male', 'Yes', 'Fri', 'Lunch', '2']\n",
      "['13.42', '3.48', 'Female', 'Yes', 'Fri', 'Lunch', '2']\n",
      "['8.58', '1.92', 'Male', 'Yes', 'Fri', 'Lunch', '1']\n",
      "['15.98', '3', 'Female', 'No', 'Fri', 'Lunch', '3']\n",
      "['13.42', '1.58', 'Male', 'Yes', 'Fri', 'Lunch', '2']\n",
      "['16.27', '2.5', 'Female', 'Yes', 'Fri', 'Lunch', '2']\n",
      "['10.09', '2', 'Female', 'Yes', 'Fri', 'Lunch', '2']\n",
      "['20.45', '3', 'Male', 'No', 'Sat', 'Dinner', '4']\n",
      "['13.28', '2.72', 'Male', 'No', 'Sat', 'Dinner', '2']\n",
      "['22.12', '2.88', 'Female', 'Yes', 'Sat', 'Dinner', '2']\n",
      "['24.01', '2', 'Male', 'Yes', 'Sat', 'Dinner', '4']\n",
      "['15.69', '3', 'Male', 'Yes', 'Sat', 'Dinner', '3']\n",
      "['11.61', '3.39', 'Male', 'No', 'Sat', 'Dinner', '2']\n",
      "['10.77', '1.47', 'Male', 'No', 'Sat', 'Dinner', '2']\n",
      "['15.53', '3', 'Male', 'Yes', 'Sat', 'Dinner', '2']\n",
      "['10.07', '1.25', 'Male', 'No', 'Sat', 'Dinner', '2']\n",
      "['12.6', '1', 'Male', 'Yes', 'Sat', 'Dinner', '2']\n",
      "['32.83', '1.17', 'Male', 'Yes', 'Sat', 'Dinner', '2']\n",
      "['35.83', '4.67', 'Female', 'No', 'Sat', 'Dinner', '3']\n",
      "['29.03', '5.92', 'Male', 'No', 'Sat', 'Dinner', '3']\n",
      "['27.18', '2', 'Female', 'Yes', 'Sat', 'Dinner', '2']\n",
      "['22.67', '2', 'Male', 'Yes', 'Sat', 'Dinner', '2']\n",
      "['17.82', '1.75', 'Male', 'No', 'Sat', 'Dinner', '2']\n",
      "['18.78', '3', 'Female', 'No', 'Thur', 'Dinner', '2']\n"
     ]
    }
   ],
   "source": [
    "fpath = r'../data/tips.csv'\n",
    "f = open(fpath)\n",
    "reader = csv.reader(f)\n",
    "\n",
    "next(reader)\n",
    "\n",
    "for row in reader:\n",
    "    print(row)"
   ]
  },
  {
   "cell_type": "code",
   "execution_count": 61,
   "id": "c22e6919-0917-423e-8a3c-affbf7961718",
   "metadata": {},
   "outputs": [
    {
     "data": {
      "text/plain": [
       "<module 'csv' from '/opt/anaconda3/lib/python3.11/csv.py'>"
      ]
     },
     "execution_count": 61,
     "metadata": {},
     "output_type": "execute_result"
    }
   ],
   "source": [
    "csv"
   ]
  },
  {
   "cell_type": "code",
   "execution_count": 91,
   "id": "5d44ff84-0d2a-42fe-aa2e-ccc3d245ba2f",
   "metadata": {},
   "outputs": [
    {
     "data": {
      "text/plain": [
       "{'Male': 485.0700000000001, 'Female': 246.51}"
      ]
     },
     "execution_count": 91,
     "metadata": {},
     "output_type": "execute_result"
    }
   ],
   "source": [
    "fpath = r'../data/tips.csv'\n",
    "f = open(fpath)\n",
    "reader = csv.reader(f)\n",
    "\n",
    "# _ = next(reader)\n",
    "# header = next(reader)\n",
    "next(reader)\n",
    "\n",
    "# total_tip = 0\n",
    "tip_by_sex = {\n",
    "    'Male': 0,\n",
    "    'Female': 0\n",
    "}\n",
    "\n",
    "for row in reader:\n",
    "    # print(float(row[1]), row[2])\n",
    "    tip, sex = float(row[1]), row[2]\n",
    "    # total_tip += tip\n",
    "    # if sex == 'Male':\n",
    "    #     tip_by_sex[sex] += tip\n",
    "    # elif sex == 'Female':\n",
    "    #     tip_by_sex[sex] += tip\n",
    "    tip_by_sex[sex] += tip\n",
    "\n",
    "# total_tip\n",
    "tip_by_sex"
   ]
  },
  {
   "cell_type": "code",
   "execution_count": null,
   "id": "18cf9c78-fb76-4d84-bb93-be1896dad828",
   "metadata": {},
   "outputs": [],
   "source": [
    "row = ['16.99', '1.01', 'Female', 'No', 'Sun', 'Dinner', '2']\n",
    "\n"
   ]
  },
  {
   "cell_type": "markdown",
   "id": "8a666dc5-16a0-4737-82ee-a4e76e1f2fe5",
   "metadata": {},
   "source": [
    "### Iterator Protocol"
   ]
  },
  {
   "cell_type": "code",
   "execution_count": 71,
   "id": "ae980c8b-8d4c-4edd-b5d8-d10478d825a7",
   "metadata": {},
   "outputs": [
    {
     "name": "stdout",
     "output_type": "stream",
     "text": [
      "1\n",
      "2\n",
      "3\n",
      "4\n"
     ]
    }
   ],
   "source": [
    "nums = [1,2,3,4]\n",
    "for num in nums:\n",
    "    print(num)"
   ]
  },
  {
   "cell_type": "code",
   "execution_count": 94,
   "id": "fb6d4564-e94c-4acd-8fb8-811771671b66",
   "metadata": {},
   "outputs": [],
   "source": [
    "nums_iterator = iter(nums)"
   ]
  },
  {
   "cell_type": "code",
   "execution_count": 80,
   "id": "13c75ae3-0081-493d-ad84-7527b1eb479b",
   "metadata": {},
   "outputs": [
    {
     "data": {
      "text/plain": [
       "2"
      ]
     },
     "execution_count": 80,
     "metadata": {},
     "output_type": "execute_result"
    }
   ],
   "source": [
    "next(nums_iterator)"
   ]
  },
  {
   "cell_type": "code",
   "execution_count": 81,
   "id": "0c5d3e8c-1c27-463d-8c7e-85a4414b3acb",
   "metadata": {},
   "outputs": [
    {
     "name": "stdout",
     "output_type": "stream",
     "text": [
      "3\n",
      "4\n"
     ]
    }
   ],
   "source": [
    "for num in nums_iterator:\n",
    "    print(num)"
   ]
  },
  {
   "cell_type": "code",
   "execution_count": 95,
   "id": "577c08ed-e88e-4710-bd88-8e97f8d90cff",
   "metadata": {},
   "outputs": [
    {
     "data": {
      "text/plain": [
       "<list_iterator at 0x105736d10>"
      ]
     },
     "execution_count": 95,
     "metadata": {},
     "output_type": "execute_result"
    }
   ],
   "source": [
    "nums_iterator"
   ]
  },
  {
   "cell_type": "code",
   "execution_count": null,
   "id": "488bc6d4-99af-48d9-bf7a-bb55ec612e04",
   "metadata": {},
   "outputs": [],
   "source": []
  }
 ],
 "metadata": {
  "kernelspec": {
   "display_name": "Python 3 (ipykernel)",
   "language": "python",
   "name": "python3"
  },
  "language_info": {
   "codemirror_mode": {
    "name": "ipython",
    "version": 3
   },
   "file_extension": ".py",
   "mimetype": "text/x-python",
   "name": "python",
   "nbconvert_exporter": "python",
   "pygments_lexer": "ipython3",
   "version": "3.11.0"
  }
 },
 "nbformat": 4,
 "nbformat_minor": 5
}
