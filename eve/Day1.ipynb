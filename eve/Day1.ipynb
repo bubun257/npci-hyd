{
 "cells": [
  {
   "cell_type": "markdown",
   "id": "8f45ee62-5186-4f7b-9392-32e3de186e0c",
   "metadata": {},
   "source": [
    "# Python attributes\n",
    "\n",
    "- Interpreted\n",
    "- Implicitly typed\n",
    "- Dynamic"
   ]
  },
  {
   "cell_type": "code",
   "execution_count": 3,
   "id": "631afb7e-5d74-4235-bb20-06312b766671",
   "metadata": {},
   "outputs": [],
   "source": [
    "price = 123.45\n",
    "count = 7\n",
    "item = 'cookies'"
   ]
  },
  {
   "cell_type": "code",
   "execution_count": 4,
   "id": "0e17b537-adce-431a-97eb-d3dcc02f3b42",
   "metadata": {},
   "outputs": [
    {
     "data": {
      "text/plain": [
       "float"
      ]
     },
     "execution_count": 4,
     "metadata": {},
     "output_type": "execute_result"
    }
   ],
   "source": [
    "type(price)"
   ]
  },
  {
   "cell_type": "code",
   "execution_count": 5,
   "id": "a9b5152b-f9d2-479d-9ec3-d2b2454cd378",
   "metadata": {},
   "outputs": [
    {
     "data": {
      "text/plain": [
       "str"
      ]
     },
     "execution_count": 5,
     "metadata": {},
     "output_type": "execute_result"
    }
   ],
   "source": [
    "type(item)"
   ]
  },
  {
   "cell_type": "code",
   "execution_count": 6,
   "id": "f4468bf6-8e5e-418f-bab9-dabdb7c633c7",
   "metadata": {},
   "outputs": [
    {
     "data": {
      "text/plain": [
       "int"
      ]
     },
     "execution_count": 6,
     "metadata": {},
     "output_type": "execute_result"
    }
   ],
   "source": [
    "type(count)"
   ]
  },
  {
   "cell_type": "markdown",
   "id": "9daf4960-919b-4e7a-9b2c-d2b4fda6fcfd",
   "metadata": {},
   "source": [
    "## Numeric Types\n",
    "\n",
    "- int\n",
    "- float\n",
    "- bool"
   ]
  },
  {
   "cell_type": "code",
   "execution_count": 7,
   "id": "f42cdf06-911e-47f5-a62e-2959d059e1c4",
   "metadata": {},
   "outputs": [
    {
     "data": {
      "text/plain": [
       "int"
      ]
     },
     "execution_count": 7,
     "metadata": {},
     "output_type": "execute_result"
    }
   ],
   "source": [
    "count = 987234590872340598732459087324590873245908723459807\n",
    "type(count)"
   ]
  },
  {
   "cell_type": "markdown",
   "id": "5fc09240-b932-4bff-9108-d8866bb8cae0",
   "metadata": {},
   "source": [
    "## Operators\n",
    "\n",
    "- Arithmetic: `** * / % + -`  (BEMDAS)\n",
    "- Comparison: `== != > < >= <=`\n",
    "- Boolean: `and or not`"
   ]
  },
  {
   "cell_type": "code",
   "execution_count": 17,
   "id": "a776faca-8a4f-494d-8430-8d321d84eb47",
   "metadata": {},
   "outputs": [],
   "source": [
    "p = 1234.45\n",
    "r = 11\n",
    "t = 7"
   ]
  },
  {
   "cell_type": "code",
   "execution_count": 19,
   "id": "1948c7b3-f96d-41da-9d07-261de046a98b",
   "metadata": {},
   "outputs": [
    {
     "data": {
      "text/plain": [
       "True"
      ]
     },
     "execution_count": 19,
     "metadata": {},
     "output_type": "execute_result"
    }
   ],
   "source": [
    "# Is SI on this greater than 500?\n",
    "si = p * r * t / 100\n",
    "si > 500"
   ]
  },
  {
   "cell_type": "code",
   "execution_count": 9,
   "id": "6f314176-f769-43d3-abd8-f0c10abac884",
   "metadata": {},
   "outputs": [
    {
     "data": {
      "text/plain": [
       "True"
      ]
     },
     "execution_count": 9,
     "metadata": {},
     "output_type": "execute_result"
    }
   ],
   "source": [
    "p > 1000"
   ]
  },
  {
   "cell_type": "code",
   "execution_count": 18,
   "id": "0187e564-b647-416a-be35-25f60e35b667",
   "metadata": {},
   "outputs": [
    {
     "data": {
      "text/plain": [
       "True"
      ]
     },
     "execution_count": 18,
     "metadata": {},
     "output_type": "execute_result"
    }
   ],
   "source": [
    "# Has the money doubled on CI\n",
    "amt = p * (1+r/100)**t\n",
    "amt >= 2 * p"
   ]
  },
  {
   "cell_type": "code",
   "execution_count": 20,
   "id": "0e0322cf-4ee9-4c64-99e7-76983cb9637a",
   "metadata": {},
   "outputs": [
    {
     "data": {
      "text/plain": [
       "True"
      ]
     },
     "execution_count": 20,
     "metadata": {},
     "output_type": "execute_result"
    }
   ],
   "source": [
    "# amt doubled or si greater than 500\n",
    "si > 500 or amt >= 2*p"
   ]
  },
  {
   "cell_type": "markdown",
   "id": "b696e1be-c69d-4622-a370-8084351bebb9",
   "metadata": {},
   "source": [
    "## Lists\n",
    "\n",
    "    Heterogenous sequence of elements"
   ]
  },
  {
   "cell_type": "code",
   "execution_count": 26,
   "id": "d012f243-c5ce-4503-8b50-a12494476cf1",
   "metadata": {},
   "outputs": [],
   "source": [
    "prices = [123.45, 10.0, 15.55]\n",
    "counts = [7, 21, 11]\n",
    "items = ['cookies', 'biscuits', 'chocolate']\n",
    "misc = [123.45, 11, 'blah', 'hello']\n",
    "lol = [[prices, counts], [misc, items]]"
   ]
  },
  {
   "cell_type": "code",
   "execution_count": 22,
   "id": "fb190352-0ecb-452a-a2b2-756b28579280",
   "metadata": {},
   "outputs": [
    {
     "data": {
      "text/plain": [
       "list"
      ]
     },
     "execution_count": 22,
     "metadata": {},
     "output_type": "execute_result"
    }
   ],
   "source": [
    "type(prices)"
   ]
  },
  {
   "cell_type": "code",
   "execution_count": 25,
   "id": "a92644d6-42dd-434b-bb07-58af7e8f0c35",
   "metadata": {},
   "outputs": [
    {
     "data": {
      "text/plain": [
       "list"
      ]
     },
     "execution_count": 25,
     "metadata": {},
     "output_type": "execute_result"
    }
   ],
   "source": [
    "type(counts)\n",
    "type(misc)"
   ]
  },
  {
   "cell_type": "code",
   "execution_count": 27,
   "id": "dd4e996e-539f-4ee2-bf54-c06c4bc4ec1c",
   "metadata": {},
   "outputs": [
    {
     "data": {
      "text/plain": [
       "3"
      ]
     },
     "execution_count": 27,
     "metadata": {},
     "output_type": "execute_result"
    }
   ],
   "source": [
    "len(prices)"
   ]
  },
  {
   "cell_type": "code",
   "execution_count": 28,
   "id": "2cd0647a-4acf-4ac7-a35f-d5117f84a957",
   "metadata": {},
   "outputs": [
    {
     "data": {
      "text/plain": [
       "123.45"
      ]
     },
     "execution_count": 28,
     "metadata": {},
     "output_type": "execute_result"
    }
   ],
   "source": [
    "prices[0]"
   ]
  },
  {
   "cell_type": "code",
   "execution_count": 29,
   "id": "937ac3f7-47ce-4106-aa1d-0d461c8d8a66",
   "metadata": {},
   "outputs": [
    {
     "ename": "IndexError",
     "evalue": "list index out of range",
     "output_type": "error",
     "traceback": [
      "\u001b[0;31m---------------------------------------------------------------------------\u001b[0m",
      "\u001b[0;31mIndexError\u001b[0m                                Traceback (most recent call last)",
      "Cell \u001b[0;32mIn[29], line 1\u001b[0m\n\u001b[0;32m----> 1\u001b[0m prices[\u001b[38;5;241m3\u001b[39m]\n",
      "\u001b[0;31mIndexError\u001b[0m: list index out of range"
     ]
    }
   ],
   "source": [
    "prices[3]"
   ]
  },
  {
   "cell_type": "code",
   "execution_count": 30,
   "id": "959cc7c1-22b5-4723-b71b-0f8531ebb915",
   "metadata": {},
   "outputs": [
    {
     "data": {
      "text/plain": [
       "15.55"
      ]
     },
     "execution_count": 30,
     "metadata": {},
     "output_type": "execute_result"
    }
   ],
   "source": [
    "prices[2]\n",
    "prices[-1]"
   ]
  },
  {
   "cell_type": "code",
   "execution_count": 36,
   "id": "be819dc5-f612-4305-8ea8-c11c8d395f4f",
   "metadata": {},
   "outputs": [
    {
     "data": {
      "text/plain": [
       "[[[123.45, 10.0, 15.55], [7, 21, 11]],\n",
       " [[123.45, 11, 'blah', 'hello'], ['cookies', 'biscuits', 'chocolate']]]"
      ]
     },
     "execution_count": 36,
     "metadata": {},
     "output_type": "execute_result"
    }
   ],
   "source": [
    "lol"
   ]
  },
  {
   "cell_type": "code",
   "execution_count": 31,
   "id": "3999d5f5-3f80-457b-a89e-dbc6cb4432b5",
   "metadata": {},
   "outputs": [
    {
     "data": {
      "text/plain": [
       "2"
      ]
     },
     "execution_count": 31,
     "metadata": {},
     "output_type": "execute_result"
    }
   ],
   "source": [
    "len(lol)"
   ]
  },
  {
   "cell_type": "code",
   "execution_count": 33,
   "id": "13ae1639-1466-4845-bff3-1269e6aca11a",
   "metadata": {},
   "outputs": [
    {
     "data": {
      "text/plain": [
       "11"
      ]
     },
     "execution_count": 33,
     "metadata": {},
     "output_type": "execute_result"
    }
   ],
   "source": [
    "lol[0][-1][-1]"
   ]
  },
  {
   "cell_type": "markdown",
   "id": "2211efbc-7625-4ce0-8a11-d3712f89510a",
   "metadata": {},
   "source": [
    "## Indexes\n",
    "\n",
    "    fi   =   0  1  2  3  4\n",
    "    ri      -5 -4 -3 -2 -1\n",
    "    list = [ a, b, c, d, e]"
   ]
  },
  {
   "cell_type": "markdown",
   "id": "b6eb0a13-94fd-4146-b676-8a52b5a56258",
   "metadata": {},
   "source": [
    "## Slices\n",
    "\n",
    "    list [start : stop]\n",
    "\n",
    "    start: inclusive, default: beginning\n",
    "    stop: non-inclusive, default: end"
   ]
  },
  {
   "cell_type": "code",
   "execution_count": 41,
   "id": "d5a754f0-8b3f-4194-a6dd-a1b26aa486fb",
   "metadata": {},
   "outputs": [
    {
     "data": {
      "text/plain": [
       "[123.45, 10.0]"
      ]
     },
     "execution_count": 41,
     "metadata": {},
     "output_type": "execute_result"
    }
   ],
   "source": [
    "prices[0:2]\n",
    "prices[0:1+1]\n",
    "prices[:2]       # first 2 elements"
   ]
  },
  {
   "cell_type": "code",
   "execution_count": 40,
   "id": "98ab36d6-c5c2-43c6-9d45-7979cadd4c05",
   "metadata": {},
   "outputs": [
    {
     "data": {
      "text/plain": [
       "[10.0, 15.55]"
      ]
     },
     "execution_count": 40,
     "metadata": {},
     "output_type": "execute_result"
    }
   ],
   "source": [
    "prices[1:30]      # not recommended code!\n",
    "prices[1:]"
   ]
  },
  {
   "cell_type": "code",
   "execution_count": 42,
   "id": "ae6d6106-33a2-4219-94cc-a54f955de7ec",
   "metadata": {},
   "outputs": [
    {
     "data": {
      "text/plain": [
       "[10.0, 15.55]"
      ]
     },
     "execution_count": 42,
     "metadata": {},
     "output_type": "execute_result"
    }
   ],
   "source": [
    "prices[-2:]       # Last two elements"
   ]
  },
  {
   "cell_type": "code",
   "execution_count": null,
   "id": "ada36e7f-71f2-4694-a616-00fec3d89658",
   "metadata": {},
   "outputs": [],
   "source": [
    "abcd[:5]        # first 5 elements\n",
    "abcd[-5:]       # last 5 elements"
   ]
  },
  {
   "cell_type": "code",
   "execution_count": 45,
   "id": "31fdd9b1-0b61-41d1-87f7-ea1318460e5d",
   "metadata": {},
   "outputs": [
    {
     "data": {
      "text/plain": [
       "[123.45]"
      ]
     },
     "execution_count": 45,
     "metadata": {},
     "output_type": "execute_result"
    }
   ],
   "source": [
    "prices[:1]"
   ]
  },
  {
   "cell_type": "code",
   "execution_count": 46,
   "id": "a0f337da-d838-4256-bb61-717ceb52f42f",
   "metadata": {},
   "outputs": [
    {
     "data": {
      "text/plain": [
       "[123.45]"
      ]
     },
     "execution_count": 46,
     "metadata": {},
     "output_type": "execute_result"
    }
   ],
   "source": [
    "prices[:-2]"
   ]
  },
  {
   "cell_type": "code",
   "execution_count": 47,
   "id": "c53e6e86-1a87-474f-a275-9a43756d26ae",
   "metadata": {},
   "outputs": [
    {
     "data": {
      "text/plain": [
       "[]"
      ]
     },
     "execution_count": 47,
     "metadata": {},
     "output_type": "execute_result"
    }
   ],
   "source": [
    "prices[:0]"
   ]
  },
  {
   "cell_type": "code",
   "execution_count": 49,
   "id": "33639c6f-5513-4bd3-aa27-7b143a509db6",
   "metadata": {},
   "outputs": [
    {
     "data": {
      "text/plain": [
       "[123.45, 10.0, 15.55, 7, 21, 11]"
      ]
     },
     "execution_count": 49,
     "metadata": {},
     "output_type": "execute_result"
    }
   ],
   "source": [
    "prices + counts      # concatenation"
   ]
  },
  {
   "cell_type": "code",
   "execution_count": 50,
   "id": "875c3f25-267f-4898-8ef8-a6b63598cecc",
   "metadata": {},
   "outputs": [
    {
     "data": {
      "text/plain": [
       "130.45"
      ]
     },
     "execution_count": 50,
     "metadata": {},
     "output_type": "execute_result"
    }
   ],
   "source": [
    "prices[0] + counts[0]"
   ]
  },
  {
   "cell_type": "code",
   "execution_count": 51,
   "id": "44d7fa29-a50d-452e-a935-18c3975934e0",
   "metadata": {},
   "outputs": [
    {
     "ename": "TypeError",
     "evalue": "can't multiply sequence by non-int of type 'list'",
     "output_type": "error",
     "traceback": [
      "\u001b[0;31m---------------------------------------------------------------------------\u001b[0m",
      "\u001b[0;31mTypeError\u001b[0m                                 Traceback (most recent call last)",
      "Cell \u001b[0;32mIn[51], line 1\u001b[0m\n\u001b[0;32m----> 1\u001b[0m prices \u001b[38;5;241m*\u001b[39m counts\n",
      "\u001b[0;31mTypeError\u001b[0m: can't multiply sequence by non-int of type 'list'"
     ]
    }
   ],
   "source": [
    "prices * counts      # concatenation operator"
   ]
  },
  {
   "cell_type": "code",
   "execution_count": 53,
   "id": "5d00b2e1-b405-4d8e-83d6-d9f9d7be391b",
   "metadata": {},
   "outputs": [
    {
     "data": {
      "text/plain": [
       "[123.45, 10.0, 15.55, 123.45, 10.0, 15.55, 123.45, 10.0, 15.55]"
      ]
     },
     "execution_count": 53,
     "metadata": {},
     "output_type": "execute_result"
    }
   ],
   "source": [
    "prices * 3      # repetition operator"
   ]
  },
  {
   "cell_type": "code",
   "execution_count": 54,
   "id": "fe001476-1790-4aef-a28c-2106a5b85440",
   "metadata": {},
   "outputs": [
    {
     "data": {
      "text/plain": [
       "True"
      ]
     },
     "execution_count": 54,
     "metadata": {},
     "output_type": "execute_result"
    }
   ],
   "source": [
    "[1,2,3] == [1,2,3]"
   ]
  },
  {
   "cell_type": "code",
   "execution_count": null,
   "id": "7e161549-6bce-4e9f-b53b-525b44e34507",
   "metadata": {},
   "outputs": [],
   "source": [
    "[1,2,3] * 3"
   ]
  },
  {
   "cell_type": "code",
   "execution_count": 61,
   "id": "9cf1c934-b90a-4b31-ab91-fbb5d7e886bc",
   "metadata": {},
   "outputs": [
    {
     "data": {
      "text/plain": [
       "[5, 5, 5, 5, 5, 10, 10, 10, 10, 10, 10, 10, 10, 10, 10]"
      ]
     },
     "execution_count": 61,
     "metadata": {},
     "output_type": "execute_result"
    }
   ],
   "source": [
    "nums = [5] * 5 + [10] * 10\n",
    "nums"
   ]
  },
  {
   "cell_type": "code",
   "execution_count": 62,
   "id": "36f92dd4-1d0d-4e38-b3e6-ed341967d671",
   "metadata": {},
   "outputs": [
    {
     "data": {
      "text/plain": [
       "[5, 5, 5, 5, 5, 10, 10, 10, 10, 10]"
      ]
     },
     "execution_count": 62,
     "metadata": {},
     "output_type": "execute_result"
    }
   ],
   "source": [
    "nums[:10]"
   ]
  },
  {
   "cell_type": "code",
   "execution_count": 63,
   "id": "fa4bd468-6651-43c9-b9ee-4524d5c3bf1a",
   "metadata": {},
   "outputs": [],
   "source": [
    "nums[:10] = [20] * 10"
   ]
  },
  {
   "cell_type": "code",
   "execution_count": 64,
   "id": "c4af6f47-a940-40e0-9703-11c4e984a1fe",
   "metadata": {},
   "outputs": [
    {
     "data": {
      "text/plain": [
       "[20, 20, 20, 20, 20, 20, 20, 20, 20, 20, 10, 10, 10, 10, 10]"
      ]
     },
     "execution_count": 64,
     "metadata": {},
     "output_type": "execute_result"
    }
   ],
   "source": [
    "nums"
   ]
  },
  {
   "cell_type": "code",
   "execution_count": 65,
   "id": "8f61f39a-0e52-483e-829c-b2793ee05c2d",
   "metadata": {},
   "outputs": [
    {
     "data": {
      "text/plain": [
       "[20, 20, 20, 20, 20, 20, 20, 20, 20, 20, 20, 10, 10, 10, 10, 10]"
      ]
     },
     "execution_count": 65,
     "metadata": {},
     "output_type": "execute_result"
    }
   ],
   "source": [
    "nums[:10] = [20] * 11\n",
    "nums"
   ]
  },
  {
   "cell_type": "code",
   "execution_count": 66,
   "id": "71e8a276-d49c-4692-a096-cc5b53ea820c",
   "metadata": {},
   "outputs": [
    {
     "data": {
      "text/plain": [
       "[20, 10, 10, 10, 10, 10]"
      ]
     },
     "execution_count": 66,
     "metadata": {},
     "output_type": "execute_result"
    }
   ],
   "source": [
    "nums[:10] = []\n",
    "nums"
   ]
  },
  {
   "cell_type": "markdown",
   "id": "3220dbb5-5db1-4ca3-a07c-f4f799882486",
   "metadata": {},
   "source": [
    "## List methods"
   ]
  },
  {
   "cell_type": "code",
   "execution_count": 67,
   "id": "8c9c4996-4743-4cf2-b323-fb5546127fac",
   "metadata": {},
   "outputs": [
    {
     "data": {
      "text/plain": [
       "[5, 5, 5, 5, 5, 10, 10, 10, 10, 10, 10, 10, 10, 10, 10]"
      ]
     },
     "execution_count": 67,
     "metadata": {},
     "output_type": "execute_result"
    }
   ],
   "source": [
    "nums = [5] * 5 + [10] * 10\n",
    "nums"
   ]
  },
  {
   "cell_type": "code",
   "execution_count": 68,
   "id": "a824fff6-5daa-418f-987b-7c3f65a46864",
   "metadata": {},
   "outputs": [],
   "source": [
    "nums.append(100)     # in-place modification"
   ]
  },
  {
   "cell_type": "code",
   "execution_count": 69,
   "id": "a2508404-a67d-4c11-a8fb-ed2de6d457f8",
   "metadata": {},
   "outputs": [
    {
     "data": {
      "text/plain": [
       "[5, 5, 5, 5, 5, 10, 10, 10, 10, 10, 10, 10, 10, 10, 10, 100]"
      ]
     },
     "execution_count": 69,
     "metadata": {},
     "output_type": "execute_result"
    }
   ],
   "source": [
    "nums"
   ]
  },
  {
   "cell_type": "code",
   "execution_count": 70,
   "id": "2eecd153-0a35-4645-b23c-ce359113b41f",
   "metadata": {},
   "outputs": [
    {
     "data": {
      "text/plain": [
       "100"
      ]
     },
     "execution_count": 70,
     "metadata": {},
     "output_type": "execute_result"
    }
   ],
   "source": [
    "nums.pop()"
   ]
  },
  {
   "cell_type": "code",
   "execution_count": 71,
   "id": "d7b5814b-4470-4ee0-8fab-1f18ce408fdd",
   "metadata": {},
   "outputs": [
    {
     "data": {
      "text/plain": [
       "[5, 5, 5, 5, 5, 10, 10, 10, 10, 10, 10, 10, 10, 10, 10]"
      ]
     },
     "execution_count": 71,
     "metadata": {},
     "output_type": "execute_result"
    }
   ],
   "source": [
    "nums"
   ]
  },
  {
   "cell_type": "code",
   "execution_count": 72,
   "id": "7abaf01d-3ee7-45ed-a364-720391a16448",
   "metadata": {},
   "outputs": [],
   "source": [
    "val = nums.pop(0)"
   ]
  },
  {
   "cell_type": "code",
   "execution_count": 73,
   "id": "ecf33ac2-6b92-480d-b424-4910e6311c1e",
   "metadata": {},
   "outputs": [
    {
     "data": {
      "text/plain": [
       "[5, 5, 5, 5, 10, 10, 10, 10, 10, 10, 10, 10, 10, 10]"
      ]
     },
     "execution_count": 73,
     "metadata": {},
     "output_type": "execute_result"
    }
   ],
   "source": [
    "nums"
   ]
  },
  {
   "cell_type": "code",
   "execution_count": 74,
   "id": "96aa4f3f-b026-4290-9b66-68d6ae812e3d",
   "metadata": {},
   "outputs": [
    {
     "data": {
      "text/plain": [
       "5"
      ]
     },
     "execution_count": 74,
     "metadata": {},
     "output_type": "execute_result"
    }
   ],
   "source": [
    "val"
   ]
  },
  {
   "cell_type": "code",
   "execution_count": 75,
   "id": "708b8f8d-74c3-4241-8eb5-4df64a3c114c",
   "metadata": {},
   "outputs": [
    {
     "data": {
      "text/plain": [
       "[100, 5, 5, 5, 5, 10, 10, 10, 10, 10, 10, 10, 10, 10, 10]"
      ]
     },
     "execution_count": 75,
     "metadata": {},
     "output_type": "execute_result"
    }
   ],
   "source": [
    "nums.insert(0, 100)\n",
    "nums"
   ]
  },
  {
   "cell_type": "code",
   "execution_count": 76,
   "id": "ea5a62f1-45df-45b4-b5f9-f3ae7c066de2",
   "metadata": {},
   "outputs": [
    {
     "data": {
      "text/plain": [
       "5"
      ]
     },
     "execution_count": 76,
     "metadata": {},
     "output_type": "execute_result"
    }
   ],
   "source": [
    "nums.index(10)"
   ]
  },
  {
   "cell_type": "code",
   "execution_count": 77,
   "id": "56b7e69c-575a-4e14-9505-2710953726f9",
   "metadata": {},
   "outputs": [
    {
     "ename": "ValueError",
     "evalue": "101 is not in list",
     "output_type": "error",
     "traceback": [
      "\u001b[0;31m---------------------------------------------------------------------------\u001b[0m",
      "\u001b[0;31mValueError\u001b[0m                                Traceback (most recent call last)",
      "Cell \u001b[0;32mIn[77], line 1\u001b[0m\n\u001b[0;32m----> 1\u001b[0m nums\u001b[38;5;241m.\u001b[39mindex(\u001b[38;5;241m101\u001b[39m)\n",
      "\u001b[0;31mValueError\u001b[0m: 101 is not in list"
     ]
    }
   ],
   "source": [
    "nums.index(101)"
   ]
  },
  {
   "cell_type": "code",
   "execution_count": 78,
   "id": "05cd3699-624d-4ec5-8ebb-c35f83bc40ac",
   "metadata": {},
   "outputs": [
    {
     "data": {
      "text/plain": [
       "10"
      ]
     },
     "execution_count": 78,
     "metadata": {},
     "output_type": "execute_result"
    }
   ],
   "source": [
    "nums.count(10)"
   ]
  },
  {
   "cell_type": "code",
   "execution_count": 79,
   "id": "940deb37-9a57-4217-bb19-74d1b300fac4",
   "metadata": {},
   "outputs": [
    {
     "data": {
      "text/plain": [
       "0"
      ]
     },
     "execution_count": 79,
     "metadata": {},
     "output_type": "execute_result"
    }
   ],
   "source": [
    "nums.count(101)"
   ]
  },
  {
   "cell_type": "code",
   "execution_count": 80,
   "id": "66ff65bc-6ce5-4b21-8bb0-78d5ecd33bcc",
   "metadata": {},
   "outputs": [
    {
     "data": {
      "text/plain": [
       "[100, 5, 5, 5, 5, 10, 10, 10, 10, 10, 10, 10, 10, 10, 10, 1, 2, 3, 4]"
      ]
     },
     "execution_count": 80,
     "metadata": {},
     "output_type": "execute_result"
    }
   ],
   "source": [
    "nums.extend([1,2,3,4])\n",
    "nums"
   ]
  },
  {
   "cell_type": "code",
   "execution_count": 81,
   "id": "9de4853c-c78e-4703-b8c7-c58843ad2d3d",
   "metadata": {},
   "outputs": [
    {
     "data": {
      "text/plain": [
       "[123.45, 10.0, 15.55, 7, 21, 11]"
      ]
     },
     "execution_count": 81,
     "metadata": {},
     "output_type": "execute_result"
    }
   ],
   "source": [
    "prices + counts"
   ]
  },
  {
   "cell_type": "code",
   "execution_count": 82,
   "id": "d2ef1805-1d76-420e-abfd-b4c4e04280dc",
   "metadata": {},
   "outputs": [
    {
     "data": {
      "text/plain": [
       "9"
      ]
     },
     "execution_count": 82,
     "metadata": {},
     "output_type": "execute_result"
    }
   ],
   "source": [
    "nums.remove(10)\n",
    "nums.count(10)"
   ]
  },
  {
   "cell_type": "code",
   "execution_count": 85,
   "id": "0abdd2e0-4515-46c2-94c9-e10b4fbace19",
   "metadata": {},
   "outputs": [
    {
     "data": {
      "text/plain": [
       "[10, 20, 30, 40, 50, 60, 70, 80, 90]"
      ]
     },
     "execution_count": 85,
     "metadata": {},
     "output_type": "execute_result"
    }
   ],
   "source": [
    "nums = list(range(10,100,10))\n",
    "nums"
   ]
  },
  {
   "cell_type": "code",
   "execution_count": 86,
   "id": "20edb3b0-cdba-4260-9f4c-0f55324a5580",
   "metadata": {},
   "outputs": [
    {
     "data": {
      "text/plain": [
       "[70, 80, 90]"
      ]
     },
     "execution_count": 86,
     "metadata": {},
     "output_type": "execute_result"
    }
   ],
   "source": [
    "# Last 3 elements\n",
    "nums[-3:]"
   ]
  },
  {
   "cell_type": "code",
   "execution_count": 87,
   "id": "13efd9ac-b7c4-44b9-a929-f970c5a9d8c0",
   "metadata": {},
   "outputs": [
    {
     "data": {
      "text/plain": [
       "[10, 20, 80, 90]"
      ]
     },
     "execution_count": 87,
     "metadata": {},
     "output_type": "execute_result"
    }
   ],
   "source": [
    "# [10, 20, 80, 90]\n",
    "nums[:2] + nums[-2:]"
   ]
  },
  {
   "cell_type": "code",
   "execution_count": 88,
   "id": "b02a4a55-b466-4a6c-8fb0-a5955b5d9377",
   "metadata": {},
   "outputs": [
    {
     "data": {
      "text/plain": [
       "[20, 30, 40, 50, 60, 70, 80, 90, 10]"
      ]
     },
     "execution_count": 88,
     "metadata": {},
     "output_type": "execute_result"
    }
   ],
   "source": [
    "# [20, 30, .... 90, 10]\n",
    "first = nums.pop(0)\n",
    "nums.append(first)\n",
    "nums"
   ]
  },
  {
   "cell_type": "code",
   "execution_count": 89,
   "id": "d11dda9f-2c17-4def-9c4d-edf6bdf6ac93",
   "metadata": {},
   "outputs": [
    {
     "data": {
      "text/plain": [
       "8"
      ]
     },
     "execution_count": 89,
     "metadata": {},
     "output_type": "execute_result"
    }
   ],
   "source": [
    "# Find new location of 10\n",
    "nums.index(10)"
   ]
  },
  {
   "cell_type": "code",
   "execution_count": 91,
   "id": "bfd8640f-3833-4275-8440-168f4a417b17",
   "metadata": {},
   "outputs": [
    {
     "data": {
      "text/plain": [
       "[50, 60, 70, 80, 90, 10, 20, 30, 40]"
      ]
     },
     "execution_count": 91,
     "metadata": {},
     "output_type": "execute_result"
    }
   ],
   "source": [
    "# Remove first 3 elements and append to end\n",
    "# 50,60,70,89,90,10,20,30,40]\n",
    "first3 = nums[:3]\n",
    "nums.extend(first3)\n",
    "nums[:3] = []\n",
    "nums"
   ]
  },
  {
   "cell_type": "code",
   "execution_count": 96,
   "id": "bafbcde1-83b5-4c1a-91ad-9caef203bfde",
   "metadata": {},
   "outputs": [
    {
     "name": "stdout",
     "output_type": "stream",
     "text": [
      "50\n",
      "2500\n",
      "60\n",
      "3600\n",
      "70\n",
      "4900\n",
      "80\n",
      "6400\n",
      "90\n",
      "8100\n",
      "10\n",
      "100\n",
      "20\n",
      "400\n",
      "30\n",
      "900\n",
      "40\n",
      "1600\n",
      "Done\n"
     ]
    }
   ],
   "source": [
    "for num in nums:\n",
    "    print(num)\n",
    "    print(num**2)\n",
    "\n",
    "\n",
    "print('Done')"
   ]
  },
  {
   "cell_type": "code",
   "execution_count": 97,
   "id": "b0d551d9-69b4-4d1d-9fbc-bd3ef7aaf0ba",
   "metadata": {},
   "outputs": [
    {
     "name": "stdout",
     "output_type": "stream",
     "text": [
      "0\n",
      "1\n",
      "2\n",
      "3\n",
      "4\n",
      "5\n",
      "6\n",
      "7\n",
      "8\n",
      "9\n"
     ]
    }
   ],
   "source": [
    "for i in range(10):\n",
    "    print(i)"
   ]
  },
  {
   "cell_type": "code",
   "execution_count": 100,
   "id": "a6072dda-e111-492c-ab14-afc90ca1e5da",
   "metadata": {},
   "outputs": [
    {
     "name": "stdout",
     "output_type": "stream",
     "text": [
      "50\n",
      "60\n",
      "70\n",
      "80\n",
      "90\n",
      "10\n",
      "20\n",
      "30\n",
      "40\n"
     ]
    }
   ],
   "source": [
    "for i in range(len(nums)):\n",
    "    print(nums[i])"
   ]
  },
  {
   "cell_type": "code",
   "execution_count": 98,
   "id": "a8565f00-2029-4b9c-b024-cf6360a49c9e",
   "metadata": {},
   "outputs": [
    {
     "name": "stdout",
     "output_type": "stream",
     "text": [
      "h\n",
      "e\n",
      "l\n",
      "l\n",
      "o\n"
     ]
    }
   ],
   "source": [
    "for  in 'hello':\n",
    "    print(c)"
   ]
  },
  {
   "cell_type": "code",
   "execution_count": null,
   "id": "dac85119-0451-434d-b5eb-613e3038e213",
   "metadata": {},
   "outputs": [],
   "source": [
    "__init__"
   ]
  },
  {
   "cell_type": "code",
   "execution_count": null,
   "id": "cf51b097-cb35-4b20-bc66-817b3c5ccf61",
   "metadata": {},
   "outputs": [],
   "source": [
    "arr[10]\n",
    "\n",
    "for (i=0; i<10; i++) {\n",
    "    arr[i]\n",
    "}"
   ]
  },
  {
   "cell_type": "code",
   "execution_count": null,
   "id": "dd514e57-73d8-4062-b511-deecd103a26e",
   "metadata": {},
   "outputs": [],
   "source": []
  },
  {
   "cell_type": "code",
   "execution_count": null,
   "id": "415de528-c4b3-44ab-bb4b-48e1e9dc5642",
   "metadata": {},
   "outputs": [],
   "source": []
  }
 ],
 "metadata": {
  "kernelspec": {
   "display_name": "Python 3 (ipykernel)",
   "language": "python",
   "name": "python3"
  },
  "language_info": {
   "codemirror_mode": {
    "name": "ipython",
    "version": 3
   },
   "file_extension": ".py",
   "mimetype": "text/x-python",
   "name": "python",
   "nbconvert_exporter": "python",
   "pygments_lexer": "ipython3",
   "version": "3.11.0"
  }
 },
 "nbformat": 4,
 "nbformat_minor": 5
}
