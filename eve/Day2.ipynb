{
 "cells": [
  {
   "cell_type": "code",
   "execution_count": 6,
   "id": "5502e115-5f0c-4511-ad2e-a2f78c40c5bb",
   "metadata": {},
   "outputs": [],
   "source": [
    "sentence = 'the quick brown fox jumps over the lazy dog'"
   ]
  },
  {
   "cell_type": "code",
   "execution_count": 7,
   "id": "bfc29d0d-6889-4324-b5aa-3c656dd0e246",
   "metadata": {},
   "outputs": [
    {
     "data": {
      "text/plain": [
       "str"
      ]
     },
     "execution_count": 7,
     "metadata": {},
     "output_type": "execute_result"
    }
   ],
   "source": [
    "type(sentence)"
   ]
  },
  {
   "cell_type": "code",
   "execution_count": 8,
   "id": "38296d3f-0bff-419b-b50b-4e48a62aa310",
   "metadata": {},
   "outputs": [
    {
     "data": {
      "text/plain": [
       "['the', 'quick', 'brown', 'fox', 'jumps', 'over', 'the', 'lazy', 'dog']"
      ]
     },
     "execution_count": 8,
     "metadata": {},
     "output_type": "execute_result"
    }
   ],
   "source": [
    "words = sentence.split()\n",
    "words"
   ]
  },
  {
   "cell_type": "code",
   "execution_count": 10,
   "id": "a9af9974-92ef-4067-8851-be797150674b",
   "metadata": {},
   "outputs": [
    {
     "data": {
      "text/plain": [
       "['quick', 'brown', 'fox']"
      ]
     },
     "execution_count": 10,
     "metadata": {},
     "output_type": "execute_result"
    }
   ],
   "source": [
    "['quick', 'brown', 'fox']\n",
    "words[1:4]"
   ]
  },
  {
   "cell_type": "code",
   "execution_count": 11,
   "id": "85937c49-0d82-42cd-9951-fd42419a9df6",
   "metadata": {},
   "outputs": [
    {
     "data": {
      "text/plain": [
       "['quick', 'brown', 'fox', 'lazy', 'dog']"
      ]
     },
     "execution_count": 11,
     "metadata": {},
     "output_type": "execute_result"
    }
   ],
   "source": [
    "['quick', 'brown', 'fox', 'lazy', 'dog']\n",
    "words[1:4] + words[-2:]"
   ]
  },
  {
   "cell_type": "code",
   "execution_count": 16,
   "id": "0f1f0eec-6e01-4430-847e-e4e192401449",
   "metadata": {},
   "outputs": [
    {
     "data": {
      "text/plain": [
       "['dog', 'the', 'quick', 'brown', 'fox', 'jumps', 'over', 'the', 'lazy']"
      ]
     },
     "execution_count": 16,
     "metadata": {},
     "output_type": "execute_result"
    }
   ],
   "source": [
    "# ['jumps', 'over', ... 'dog', 'the', 'quick', ...]\n",
    "# \n",
    "# new-object soln\n",
    "words[-5:] + words[:4]"
   ]
  },
  {
   "cell_type": "code",
   "execution_count": 15,
   "id": "f00de0e9-23f9-4234-b6c5-4ca3f1a4017a",
   "metadata": {},
   "outputs": [
    {
     "data": {
      "text/plain": [
       "['jumps', 'over', 'the', 'lazy', 'dog', 'the', 'quick', 'brown', 'fox']"
      ]
     },
     "execution_count": 15,
     "metadata": {},
     "output_type": "execute_result"
    }
   ],
   "source": [
    "# in-place modification solution\n",
    "first4 = words[:4]\n",
    "words[:4] = []\n",
    "words.extend(first4)\n",
    "words"
   ]
  },
  {
   "cell_type": "markdown",
   "id": "245f0f44-c631-4384-97db-14efb45ee671",
   "metadata": {},
   "source": [
    "## Strings"
   ]
  },
  {
   "cell_type": "code",
   "execution_count": 47,
   "id": "d0c87b7f-bdcd-4d6a-a2ea-1baac995585c",
   "metadata": {},
   "outputs": [],
   "source": [
    "name = 'Alenxandar'\n",
    "address = \"1st cross, 2'nd main\"\n",
    "address = '1\\'st cross, 2\\'nd main'\n",
    "speech = \"Julius Cesar said \\\"Et tu brute\\\" \"\n",
    "speech = 'Julius Cesar said \"Et tu brute\" '\n",
    "multiline = 'a\\\n",
    "very\\\n",
    "long string'\n",
    "multiline = '''a\n",
    "very\n",
    "long\n",
    "string'''\n",
    "winpath = r'c:\\windows\\test\\newfile.txt'     # raw string\n",
    "email_patt = r'\\w+@\\w+\\.\\w+'"
   ]
  },
  {
   "cell_type": "code",
   "execution_count": 18,
   "id": "4045f8c2-e99e-4a66-b29f-026941a8de3c",
   "metadata": {},
   "outputs": [
    {
     "data": {
      "text/plain": [
       "str"
      ]
     },
     "execution_count": 18,
     "metadata": {},
     "output_type": "execute_result"
    }
   ],
   "source": [
    "type(address)"
   ]
  },
  {
   "cell_type": "code",
   "execution_count": 28,
   "id": "f3d098cb-e123-462c-8b53-bec900bf2417",
   "metadata": {},
   "outputs": [
    {
     "name": "stdout",
     "output_type": "stream",
     "text": [
      "c:\\windows\\test\\newfile.txt\n"
     ]
    }
   ],
   "source": [
    "print(winpath)"
   ]
  },
  {
   "cell_type": "code",
   "execution_count": 32,
   "id": "72bacfea-fb2d-45d1-9b44-e64ba360ccec",
   "metadata": {},
   "outputs": [
    {
     "data": {
      "text/plain": [
       "\"Alenxandar 1'st cross, 2'nd main\""
      ]
     },
     "execution_count": 32,
     "metadata": {},
     "output_type": "execute_result"
    }
   ],
   "source": [
    "name + ' ' + address"
   ]
  },
  {
   "cell_type": "code",
   "execution_count": 33,
   "id": "624f03e5-24e4-4f18-a437-4c07dd2f1b98",
   "metadata": {},
   "outputs": [
    {
     "data": {
      "text/plain": [
       "'AlenxandarAlenxandarAlenxandar'"
      ]
     },
     "execution_count": 33,
     "metadata": {},
     "output_type": "execute_result"
    }
   ],
   "source": [
    "name * 3"
   ]
  },
  {
   "cell_type": "code",
   "execution_count": 34,
   "id": "26533dc5-8364-49ee-9c10-75ea7595b0ec",
   "metadata": {},
   "outputs": [
    {
     "data": {
      "text/plain": [
       "'Alenxandar Alenxandar Alenxandar '"
      ]
     },
     "execution_count": 34,
     "metadata": {},
     "output_type": "execute_result"
    }
   ],
   "source": [
    "(name + ' ') * 3"
   ]
  },
  {
   "cell_type": "code",
   "execution_count": 36,
   "id": "64923964-9d07-449c-973b-bf655ae34051",
   "metadata": {},
   "outputs": [
    {
     "data": {
      "text/plain": [
       "'ndar'"
      ]
     },
     "execution_count": 36,
     "metadata": {},
     "output_type": "execute_result"
    }
   ],
   "source": [
    "name[-4:]"
   ]
  },
  {
   "cell_type": "code",
   "execution_count": 38,
   "id": "c8896059-71d4-4826-9634-68e288a37a86",
   "metadata": {},
   "outputs": [
    {
     "data": {
      "text/plain": [
       "'Alar'"
      ]
     },
     "execution_count": 38,
     "metadata": {},
     "output_type": "execute_result"
    }
   ],
   "source": [
    "'Alar'\n",
    "name[:2] + name[-2:]"
   ]
  },
  {
   "cell_type": "code",
   "execution_count": 39,
   "id": "da7db133-ad7d-4321-8ff0-2febd94e6aa6",
   "metadata": {},
   "outputs": [
    {
     "data": {
      "text/plain": [
       "'Alenxandar'"
      ]
     },
     "execution_count": 39,
     "metadata": {},
     "output_type": "execute_result"
    }
   ],
   "source": [
    "name.capitalize()"
   ]
  },
  {
   "cell_type": "code",
   "execution_count": 40,
   "id": "d1cee6c1-0813-45dc-aba4-5124402dd789",
   "metadata": {},
   "outputs": [
    {
     "data": {
      "text/plain": [
       "'ALENXANDAR'"
      ]
     },
     "execution_count": 40,
     "metadata": {},
     "output_type": "execute_result"
    }
   ],
   "source": [
    "name.upper()"
   ]
  },
  {
   "cell_type": "code",
   "execution_count": 41,
   "id": "04395fee-0d86-470a-a82c-d218452e752d",
   "metadata": {},
   "outputs": [
    {
     "data": {
      "text/plain": [
       "'alenxandar'"
      ]
     },
     "execution_count": 41,
     "metadata": {},
     "output_type": "execute_result"
    }
   ],
   "source": [
    "name.lower()"
   ]
  },
  {
   "cell_type": "code",
   "execution_count": 42,
   "id": "357d3bc9-84a8-4606-b90f-067d734008a6",
   "metadata": {},
   "outputs": [
    {
     "data": {
      "text/plain": [
       "5"
      ]
     },
     "execution_count": 42,
     "metadata": {},
     "output_type": "execute_result"
    }
   ],
   "source": [
    "name.index('a')"
   ]
  },
  {
   "cell_type": "code",
   "execution_count": 43,
   "id": "77cc33de-46eb-4d88-bc25-7088ebe6fed9",
   "metadata": {},
   "outputs": [
    {
     "data": {
      "text/plain": [
       "'Alenxandar'"
      ]
     },
     "execution_count": 43,
     "metadata": {},
     "output_type": "execute_result"
    }
   ],
   "source": [
    "name"
   ]
  },
  {
   "cell_type": "code",
   "execution_count": 44,
   "id": "23f5ec94-1988-4667-a315-1125b334a0d5",
   "metadata": {},
   "outputs": [
    {
     "ename": "ValueError",
     "evalue": "substring not found",
     "output_type": "error",
     "traceback": [
      "\u001b[0;31m---------------------------------------------------------------------------\u001b[0m",
      "\u001b[0;31mValueError\u001b[0m                                Traceback (most recent call last)",
      "Cell \u001b[0;32mIn[44], line 1\u001b[0m\n\u001b[0;32m----> 1\u001b[0m name\u001b[38;5;241m.\u001b[39mindex(\u001b[38;5;124m'\u001b[39m\u001b[38;5;124malex\u001b[39m\u001b[38;5;124m'\u001b[39m)\n",
      "\u001b[0;31mValueError\u001b[0m: substring not found"
     ]
    }
   ],
   "source": [
    "name.index('alex')"
   ]
  },
  {
   "cell_type": "code",
   "execution_count": 45,
   "id": "1975b7ca-34cb-4805-ab5c-4870346708e4",
   "metadata": {},
   "outputs": [
    {
     "data": {
      "text/plain": [
       "-1"
      ]
     },
     "execution_count": 45,
     "metadata": {},
     "output_type": "execute_result"
    }
   ],
   "source": [
    "name.find('alex')"
   ]
  },
  {
   "cell_type": "code",
   "execution_count": 46,
   "id": "d8b3c7cc-7855-4c7a-a3a4-d5080f87e4b9",
   "metadata": {},
   "outputs": [],
   "source": [
    "name = 'abc'\n",
    "name = 123"
   ]
  },
  {
   "cell_type": "code",
   "execution_count": 48,
   "id": "d1ce7a0d-e26d-4a7a-9d24-d4cbc5aafdc1",
   "metadata": {},
   "outputs": [
    {
     "data": {
      "text/plain": [
       "False"
      ]
     },
     "execution_count": 48,
     "metadata": {},
     "output_type": "execute_result"
    }
   ],
   "source": [
    "name.startswith('alex')"
   ]
  },
  {
   "cell_type": "code",
   "execution_count": 49,
   "id": "cac1f0d3-c374-43f3-9082-0e2855d5c63f",
   "metadata": {},
   "outputs": [
    {
     "data": {
      "text/plain": [
       "True"
      ]
     },
     "execution_count": 49,
     "metadata": {},
     "output_type": "execute_result"
    }
   ],
   "source": [
    "name.endswith('dar')"
   ]
  },
  {
   "cell_type": "code",
   "execution_count": 63,
   "id": "333800e2-7d45-4378-a178-15682cab35d0",
   "metadata": {},
   "outputs": [
    {
     "ename": "IndentationError",
     "evalue": "unindent does not match any outer indentation level (<tokenize>, line 5)",
     "output_type": "error",
     "traceback": [
      "\u001b[0;36m  File \u001b[0;32m<tokenize>:5\u001b[0;36m\u001b[0m\n\u001b[0;31m    else:\u001b[0m\n\u001b[0m    ^\u001b[0m\n\u001b[0;31mIndentationError\u001b[0m\u001b[0;31m:\u001b[0m unindent does not match any outer indentation level\n"
     ]
    }
   ],
   "source": [
    "num = input('Enter number:')\n",
    "if num.isdigit():\n",
    "      print(int(num) ** 2)\n",
    "      print('hello')\n",
    "else:\n",
    "    print('Number expected')"
   ]
  },
  {
   "cell_type": "code",
   "execution_count": 64,
   "id": "6632bb73-f651-4353-bf90-77bc6f11b263",
   "metadata": {},
   "outputs": [
    {
     "ename": "TypeError",
     "evalue": "unsupported operand type(s) for ** or pow(): 'str' and 'int'",
     "output_type": "error",
     "traceback": [
      "\u001b[0;31m---------------------------------------------------------------------------\u001b[0m",
      "\u001b[0;31mTypeError\u001b[0m                                 Traceback (most recent call last)",
      "Cell \u001b[0;32mIn[64], line 1\u001b[0m\n\u001b[0;32m----> 1\u001b[0m num \u001b[38;5;241m*\u001b[39m\u001b[38;5;241m*\u001b[39m \u001b[38;5;241m2\u001b[39m\n",
      "\u001b[0;31mTypeError\u001b[0m: unsupported operand type(s) for ** or pow(): 'str' and 'int'"
     ]
    }
   ],
   "source": [
    "num ** 2"
   ]
  },
  {
   "cell_type": "code",
   "execution_count": null,
   "id": "81fc1a4b-b406-4583-8db5-03c050c51224",
   "metadata": {},
   "outputs": [],
   "source": [
    "'A' -> 65  ...\n",
    "'a' -> 97 ..."
   ]
  },
  {
   "cell_type": "code",
   "execution_count": 65,
   "id": "c3781a59-2031-4e17-b487-a1e5d7a0ee7e",
   "metadata": {},
   "outputs": [
    {
     "data": {
      "text/plain": [
       "256"
      ]
     },
     "execution_count": 65,
     "metadata": {},
     "output_type": "execute_result"
    }
   ],
   "source": [
    "2 ** 8"
   ]
  },
  {
   "cell_type": "code",
   "execution_count": 66,
   "id": "d4a89881-ce44-4a39-a440-186a6142212d",
   "metadata": {},
   "outputs": [
    {
     "data": {
      "text/plain": [
       "65536"
      ]
     },
     "execution_count": 66,
     "metadata": {},
     "output_type": "execute_result"
    }
   ],
   "source": [
    "2 ** 16  "
   ]
  },
  {
   "cell_type": "markdown",
   "id": "5215a2b7-d15f-4d9e-98ba-8a3972c7c268",
   "metadata": {},
   "source": [
    "### Encoding\n",
    "\n",
    "- ASCII - 1 byte - 256 values\n",
    "- unicode - 2 bytes - 65536 - utf-8, utf-16"
   ]
  },
  {
   "cell_type": "code",
   "execution_count": 67,
   "id": "b4ad8d50-db57-4851-95b4-675df5075447",
   "metadata": {},
   "outputs": [],
   "source": [
    "names = '      amar  akbar   anthony     '"
   ]
  },
  {
   "cell_type": "code",
   "execution_count": 68,
   "id": "a9153cd2-fb38-47f4-9193-01a1de79c9a6",
   "metadata": {},
   "outputs": [
    {
     "data": {
      "text/plain": [
       "'amar  akbar   anthony'"
      ]
     },
     "execution_count": 68,
     "metadata": {},
     "output_type": "execute_result"
    }
   ],
   "source": [
    "names.strip()"
   ]
  },
  {
   "cell_type": "code",
   "execution_count": 69,
   "id": "4771d540-a6b5-425d-bae3-3cc72b7efd42",
   "metadata": {},
   "outputs": [
    {
     "data": {
      "text/plain": [
       "['amar', 'akbar', 'anthony']"
      ]
     },
     "execution_count": 69,
     "metadata": {},
     "output_type": "execute_result"
    }
   ],
   "source": [
    "names.split()"
   ]
  },
  {
   "cell_type": "code",
   "execution_count": 71,
   "id": "3f302f3f-df11-4def-8048-2bdcc01a85f7",
   "metadata": {},
   "outputs": [
    {
     "ename": "AttributeError",
     "evalue": "'list' object has no attribute 'upper'",
     "output_type": "error",
     "traceback": [
      "\u001b[0;31m---------------------------------------------------------------------------\u001b[0m",
      "\u001b[0;31mAttributeError\u001b[0m                            Traceback (most recent call last)",
      "Cell \u001b[0;32mIn[71], line 1\u001b[0m\n\u001b[0;32m----> 1\u001b[0m names\u001b[38;5;241m.\u001b[39msplit()\u001b[38;5;241m.\u001b[39mupper()\n",
      "\u001b[0;31mAttributeError\u001b[0m: 'list' object has no attribute 'upper'"
     ]
    }
   ],
   "source": [
    "names.split().upper()"
   ]
  },
  {
   "cell_type": "code",
   "execution_count": 72,
   "id": "08716c3b-f40b-43a9-9a49-1a70bcff97ba",
   "metadata": {},
   "outputs": [
    {
     "data": {
      "text/plain": [
       "['jumps', 'over', 'the', 'lazy', 'dog', 'the', 'quick', 'brown', 'fox']"
      ]
     },
     "execution_count": 72,
     "metadata": {},
     "output_type": "execute_result"
    }
   ],
   "source": [
    "words"
   ]
  },
  {
   "cell_type": "code",
   "execution_count": null,
   "id": "b3f2e788-6170-4dac-aa57-ab996fad37f4",
   "metadata": {},
   "outputs": [],
   "source": [
    "'jumps:over:the:...'"
   ]
  },
  {
   "cell_type": "code",
   "execution_count": 73,
   "id": "f72fb1da-b65c-435f-8e11-cbce90d64c83",
   "metadata": {},
   "outputs": [
    {
     "data": {
      "text/plain": [
       "'jumps:over:the:lazy:dog:the:quick:brown:fox'"
      ]
     },
     "execution_count": 73,
     "metadata": {},
     "output_type": "execute_result"
    }
   ],
   "source": [
    "':'.join(words)"
   ]
  },
  {
   "cell_type": "code",
   "execution_count": 74,
   "id": "98ee4772-c99c-47e1-ae74-ebfc894012fb",
   "metadata": {},
   "outputs": [
    {
     "data": {
      "text/plain": [
       "'      amar  akbar   anthony     '"
      ]
     },
     "execution_count": 74,
     "metadata": {},
     "output_type": "execute_result"
    }
   ],
   "source": [
    "names"
   ]
  },
  {
   "cell_type": "code",
   "execution_count": 76,
   "id": "18b41feb-0477-4b2d-a853-484cb3bd1d9e",
   "metadata": {},
   "outputs": [
    {
     "data": {
      "text/plain": [
       "'amar akbar anthony'"
      ]
     },
     "execution_count": 76,
     "metadata": {},
     "output_type": "execute_result"
    }
   ],
   "source": [
    "'amar akbar anthony'\n",
    "' '.join(names.split())"
   ]
  },
  {
   "cell_type": "markdown",
   "id": "faefe48c-bc0c-47c4-b5d8-c2af415ea629",
   "metadata": {},
   "source": [
    "### Exercises"
   ]
  },
  {
   "cell_type": "code",
   "execution_count": 77,
   "id": "0ba6143c-e678-4e53-9104-94adc208d9cd",
   "metadata": {},
   "outputs": [],
   "source": [
    "first = 'alexandar'\n",
    "middle = 'GRAHAM'\n",
    "last = 'BeLL'"
   ]
  },
  {
   "cell_type": "code",
   "execution_count": null,
   "id": "5b960040-9314-4379-8ca0-82c87371b007",
   "metadata": {},
   "outputs": [],
   "source": [
    "'A.G.Bell'"
   ]
  },
  {
   "cell_type": "code",
   "execution_count": null,
   "id": "a88dfaea-58f1-4bc4-b4d9-05832edf5a46",
   "metadata": {},
   "outputs": [],
   "source": [
    "first = 'mohandas'\n",
    "second = 'karamchand'\n",
    "last = 'gandhi'"
   ]
  },
  {
   "cell_type": "code",
   "execution_count": 80,
   "id": "0c1d4df0-6aa1-4414-a8a7-a997cbb2fcea",
   "metadata": {},
   "outputs": [
    {
     "data": {
      "text/plain": [
       "'A'"
      ]
     },
     "execution_count": 80,
     "metadata": {},
     "output_type": "execute_result"
    }
   ],
   "source": [
    "first.upper()[0]\n",
    "first[0].upper()"
   ]
  },
  {
   "cell_type": "code",
   "execution_count": 83,
   "id": "9d355772-4bd9-49d0-9799-9d56efb713a7",
   "metadata": {},
   "outputs": [
    {
     "data": {
      "text/plain": [
       "'A.G.Bell'"
      ]
     },
     "execution_count": 83,
     "metadata": {},
     "output_type": "execute_result"
    }
   ],
   "source": [
    "first.upper()[0] + '.' +  middle.upper()[0] + '.' + last.capitalize()"
   ]
  },
  {
   "cell_type": "code",
   "execution_count": 84,
   "id": "7e9f4624-380c-4e1b-b071-8b3adf226267",
   "metadata": {},
   "outputs": [
    {
     "data": {
      "text/plain": [
       "'A.G.Bell'"
      ]
     },
     "execution_count": 84,
     "metadata": {},
     "output_type": "execute_result"
    }
   ],
   "source": [
    "'.'.join([first.upper()[0], middle.upper()[0], last.capitalize()])"
   ]
  },
  {
   "cell_type": "code",
   "execution_count": 88,
   "id": "6158dfe3-4fa8-4e25-a831-c1859157766c",
   "metadata": {},
   "outputs": [
    {
     "data": {
      "text/plain": [
       "'Alexandar Graham Bell'"
      ]
     },
     "execution_count": 88,
     "metadata": {},
     "output_type": "execute_result"
    }
   ],
   "source": [
    "' '.join([first, middle, last]).title()"
   ]
  },
  {
   "cell_type": "code",
   "execution_count": 86,
   "id": "a2aa93f8-c10c-4f2f-b5dd-ae05b8ece5a2",
   "metadata": {},
   "outputs": [
    {
     "data": {
      "text/plain": [
       "'      Amar  Akbar   Anthony     '"
      ]
     },
     "execution_count": 86,
     "metadata": {},
     "output_type": "execute_result"
    }
   ],
   "source": [
    "names.title()"
   ]
  },
  {
   "cell_type": "markdown",
   "id": "f682c2f6-a274-491c-8e72-acdd1e21fa9e",
   "metadata": {},
   "source": [
    "#### Query\n",
    "\n",
    "- list.reverse() vs reversed(list)"
   ]
  },
  {
   "cell_type": "code",
   "execution_count": 89,
   "id": "5f0f469d-42b7-4c4d-b3ff-73c4b925b103",
   "metadata": {},
   "outputs": [],
   "source": [
    "nums = [1,2,3,4]"
   ]
  },
  {
   "cell_type": "code",
   "execution_count": 90,
   "id": "4bc8b9e1-bd3e-4e87-b4fa-37dc230fb109",
   "metadata": {},
   "outputs": [],
   "source": [
    "nums.reverse()"
   ]
  },
  {
   "cell_type": "code",
   "execution_count": 91,
   "id": "54a27815-16de-4ff2-9d93-0178e3d82f25",
   "metadata": {},
   "outputs": [
    {
     "data": {
      "text/plain": [
       "[4, 3, 2, 1]"
      ]
     },
     "execution_count": 91,
     "metadata": {},
     "output_type": "execute_result"
    }
   ],
   "source": [
    "nums"
   ]
  },
  {
   "cell_type": "code",
   "execution_count": 92,
   "id": "d7485586-1ebb-488e-9cc7-58b52803ba0d",
   "metadata": {},
   "outputs": [],
   "source": [
    "nums.sort()"
   ]
  },
  {
   "cell_type": "code",
   "execution_count": 93,
   "id": "f19823fa-34d3-4758-8b71-da358abf07d8",
   "metadata": {},
   "outputs": [
    {
     "data": {
      "text/plain": [
       "[1, 2, 3, 4]"
      ]
     },
     "execution_count": 93,
     "metadata": {},
     "output_type": "execute_result"
    }
   ],
   "source": [
    "nums"
   ]
  },
  {
   "cell_type": "code",
   "execution_count": 95,
   "id": "2d0a73b7-2de7-4d72-84b7-d76a6652b5aa",
   "metadata": {},
   "outputs": [
    {
     "ename": "TypeError",
     "evalue": "'NoneType' object is not iterable",
     "output_type": "error",
     "traceback": [
      "\u001b[0;31m---------------------------------------------------------------------------\u001b[0m",
      "\u001b[0;31mTypeError\u001b[0m                                 Traceback (most recent call last)",
      "Cell \u001b[0;32mIn[95], line 1\u001b[0m\n\u001b[0;32m----> 1\u001b[0m \u001b[38;5;28;01mfor\u001b[39;00m num \u001b[38;5;129;01min\u001b[39;00m nums\u001b[38;5;241m.\u001b[39mreverse():\n\u001b[1;32m      2\u001b[0m     \u001b[38;5;28mprint\u001b[39m(num)\n",
      "\u001b[0;31mTypeError\u001b[0m: 'NoneType' object is not iterable"
     ]
    }
   ],
   "source": [
    "for num in nums.reverse():\n",
    "    print(num)"
   ]
  },
  {
   "cell_type": "code",
   "execution_count": 96,
   "id": "9a7b09a8-3b8d-4944-9c40-d843be2faa3e",
   "metadata": {},
   "outputs": [
    {
     "name": "stdout",
     "output_type": "stream",
     "text": [
      "1\n",
      "2\n",
      "3\n",
      "4\n"
     ]
    }
   ],
   "source": [
    "nums.reverse()\n",
    "for num in nums:\n",
    "    print(num)"
   ]
  },
  {
   "cell_type": "code",
   "execution_count": 94,
   "id": "a87c8680-2126-43e1-982f-1f5313f57105",
   "metadata": {},
   "outputs": [],
   "source": [
    "None"
   ]
  },
  {
   "cell_type": "code",
   "execution_count": 97,
   "id": "98f9975a-d52a-4531-8408-693a187734e1",
   "metadata": {},
   "outputs": [
    {
     "name": "stdout",
     "output_type": "stream",
     "text": [
      "4\n",
      "3\n",
      "2\n",
      "1\n"
     ]
    }
   ],
   "source": [
    "for num in reversed(nums):\n",
    "    print(num)"
   ]
  },
  {
   "cell_type": "code",
   "execution_count": 98,
   "id": "95fc506c-6e01-4838-a70d-4940a9afe44b",
   "metadata": {},
   "outputs": [
    {
     "name": "stdout",
     "output_type": "stream",
     "text": [
      "1\n",
      "2\n",
      "3\n",
      "4\n"
     ]
    }
   ],
   "source": [
    "for num in sorted(nums):\n",
    "    print(num)"
   ]
  },
  {
   "cell_type": "markdown",
   "id": "bfcba6e1-7c89-4228-8885-9d4bb8f78cb7",
   "metadata": {},
   "source": [
    "### Im/Mutable, copy-by-reference/value"
   ]
  },
  {
   "cell_type": "code",
   "execution_count": 99,
   "id": "074eae78-359d-4cbf-a05d-432b10f16f7d",
   "metadata": {},
   "outputs": [
    {
     "data": {
      "text/plain": [
       "'ALEXANDAR'"
      ]
     },
     "execution_count": 99,
     "metadata": {},
     "output_type": "execute_result"
    }
   ],
   "source": [
    "first = 'alexandar'\n",
    "first.upper()"
   ]
  },
  {
   "cell_type": "code",
   "execution_count": 100,
   "id": "13738311-6507-47f8-8530-1f27faa0305e",
   "metadata": {},
   "outputs": [
    {
     "data": {
      "text/plain": [
       "'alexandar'"
      ]
     },
     "execution_count": 100,
     "metadata": {},
     "output_type": "execute_result"
    }
   ],
   "source": [
    "first"
   ]
  },
  {
   "cell_type": "code",
   "execution_count": 102,
   "id": "fe67eff9-6938-4903-b420-0ef734e78911",
   "metadata": {},
   "outputs": [],
   "source": [
    "FIRST = first.upper()"
   ]
  },
  {
   "cell_type": "code",
   "execution_count": 103,
   "id": "5abd8a8f-c4f5-4924-850c-7758b9ba6d32",
   "metadata": {},
   "outputs": [
    {
     "data": {
      "text/plain": [
       "'ALEXANDAR'"
      ]
     },
     "execution_count": 103,
     "metadata": {},
     "output_type": "execute_result"
    }
   ],
   "source": [
    "FIRST"
   ]
  },
  {
   "cell_type": "code",
   "execution_count": null,
   "id": "d8535bfa-4a58-4075-a49c-7da3883a2471",
   "metadata": {},
   "outputs": [],
   "source": [
    "first = first.upper()"
   ]
  },
  {
   "cell_type": "code",
   "execution_count": null,
   "id": "303188df-8e0e-4236-8fb8-63f6a757161a",
   "metadata": {},
   "outputs": [],
   "source": [
    "FIRST = first"
   ]
  },
  {
   "cell_type": "code",
   "execution_count": null,
   "id": "0d23e0e2-65f5-4ae6-9849-7c716928100f",
   "metadata": {},
   "outputs": [],
   "source": []
  },
  {
   "cell_type": "code",
   "execution_count": 104,
   "id": "7af3035a-4b1d-4977-bb81-11e362d9fd6f",
   "metadata": {},
   "outputs": [],
   "source": [
    "nums = [1,2,3,4]\n",
    "nums.append(5)"
   ]
  },
  {
   "cell_type": "code",
   "execution_count": 105,
   "id": "fec51a08-c126-46fe-80b2-c75421f976d0",
   "metadata": {},
   "outputs": [],
   "source": [
    "nums2 = nums         # copy by reference\n",
    "nums2.append(6)"
   ]
  },
  {
   "cell_type": "code",
   "execution_count": 106,
   "id": "fe53741e-2148-4853-b0d5-bf347a618de1",
   "metadata": {},
   "outputs": [
    {
     "data": {
      "text/plain": [
       "[1, 2, 3, 4, 5, 6]"
      ]
     },
     "execution_count": 106,
     "metadata": {},
     "output_type": "execute_result"
    }
   ],
   "source": [
    "nums2"
   ]
  },
  {
   "cell_type": "code",
   "execution_count": 107,
   "id": "a6e68b69-d370-462d-a73c-faa72fc3349a",
   "metadata": {},
   "outputs": [
    {
     "data": {
      "text/plain": [
       "[1, 2, 3, 4, 5, 6]"
      ]
     },
     "execution_count": 107,
     "metadata": {},
     "output_type": "execute_result"
    }
   ],
   "source": [
    "nums"
   ]
  },
  {
   "cell_type": "code",
   "execution_count": 111,
   "id": "cbd90147-a222-471f-9367-e29c897796fc",
   "metadata": {},
   "outputs": [],
   "source": [
    "nums3 = nums.copy()         # copy by value\n",
    "nums3.append(7)"
   ]
  },
  {
   "cell_type": "code",
   "execution_count": 108,
   "id": "23eca458-1f92-4ef0-bae9-3004271ea119",
   "metadata": {},
   "outputs": [
    {
     "data": {
      "text/plain": [
       "4457284288"
      ]
     },
     "execution_count": 108,
     "metadata": {},
     "output_type": "execute_result"
    }
   ],
   "source": [
    "id(nums)"
   ]
  },
  {
   "cell_type": "code",
   "execution_count": 109,
   "id": "90c4b104-d624-4128-86ec-4b9e5d26429d",
   "metadata": {},
   "outputs": [
    {
     "data": {
      "text/plain": [
       "4457284288"
      ]
     },
     "execution_count": 109,
     "metadata": {},
     "output_type": "execute_result"
    }
   ],
   "source": [
    "id(nums2)"
   ]
  },
  {
   "cell_type": "code",
   "execution_count": 112,
   "id": "66d14fa7-dd49-4ed7-a475-64401e8b7783",
   "metadata": {},
   "outputs": [
    {
     "data": {
      "text/plain": [
       "4457556992"
      ]
     },
     "execution_count": 112,
     "metadata": {},
     "output_type": "execute_result"
    }
   ],
   "source": [
    "id(nums3)"
   ]
  },
  {
   "cell_type": "code",
   "execution_count": 113,
   "id": "ca16a832-530a-4139-bc91-e2b61db169f0",
   "metadata": {},
   "outputs": [
    {
     "data": {
      "text/plain": [
       "True"
      ]
     },
     "execution_count": 113,
     "metadata": {},
     "output_type": "execute_result"
    }
   ],
   "source": [
    "nums == nums2       # eq by value\n",
    "nums is nums2       # eq by object i.e. same object"
   ]
  },
  {
   "cell_type": "code",
   "execution_count": 114,
   "id": "4d136437-713e-4e68-bb64-cb68033d339e",
   "metadata": {},
   "outputs": [],
   "source": [
    "import copy"
   ]
  },
  {
   "cell_type": "markdown",
   "id": "c51bb08d-95c8-4e5f-bf18-cb9433a5d38e",
   "metadata": {},
   "source": [
    "### Dictionaries\n",
    "\n",
    "    Key-value stores optimized for lookup\n",
    "\n",
    "- Lookup use-case\n",
    "- Dictionary data type\n",
    "- "
   ]
  },
  {
   "cell_type": "code",
   "execution_count": 116,
   "id": "642bbed7-e1a4-46b7-b252-1e1a1a3bfef1",
   "metadata": {},
   "outputs": [],
   "source": [
    "items   = ['cookies', 'biscuits', 'chocolates', 'toffees']\n",
    "prices  =   [123.45,    10.0,      250,          2.50]"
   ]
  },
  {
   "cell_type": "code",
   "execution_count": 126,
   "id": "935e7b6c-3745-469e-b14d-32e5810f26ee",
   "metadata": {},
   "outputs": [
    {
     "name": "stdin",
     "output_type": "stream",
     "text": [
      "Enter item for price: coffee\n"
     ]
    },
    {
     "name": "stdout",
     "output_type": "stream",
     "text": [
      "coffee not present\n"
     ]
    }
   ],
   "source": [
    "item = input('Enter item for price:')\n",
    "if item in items:\n",
    "    idx = items.index(item)\n",
    "    print(prices[idx])\n",
    "else:\n",
    "    print(item, 'not present')"
   ]
  },
  {
   "cell_type": "code",
   "execution_count": null,
   "id": "1fc67948-a302-4eb8-892c-6047daf993be",
   "metadata": {},
   "outputs": [],
   "source": [
    "[['cookies', 123.45],  .."
   ]
  },
  {
   "cell_type": "code",
   "execution_count": 124,
   "id": "c40c90ec-7984-41e9-8ce3-f768c0f2e769",
   "metadata": {},
   "outputs": [
    {
     "name": "stdout",
     "output_type": "stream",
     "text": [
      "True\n",
      "False\n"
     ]
    }
   ],
   "source": [
    "print(1 in [1,2,3,4])\n",
    "print(5 in [1,2,3,4])"
   ]
  },
  {
   "cell_type": "code",
   "execution_count": 123,
   "id": "9c3f727b-0bce-4d99-bbb7-3206a21e9a5d",
   "metadata": {},
   "outputs": [
    {
     "data": {
      "text/plain": [
       "True"
      ]
     },
     "execution_count": 123,
     "metadata": {},
     "output_type": "execute_result"
    }
   ],
   "source": [
    "'A' in 'Alex'"
   ]
  },
  {
   "cell_type": "code",
   "execution_count": null,
   "id": "3fb21530-2c8f-4e57-8adf-2b6adbe1bb5c",
   "metadata": {},
   "outputs": [],
   "source": []
  },
  {
   "cell_type": "code",
   "execution_count": 132,
   "id": "6549dba4-64b7-4209-966f-f2ae42f4d6ac",
   "metadata": {},
   "outputs": [],
   "source": [
    "ages = {'Sleepy': 101, 'Jumpy': 106,  'Sneezy': 99}\n",
    "squares = {10: 100, 11: 121, 12: 144}\n",
    "words_bylen = {3: 'the', 5: 'quick', 4: 'that'}\n",
    "misc = {1: 'adfasd', 'asdfsd': 23, }\n",
    "\n",
    "ages = {\n",
    "    'Sleepy'   :    101, \n",
    "    'Jumpy'    :    106,  \n",
    "    'Sneezy'   :    99,\n",
    "    'Sleepy'   :    105\n",
    "}"
   ]
  },
  {
   "cell_type": "code",
   "execution_count": 128,
   "id": "e736dc04-ff10-45e8-aa22-db49c88ce289",
   "metadata": {},
   "outputs": [
    {
     "data": {
      "text/plain": [
       "dict"
      ]
     },
     "execution_count": 128,
     "metadata": {},
     "output_type": "execute_result"
    }
   ],
   "source": [
    "type(ages)"
   ]
  },
  {
   "cell_type": "code",
   "execution_count": 133,
   "id": "d4d835b1-7daf-4a08-8123-a1a576de3321",
   "metadata": {},
   "outputs": [
    {
     "data": {
      "text/plain": [
       "{'Sleepy': 105, 'Jumpy': 106, 'Sneezy': 99}"
      ]
     },
     "execution_count": 133,
     "metadata": {},
     "output_type": "execute_result"
    }
   ],
   "source": [
    "ages"
   ]
  },
  {
   "cell_type": "code",
   "execution_count": 134,
   "id": "7140927a-bbf4-4b4f-8b2f-3d0705ce6404",
   "metadata": {},
   "outputs": [
    {
     "data": {
      "text/plain": [
       "105"
      ]
     },
     "execution_count": 134,
     "metadata": {},
     "output_type": "execute_result"
    }
   ],
   "source": [
    "ages['Sleepy']"
   ]
  },
  {
   "cell_type": "code",
   "execution_count": 135,
   "id": "b64b195a-c3d3-49a3-8394-ff334c04d352",
   "metadata": {},
   "outputs": [
    {
     "ename": "KeyError",
     "evalue": "'Jughead'",
     "output_type": "error",
     "traceback": [
      "\u001b[0;31m---------------------------------------------------------------------------\u001b[0m",
      "\u001b[0;31mKeyError\u001b[0m                                  Traceback (most recent call last)",
      "Cell \u001b[0;32mIn[135], line 1\u001b[0m\n\u001b[0;32m----> 1\u001b[0m ages[\u001b[38;5;124m'\u001b[39m\u001b[38;5;124mJughead\u001b[39m\u001b[38;5;124m'\u001b[39m]\n",
      "\u001b[0;31mKeyError\u001b[0m: 'Jughead'"
     ]
    }
   ],
   "source": [
    "ages['Jughead']"
   ]
  },
  {
   "cell_type": "code",
   "execution_count": 136,
   "id": "b875cbba-8ea3-49bb-a3a2-75e886df7390",
   "metadata": {},
   "outputs": [
    {
     "data": {
      "text/plain": [
       "False"
      ]
     },
     "execution_count": 136,
     "metadata": {},
     "output_type": "execute_result"
    }
   ],
   "source": [
    "'Jughead' in ages"
   ]
  },
  {
   "cell_type": "code",
   "execution_count": 137,
   "id": "87007506-26e9-4aab-8e6f-24651c5e1ad2",
   "metadata": {},
   "outputs": [
    {
     "data": {
      "text/plain": [
       "dict_keys(['Sleepy', 'Jumpy', 'Sneezy'])"
      ]
     },
     "execution_count": 137,
     "metadata": {},
     "output_type": "execute_result"
    }
   ],
   "source": [
    "ages.keys()"
   ]
  },
  {
   "cell_type": "code",
   "execution_count": 138,
   "id": "a1b9aad4-60b4-487f-8d3b-4b99d0769594",
   "metadata": {},
   "outputs": [
    {
     "data": {
      "text/plain": [
       "dict_values([105, 106, 99])"
      ]
     },
     "execution_count": 138,
     "metadata": {},
     "output_type": "execute_result"
    }
   ],
   "source": [
    "ages.values()"
   ]
  },
  {
   "cell_type": "code",
   "execution_count": 139,
   "id": "8e7239e0-2a6d-4a45-ba4b-81ecc7b834d5",
   "metadata": {},
   "outputs": [
    {
     "data": {
      "text/plain": [
       "dict_items([('Sleepy', 105), ('Jumpy', 106), ('Sneezy', 99)])"
      ]
     },
     "execution_count": 139,
     "metadata": {},
     "output_type": "execute_result"
    }
   ],
   "source": [
    "ages.items()"
   ]
  },
  {
   "cell_type": "code",
   "execution_count": 140,
   "id": "b6427caa-1cc3-4734-9fec-d7a871d44db7",
   "metadata": {},
   "outputs": [],
   "source": [
    "t = ('Sleepy', 105)"
   ]
  },
  {
   "cell_type": "code",
   "execution_count": 141,
   "id": "0a19496d-79b5-46f8-b8ac-066d368ccfeb",
   "metadata": {},
   "outputs": [
    {
     "data": {
      "text/plain": [
       "tuple"
      ]
     },
     "execution_count": 141,
     "metadata": {},
     "output_type": "execute_result"
    }
   ],
   "source": [
    "type(t)"
   ]
  },
  {
   "cell_type": "code",
   "execution_count": 142,
   "id": "548a686b-46a1-487d-b3d7-6b8c9f6476ce",
   "metadata": {},
   "outputs": [
    {
     "data": {
      "text/plain": [
       "'Sleepy'"
      ]
     },
     "execution_count": 142,
     "metadata": {},
     "output_type": "execute_result"
    }
   ],
   "source": [
    "t[0]"
   ]
  },
  {
   "cell_type": "code",
   "execution_count": 144,
   "id": "743edd57-a6fa-45fa-8fce-9b794778d6f9",
   "metadata": {},
   "outputs": [
    {
     "name": "stdout",
     "output_type": "stream",
     "text": [
      "Sleepy\n",
      "105\n"
     ]
    }
   ],
   "source": [
    "for item in t:\n",
    "    print(item)"
   ]
  },
  {
   "cell_type": "code",
   "execution_count": 145,
   "id": "f97e591a-9a46-4f47-a64c-49efd7223e1f",
   "metadata": {},
   "outputs": [],
   "source": [
    "ages['Jughead'] = 111"
   ]
  },
  {
   "cell_type": "code",
   "execution_count": 146,
   "id": "a75f9903-4cdc-4a96-88e7-9925f8fbaee6",
   "metadata": {},
   "outputs": [
    {
     "data": {
      "text/plain": [
       "{'Sleepy': 105, 'Jumpy': 106, 'Sneezy': 99, 'Jughead': 111}"
      ]
     },
     "execution_count": 146,
     "metadata": {},
     "output_type": "execute_result"
    }
   ],
   "source": [
    "ages"
   ]
  },
  {
   "cell_type": "code",
   "execution_count": 147,
   "id": "eed5af7c-3128-4e72-a42b-efdf56f2be1d",
   "metadata": {},
   "outputs": [],
   "source": [
    "ages['Jumpy'] += 1"
   ]
  },
  {
   "cell_type": "code",
   "execution_count": 149,
   "id": "8b5d22fe-103f-4da0-8dc2-f4bba73e63b1",
   "metadata": {},
   "outputs": [],
   "source": [
    "squares = {}\n",
    "\n",
    "for num in range(10):\n",
    "    squares[num] = num**2"
   ]
  },
  {
   "cell_type": "code",
   "execution_count": 150,
   "id": "36f87986-2127-4e49-a3e1-a6d3e132e366",
   "metadata": {},
   "outputs": [
    {
     "data": {
      "text/plain": [
       "{0: 0, 1: 1, 2: 4, 3: 9, 4: 16, 5: 25, 6: 36, 7: 49, 8: 64, 9: 81}"
      ]
     },
     "execution_count": 150,
     "metadata": {},
     "output_type": "execute_result"
    }
   ],
   "source": [
    "squares"
   ]
  },
  {
   "cell_type": "code",
   "execution_count": 174,
   "id": "a436999c-9b30-448b-98be-2dccb8d9c252",
   "metadata": {},
   "outputs": [],
   "source": [
    "names = ['Sleepy', 'Jumpy', 'Sneezy']\n",
    "ages = [105, 106, 99]\n",
    "bdays = ['1/1/1911',]"
   ]
  },
  {
   "cell_type": "code",
   "execution_count": 168,
   "id": "558a4def-5b42-4122-8910-7ecb43e15695",
   "metadata": {},
   "outputs": [],
   "source": [
    "d = {'Sleepy': (105, '1/1/1911')}"
   ]
  },
  {
   "cell_type": "code",
   "execution_count": 170,
   "id": "2029432e-9df7-446c-9fac-b8d835cc56bd",
   "metadata": {},
   "outputs": [
    {
     "data": {
      "text/plain": [
       "105"
      ]
     },
     "execution_count": 170,
     "metadata": {},
     "output_type": "execute_result"
    }
   ],
   "source": [
    "d['Sleepy'][0]"
   ]
  },
  {
   "cell_type": "code",
   "execution_count": 171,
   "id": "efa2dc2c-5abc-40e9-a52a-0c1350976b2b",
   "metadata": {},
   "outputs": [],
   "source": [
    "d = {'Sleepy': {\n",
    "        'age': 105, \n",
    "        'bday': '1/1/1911'\n",
    "    }\n",
    "}"
   ]
  },
  {
   "cell_type": "code",
   "execution_count": 173,
   "id": "98bb554c-064e-4ad6-80f0-85df22f204c8",
   "metadata": {},
   "outputs": [
    {
     "data": {
      "text/plain": [
       "105"
      ]
     },
     "execution_count": 173,
     "metadata": {},
     "output_type": "execute_result"
    }
   ],
   "source": [
    "d['Sleepy']['age']"
   ]
  },
  {
   "cell_type": "code",
   "execution_count": 157,
   "id": "b7d0ff96-8a5f-4206-9744-1840e9d1c9f7",
   "metadata": {},
   "outputs": [
    {
     "data": {
      "text/plain": [
       "[('Sleepy', 105), ('Jumpy', 106), ('Sneezy', 99)]"
      ]
     },
     "execution_count": 157,
     "metadata": {},
     "output_type": "execute_result"
    }
   ],
   "source": [
    "zip(names, ages)        # Lazy object\n",
    "list(zip(names, ages))  # Eager object"
   ]
  },
  {
   "cell_type": "code",
   "execution_count": 155,
   "id": "d92e7e85-5585-47a7-99bb-e33f63c5d5a7",
   "metadata": {},
   "outputs": [
    {
     "data": {
      "text/plain": [
       "[0, 1, 2, 3, 4, 5, 6, 7, 8, 9]"
      ]
     },
     "execution_count": 155,
     "metadata": {},
     "output_type": "execute_result"
    }
   ],
   "source": [
    "range(10)          # Lazy object\n",
    "list(range(10))    # Eager object"
   ]
  },
  {
   "cell_type": "code",
   "execution_count": 159,
   "id": "67f56b85-21d3-48f0-aeb5-699ae3e83cde",
   "metadata": {},
   "outputs": [],
   "source": [
    "age_dict = {}\n",
    "\n",
    "for item in zip(names, ages):     \n",
    "    # print(item[0], item[1])\n",
    "    age_dict[item[0]] = item[1]"
   ]
  },
  {
   "cell_type": "code",
   "execution_count": 160,
   "id": "5cdfe6a3-a6a8-4cb8-a713-43183cdb45d9",
   "metadata": {},
   "outputs": [
    {
     "data": {
      "text/plain": [
       "{'Sleepy': 105, 'Jumpy': 106, 'Sneezy': 99}"
      ]
     },
     "execution_count": 160,
     "metadata": {},
     "output_type": "execute_result"
    }
   ],
   "source": [
    "age_dict"
   ]
  },
  {
   "cell_type": "code",
   "execution_count": 161,
   "id": "a474d8d2-007d-474b-845d-00d503184407",
   "metadata": {},
   "outputs": [
    {
     "data": {
      "text/plain": [
       "{'Sleepy': 105, 'Jumpy': 106, 'Sneezy': 99}"
      ]
     },
     "execution_count": 161,
     "metadata": {},
     "output_type": "execute_result"
    }
   ],
   "source": [
    "dict(zip(names, ages))"
   ]
  },
  {
   "cell_type": "code",
   "execution_count": 163,
   "id": "27ac3247-dc12-4b8c-9355-f0ae02522174",
   "metadata": {},
   "outputs": [
    {
     "name": "stdout",
     "output_type": "stream",
     "text": [
      "Sleepy 105\n",
      "Sleepy 106\n",
      "Sleepy 99\n",
      "Jumpy 105\n",
      "Jumpy 106\n",
      "Jumpy 99\n",
      "Sneezy 105\n",
      "Sneezy 106\n",
      "Sneezy 99\n"
     ]
    }
   ],
   "source": [
    "for name in names:\n",
    "    for age in ages:\n",
    "        print(name, age)"
   ]
  },
  {
   "cell_type": "code",
   "execution_count": 164,
   "id": "9592d088-d0ed-4bce-a3b4-f70583668cac",
   "metadata": {},
   "outputs": [
    {
     "data": {
      "text/plain": [
       "{'Sleepy': 105, 'Jumpy': 106, 'Sneezy': 99}"
      ]
     },
     "execution_count": 164,
     "metadata": {},
     "output_type": "execute_result"
    }
   ],
   "source": [
    "d = {}\n",
    "d[names[0]] = ages[0]\n",
    "d[names[1]] = ages[1]\n",
    "d[names[2]] = ages[2]\n",
    "d"
   ]
  },
  {
   "cell_type": "code",
   "execution_count": 166,
   "id": "9b052015-34eb-44cf-a92c-c4e73b252290",
   "metadata": {},
   "outputs": [],
   "source": [
    "# Emulation of indexed for loop\n",
    "d = {}\n",
    "for i in range(len(names)):\n",
    "    d[names[i]] = ages[i]"
   ]
  },
  {
   "cell_type": "code",
   "execution_count": 167,
   "id": "d4f3a24d-45c1-4177-ace0-5566d77edbbf",
   "metadata": {},
   "outputs": [
    {
     "data": {
      "text/plain": [
       "{'Sleepy': 105, 'Jumpy': 106, 'Sneezy': 99}"
      ]
     },
     "execution_count": 167,
     "metadata": {},
     "output_type": "execute_result"
    }
   ],
   "source": [
    "d"
   ]
  },
  {
   "cell_type": "markdown",
   "id": "9d0df636-a5d3-4613-8f9c-c5a5ddf5e86c",
   "metadata": {},
   "source": [
    "#### Aside: Python interpreter implementations\n",
    "\n",
    "- CPython    : C\n",
    "- IronPython : C#\n",
    "- JPython : Java"
   ]
  },
  {
   "cell_type": "code",
   "execution_count": 183,
   "id": "e628d5f3-fd5d-441c-9e3d-d764ce1b9491",
   "metadata": {},
   "outputs": [
    {
     "data": {
      "text/plain": [
       "{'Sleepy': (105, '1/1/1911')}"
      ]
     },
     "execution_count": 183,
     "metadata": {},
     "output_type": "execute_result"
    }
   ],
   "source": [
    "dict(zip(names, zip(ages, bdays)))"
   ]
  },
  {
   "cell_type": "markdown",
   "id": "20fcdf7b-240a-475a-8dd2-6a2e3d1dc849",
   "metadata": {},
   "source": [
    "# https://github.com/py-train/npci-hyd"
   ]
  },
  {
   "cell_type": "code",
   "execution_count": null,
   "id": "cc8bcb94-81eb-4208-9b68-dd3865ec53c2",
   "metadata": {},
   "outputs": [],
   "source": []
  }
 ],
 "metadata": {
  "kernelspec": {
   "display_name": "Python 3 (ipykernel)",
   "language": "python",
   "name": "python3"
  },
  "language_info": {
   "codemirror_mode": {
    "name": "ipython",
    "version": 3
   },
   "file_extension": ".py",
   "mimetype": "text/x-python",
   "name": "python",
   "nbconvert_exporter": "python",
   "pygments_lexer": "ipython3",
   "version": "3.11.0"
  }
 },
 "nbformat": 4,
 "nbformat_minor": 5
}
