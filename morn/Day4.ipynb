{
 "cells": [
  {
   "cell_type": "markdown",
   "id": "7e8051fa-11db-438f-9657-0389438e4555",
   "metadata": {},
   "source": [
    "## Day 4"
   ]
  },
  {
   "cell_type": "code",
   "execution_count": 32,
   "id": "27f5dd24-4f87-4605-9d74-11ee063b3e78",
   "metadata": {},
   "outputs": [],
   "source": [
    "# Total number of Males and Females: 157, 87\n",
    "sex_count = {\n",
    "    'Male': 157,\n",
    "    'Female': 87\n",
    "}"
   ]
  },
  {
   "cell_type": "code",
   "execution_count": 30,
   "id": "73a35ea0-3ff1-440b-938c-90d5f5734df9",
   "metadata": {},
   "outputs": [
    {
     "data": {
      "text/plain": [
       "dict_keys(['Male', 'Female'])"
      ]
     },
     "execution_count": 30,
     "metadata": {},
     "output_type": "execute_result"
    }
   ],
   "source": [
    "tips.keys()"
   ]
  },
  {
   "cell_type": "code",
   "execution_count": 33,
   "id": "03496c82-d3a0-45a5-84c5-11dd5142a64e",
   "metadata": {},
   "outputs": [
    {
     "data": {
      "text/plain": [
       "dict_keys(['Male', 'Female'])"
      ]
     },
     "execution_count": 33,
     "metadata": {},
     "output_type": "execute_result"
    }
   ],
   "source": [
    "sex_count.keys()"
   ]
  },
  {
   "cell_type": "code",
   "execution_count": 34,
   "id": "5fca6756-d6f8-4381-b61a-48eb901dd9b2",
   "metadata": {},
   "outputs": [
    {
     "name": "stdout",
     "output_type": "stream",
     "text": [
      "Male 3.0896178343949052\n",
      "Female 2.833448275862069\n"
     ]
    }
   ],
   "source": [
    "for sex in tips.keys():\n",
    "    print(sex, tips[sex] / sex_count[sex])"
   ]
  },
  {
   "cell_type": "code",
   "execution_count": 35,
   "id": "e462b659-517a-4316-ba27-cc7156ac75a9",
   "metadata": {},
   "outputs": [],
   "source": [
    "# Exercise\n",
    "def average(values, counts):\n",
    "    ...\n",
    "    return averages"
   ]
  },
  {
   "cell_type": "code",
   "execution_count": 36,
   "id": "401e7589-a01b-473c-b900-4206dfc0e91f",
   "metadata": {},
   "outputs": [
    {
     "data": {
      "text/plain": [
       "Ellipsis"
      ]
     },
     "execution_count": 36,
     "metadata": {},
     "output_type": "execute_result"
    }
   ],
   "source": [
    "..."
   ]
  },
  {
   "cell_type": "code",
   "execution_count": 37,
   "id": "f208b30b-145f-4d7b-9b3c-f4f53181e5a2",
   "metadata": {},
   "outputs": [],
   "source": [
    "import csv\n",
    "from csv import DictReader"
   ]
  },
  {
   "cell_type": "code",
   "execution_count": 42,
   "id": "a377373b-1183-43f0-8b85-1ce39d104c97",
   "metadata": {},
   "outputs": [],
   "source": [
    "# DictReader example\n",
    "def tips_by(fpath, by='sex', keys=['Male', 'Female']):\n",
    "    f = open(fpath)\n",
    "    drdr = DictReader(f)\n",
    "\n",
    "    # Inititalize keys in a dict with value = 0\n",
    "    values = dict(zip(keys, [0]*len(keys)))\n",
    "    \n",
    "    for row in drdr:\n",
    "        values[row[by]] += float(row['tip'])\n",
    "\n",
    "    return values"
   ]
  },
  {
   "cell_type": "code",
   "execution_count": 41,
   "id": "6bd6cd4d-9fc0-42fa-981e-512764b24dd9",
   "metadata": {},
   "outputs": [
    {
     "data": {
      "text/plain": [
       "{'Fri': 0, 'Sat': 0, 'Sun': 0}"
      ]
     },
     "execution_count": 41,
     "metadata": {},
     "output_type": "execute_result"
    }
   ],
   "source": [
    "keys=['Fri', 'Sat', 'Sun']\n",
    "dict(zip(keys, [0]*len(keys)))"
   ]
  },
  {
   "cell_type": "code",
   "execution_count": 43,
   "id": "9596492f-fe34-4994-aef9-42d56b0689d3",
   "metadata": {},
   "outputs": [
    {
     "data": {
      "text/plain": [
       "{'Male': 485.0700000000001, 'Female': 246.51}"
      ]
     },
     "execution_count": 43,
     "metadata": {},
     "output_type": "execute_result"
    }
   ],
   "source": [
    "tips_by('../data/tips.csv')"
   ]
  },
  {
   "cell_type": "code",
   "execution_count": 45,
   "id": "018a6276-2f53-4cfe-a716-e28994de2c3c",
   "metadata": {},
   "outputs": [
    {
     "data": {
      "text/plain": [
       "{'Yes': 279.81, 'No': 451.7700000000001}"
      ]
     },
     "execution_count": 45,
     "metadata": {},
     "output_type": "execute_result"
    }
   ],
   "source": [
    "tips_by('../data/tips.csv', by='smoker', keys=['Yes', 'No'])"
   ]
  },
  {
   "cell_type": "markdown",
   "id": "19f27923-fa83-4c89-b5c8-4adc0f0707e2",
   "metadata": {},
   "source": [
    "### Python Challenge!"
   ]
  },
  {
   "cell_type": "code",
   "execution_count": 46,
   "id": "58a8f426-aa97-4135-add5-c0758c7339b5",
   "metadata": {},
   "outputs": [
    {
     "data": {
      "text/plain": [
       "274877906944"
      ]
     },
     "execution_count": 46,
     "metadata": {},
     "output_type": "execute_result"
    }
   ],
   "source": [
    "2**38"
   ]
  },
  {
   "cell_type": "code",
   "execution_count": 50,
   "id": "b8e41e1e-99dd-457a-b125-015fd8c7057d",
   "metadata": {},
   "outputs": [
    {
     "data": {
      "text/plain": [
       "'c'"
      ]
     },
     "execution_count": 50,
     "metadata": {},
     "output_type": "execute_result"
    }
   ],
   "source": [
    "chr(ord('a')+2)"
   ]
  },
  {
   "cell_type": "code",
   "execution_count": 48,
   "id": "7efc115a-a096-40eb-b16f-d784b7f6f1e0",
   "metadata": {},
   "outputs": [
    {
     "data": {
      "text/plain": [
       "65"
      ]
     },
     "execution_count": 48,
     "metadata": {},
     "output_type": "execute_result"
    }
   ],
   "source": [
    "ord('A')"
   ]
  },
  {
   "cell_type": "code",
   "execution_count": 52,
   "id": "97db3c87-fc6b-461a-af11-3ed360b5072a",
   "metadata": {},
   "outputs": [
    {
     "name": "stdout",
     "output_type": "stream",
     "text": [
      "i\"hope\"you\"didnt\"tr{nsl{te\"it\"|y\"h{nd0\"th{ts\"wh{t\"computers\"{re\"for0\"doing\"it\"in\"|y\"h{nd\"is\"inefficient\"{nd\"th{t)s\"why\"this\"text\"is\"so\"long0\"using\"string0m{ketr{ns*+\"is\"recommended0\"now\"{pply\"on\"the\"url0"
     ]
    }
   ],
   "source": [
    "encoded = '''g fmnc wms bgblr rpylqjyrc gr zw fylb. rfyrq ufyr amknsrcpq ypc dmp. bmgle gr gl zw fylb gq glcddgagclr ylb rfyr'q ufw rfgq rcvr gq qm jmle. sqgle qrpgle.kyicrpylq() gq pcamkkclbcb. lmu ynnjw ml rfc spj.'''\n",
    "\n",
    "for char in encoded:\n",
    "    print(chr(ord(char)+2), end='')"
   ]
  },
  {
   "cell_type": "code",
   "execution_count": 53,
   "id": "1b0ef33c-e34c-43ae-944e-294491190047",
   "metadata": {},
   "outputs": [
    {
     "name": "stdout",
     "output_type": "stream",
     "text": [
      "ocr"
     ]
    }
   ],
   "source": [
    "for char in 'map':\n",
    "    print(chr(ord(char)+2), end='')"
   ]
  },
  {
   "cell_type": "markdown",
   "id": "77851b1b-be93-4e8a-8463-67ae05d31aa7",
   "metadata": {},
   "source": [
    "## JSON"
   ]
  },
  {
   "cell_type": "code",
   "execution_count": 54,
   "id": "dc402366-cd16-403d-ab65-b21f2ae8f05c",
   "metadata": {},
   "outputs": [],
   "source": [
    "import json"
   ]
  },
  {
   "cell_type": "code",
   "execution_count": 56,
   "id": "f5b783b9-c91b-4cb8-a9b6-c94e1bd25c73",
   "metadata": {},
   "outputs": [
    {
     "data": {
      "text/plain": [
       "[{'hostanme': 'mac1',\n",
       "  'ip': ['192.168.1.18', '10.10.2.9'],\n",
       "  'proc': 'i5',\n",
       "  'mem': 128,\n",
       "  'os': {'base': 'win32', 'bitsize': 32}},\n",
       " {'hostanme': 'mac2',\n",
       "  'ip': ['192.168.1.19', '10.10.2.11'],\n",
       "  'proc': 'i5',\n",
       "  'mem': 128,\n",
       "  'os': {'base': 'win32', 'bitsize': 32}}]"
      ]
     },
     "execution_count": 56,
     "metadata": {},
     "output_type": "execute_result"
    }
   ],
   "source": [
    "f = open('../data/datacenter.json')\n",
    "dc = json.load(f)\n",
    "dc"
   ]
  },
  {
   "cell_type": "code",
   "execution_count": 57,
   "id": "c04f3cdb-18f2-40f9-86a5-9c7f8b8b61a0",
   "metadata": {},
   "outputs": [
    {
     "data": {
      "text/plain": [
       "2"
      ]
     },
     "execution_count": 57,
     "metadata": {},
     "output_type": "execute_result"
    }
   ],
   "source": [
    "len(dc)"
   ]
  },
  {
   "cell_type": "code",
   "execution_count": 58,
   "id": "4554954b-75e1-4f9c-84ef-0d81eed5d0ad",
   "metadata": {},
   "outputs": [
    {
     "data": {
      "text/plain": [
       "{'hostanme': 'mac1',\n",
       " 'ip': ['192.168.1.18', '10.10.2.9'],\n",
       " 'proc': 'i5',\n",
       " 'mem': 128,\n",
       " 'os': {'base': 'win32', 'bitsize': 32}}"
      ]
     },
     "execution_count": 58,
     "metadata": {},
     "output_type": "execute_result"
    }
   ],
   "source": [
    "dc[0]"
   ]
  },
  {
   "cell_type": "code",
   "execution_count": 60,
   "id": "6167b213-be61-46f7-8cc9-182b1294c090",
   "metadata": {},
   "outputs": [
    {
     "data": {
      "text/plain": [
       "dict_keys(['hostanme', 'ip', 'proc', 'mem', 'os'])"
      ]
     },
     "execution_count": 60,
     "metadata": {},
     "output_type": "execute_result"
    }
   ],
   "source": [
    "dc[0].keys()"
   ]
  },
  {
   "cell_type": "code",
   "execution_count": 59,
   "id": "7edbb19a-59f5-4d74-934d-7c7c56e18ea1",
   "metadata": {},
   "outputs": [
    {
     "ename": "AttributeError",
     "evalue": "'list' object has no attribute 'keys'",
     "output_type": "error",
     "traceback": [
      "\u001b[0;31m---------------------------------------------------------------------------\u001b[0m",
      "\u001b[0;31mAttributeError\u001b[0m                            Traceback (most recent call last)",
      "Cell \u001b[0;32mIn[59], line 1\u001b[0m\n\u001b[0;32m----> 1\u001b[0m dc\u001b[38;5;241m.\u001b[39mkeys()\n",
      "\u001b[0;31mAttributeError\u001b[0m: 'list' object has no attribute 'keys'"
     ]
    }
   ],
   "source": [
    "dc.keys()"
   ]
  },
  {
   "cell_type": "code",
   "execution_count": 63,
   "id": "3fdc828e-0f33-4ceb-b188-e9c091c4dfe3",
   "metadata": {},
   "outputs": [
    {
     "data": {
      "text/plain": [
       "['192.168.1.18', '10.10.2.9']"
      ]
     },
     "execution_count": 63,
     "metadata": {},
     "output_type": "execute_result"
    }
   ],
   "source": [
    "# ip addresses of the first machine\n",
    "dc[0]['ip']"
   ]
  },
  {
   "cell_type": "code",
   "execution_count": 65,
   "id": "d6448f90-f5a1-455c-83d7-e7c92992d8ce",
   "metadata": {},
   "outputs": [],
   "source": [
    "d = {'a' : 1, 'b': 2, 'c': 3}"
   ]
  },
  {
   "cell_type": "code",
   "execution_count": 67,
   "id": "5013d4e9-8f3a-4aad-8e8f-99f3ae13ca43",
   "metadata": {},
   "outputs": [
    {
     "data": {
      "text/plain": [
       "3"
      ]
     },
     "execution_count": 67,
     "metadata": {},
     "output_type": "execute_result"
    }
   ],
   "source": [
    "d['c']"
   ]
  },
  {
   "cell_type": "code",
   "execution_count": 68,
   "id": "067a2560-3065-487d-af39-d40ac111d90a",
   "metadata": {},
   "outputs": [
    {
     "data": {
      "text/plain": [
       "'10.10.2.11'"
      ]
     },
     "execution_count": 68,
     "metadata": {},
     "output_type": "execute_result"
    }
   ],
   "source": [
    "# second ip of second machine\n",
    "dc[1]['ip'][1]"
   ]
  },
  {
   "cell_type": "code",
   "execution_count": 70,
   "id": "cf011fdb-23e7-44c9-8182-1821e5485c03",
   "metadata": {},
   "outputs": [
    {
     "name": "stdout",
     "output_type": "stream",
     "text": [
      "32\n",
      "32\n"
     ]
    }
   ],
   "source": [
    "# print bitsizes of all machines\n",
    "for machine in dc:\n",
    "    print(machine['os']['bitsize'])\n",
    "\n",
    "\n",
    "# dc[0]['os']['bitsize']"
   ]
  },
  {
   "cell_type": "markdown",
   "id": "af68e343-4563-4e15-a501-2b949ca612ce",
   "metadata": {},
   "source": [
    "## Object Orientation\n",
    "\n",
    "- Blueprint\n",
    "- Object\n",
    "- Attributes\n",
    "- Behaviours\n",
    "- Modularization"
   ]
  },
  {
   "cell_type": "code",
   "execution_count": 71,
   "id": "25d4755e-3b70-404e-880a-930c4d0629af",
   "metadata": {},
   "outputs": [],
   "source": [
    "# Stack\n",
    "\n",
    "s = []\n",
    "\n",
    "def push(val):\n",
    "    s.append(val)\n",
    "\n",
    "def pop():\n",
    "    return s.pop()"
   ]
  },
  {
   "cell_type": "code",
   "execution_count": null,
   "id": "0d865273-b0be-4d24-acc4-c6a9222f7b55",
   "metadata": {},
   "outputs": [],
   "source": [
    "None"
   ]
  },
  {
   "cell_type": "code",
   "execution_count": 72,
   "id": "4ce1e9f5-0937-45e4-b2fe-c384bfbcd78d",
   "metadata": {},
   "outputs": [],
   "source": [
    "push(1)\n",
    "push(2)\n",
    "push(3)\n",
    "val = pop()\n",
    "push(4)"
   ]
  },
  {
   "cell_type": "code",
   "execution_count": 73,
   "id": "ab26080a-3c31-4102-a0f8-cce74ac1a131",
   "metadata": {},
   "outputs": [
    {
     "data": {
      "text/plain": [
       "[1, 2, 4]"
      ]
     },
     "execution_count": 73,
     "metadata": {},
     "output_type": "execute_result"
    }
   ],
   "source": [
    "s"
   ]
  },
  {
   "cell_type": "code",
   "execution_count": 74,
   "id": "e941aa99-86cd-432b-88f1-e9daaf468fe9",
   "metadata": {},
   "outputs": [
    {
     "data": {
      "text/plain": [
       "3"
      ]
     },
     "execution_count": 74,
     "metadata": {},
     "output_type": "execute_result"
    }
   ],
   "source": [
    "val"
   ]
  },
  {
   "cell_type": "code",
   "execution_count": 79,
   "id": "ca6c0ee3-3687-4fc6-8f26-5d0c280cf1db",
   "metadata": {},
   "outputs": [],
   "source": [
    "def create_stack():\n",
    "    return []\n",
    "\n",
    "def push(s, val):\n",
    "    s.append(val)\n",
    "\n",
    "def pop(s):\n",
    "    return s.pop()"
   ]
  },
  {
   "cell_type": "code",
   "execution_count": 80,
   "id": "25e444cb-c25d-4170-b9b6-5c61fcccc4f8",
   "metadata": {},
   "outputs": [],
   "source": [
    "s1 = create_stack()\n",
    "s2 = create_stack()\n",
    "\n",
    "push(s1,1)\n",
    "push(s2,2)\n",
    "push(s1,3)\n",
    "val = pop(s2)\n",
    "push(s1,4)"
   ]
  },
  {
   "cell_type": "code",
   "execution_count": 81,
   "id": "cfd95781-82e6-4033-a3b8-10e33bbcc09c",
   "metadata": {},
   "outputs": [
    {
     "data": {
      "text/plain": [
       "[1, 3, 4]"
      ]
     },
     "execution_count": 81,
     "metadata": {},
     "output_type": "execute_result"
    }
   ],
   "source": [
    "s1"
   ]
  },
  {
   "cell_type": "code",
   "execution_count": 82,
   "id": "2aee1a29-ecf5-4ad6-8b69-7c27768a1a22",
   "metadata": {},
   "outputs": [
    {
     "data": {
      "text/plain": [
       "[]"
      ]
     },
     "execution_count": 82,
     "metadata": {},
     "output_type": "execute_result"
    }
   ],
   "source": [
    "s2"
   ]
  },
  {
   "cell_type": "code",
   "execution_count": 83,
   "id": "5a7e2b5b-dadb-42bf-9f91-0c91c070b46f",
   "metadata": {},
   "outputs": [
    {
     "ename": "AttributeError",
     "evalue": "'dict' object has no attribute 'append'",
     "output_type": "error",
     "traceback": [
      "\u001b[0;31m---------------------------------------------------------------------------\u001b[0m",
      "\u001b[0;31mAttributeError\u001b[0m                            Traceback (most recent call last)",
      "Cell \u001b[0;32mIn[83], line 3\u001b[0m\n\u001b[1;32m      1\u001b[0m s3 \u001b[38;5;241m=\u001b[39m {}\n\u001b[0;32m----> 3\u001b[0m push(s3, \u001b[38;5;241m1\u001b[39m)\n",
      "Cell \u001b[0;32mIn[79], line 5\u001b[0m, in \u001b[0;36mpush\u001b[0;34m(s, val)\u001b[0m\n\u001b[1;32m      4\u001b[0m \u001b[38;5;28;01mdef\u001b[39;00m \u001b[38;5;21mpush\u001b[39m(s, val):\n\u001b[0;32m----> 5\u001b[0m     s\u001b[38;5;241m.\u001b[39mappend(val)\n",
      "\u001b[0;31mAttributeError\u001b[0m: 'dict' object has no attribute 'append'"
     ]
    }
   ],
   "source": [
    "s3 = {}\n",
    "\n",
    "push(s3, 1)"
   ]
  },
  {
   "cell_type": "code",
   "execution_count": null,
   "id": "a2212f81-a25a-43e4-9a4d-33e5dff50cbf",
   "metadata": {},
   "outputs": [],
   "source": [
    "csv.reader\n",
    "csv.DictReader"
   ]
  },
  {
   "cell_type": "code",
   "execution_count": 85,
   "id": "0f1ab3de-6179-4b71-9cb7-398868afb92d",
   "metadata": {},
   "outputs": [],
   "source": [
    "class Stack:\n",
    "    # constructor\n",
    "    def __init__(self):       # dunder init\n",
    "        self.data = []\n",
    "    \n",
    "    def push(self, val):\n",
    "        self.data.append(val)\n",
    "    \n",
    "    def pop(self):\n",
    "        return self.data.pop()"
   ]
  },
  {
   "cell_type": "code",
   "execution_count": null,
   "id": "7c067488-8c96-42d8-bc04-0139ad45be0a",
   "metadata": {},
   "outputs": [],
   "source": [
    "this\n",
    "self"
   ]
  },
  {
   "cell_type": "code",
   "execution_count": 86,
   "id": "0a9782ca-adb8-4fa1-9c16-673b69fc97ca",
   "metadata": {},
   "outputs": [
    {
     "data": {
      "text/plain": [
       "4"
      ]
     },
     "execution_count": 86,
     "metadata": {},
     "output_type": "execute_result"
    }
   ],
   "source": [
    "s1 = Stack()\n",
    "s2 = Stack()\n",
    "\n",
    "s1.push(1)\n",
    "s1.push(2)\n",
    "s1.push(3)\n",
    "s1.push(4)\n",
    "s1.pop()"
   ]
  },
  {
   "cell_type": "code",
   "execution_count": 87,
   "id": "c090b281-d371-43f8-846e-943d9e822c9b",
   "metadata": {},
   "outputs": [
    {
     "data": {
      "text/plain": [
       "[1, 2, 3]"
      ]
     },
     "execution_count": 87,
     "metadata": {},
     "output_type": "execute_result"
    }
   ],
   "source": [
    "s1.data"
   ]
  },
  {
   "cell_type": "code",
   "execution_count": 88,
   "id": "8c42381a-5c08-48f8-9732-d84ac80590aa",
   "metadata": {},
   "outputs": [],
   "source": [
    "# iterfaces: abstract base classes\n",
    "class Stack:\n",
    "    __meta__ = abc.ABC\n",
    "    # constructor\n",
    "    @abc.abstractmethod\n",
    "    def __init__(self):       # dunder init\n",
    "        ...\n",
    "\n",
    "    @abc.abstractmethod\n",
    "    def push(self, val):\n",
    "        ...\n",
    "\n",
    "    @abc.abstractmethod\n",
    "    def pop(self):\n",
    "        ..."
   ]
  },
  {
   "cell_type": "code",
   "execution_count": 89,
   "id": "5d347408-5bec-4078-a453-2c87464e65be",
   "metadata": {},
   "outputs": [],
   "source": [
    "s = Stack()"
   ]
  },
  {
   "cell_type": "code",
   "execution_count": 90,
   "id": "52749262-3001-4eba-9d96-2b26fce937f8",
   "metadata": {},
   "outputs": [],
   "source": [
    "import abc"
   ]
  },
  {
   "cell_type": "code",
   "execution_count": null,
   "id": "c0f92e70-4447-4098-ac43-c2db43d24ab5",
   "metadata": {},
   "outputs": [],
   "source": [
    "abc.abstractmethod"
   ]
  },
  {
   "cell_type": "code",
   "execution_count": 91,
   "id": "f96cc3da-77ef-472e-acd3-c4ab91c28396",
   "metadata": {},
   "outputs": [
    {
     "data": {
      "text/plain": [
       "abc.ABC"
      ]
     },
     "execution_count": 91,
     "metadata": {},
     "output_type": "execute_result"
    }
   ],
   "source": [
    "abc.ABC"
   ]
  },
  {
   "cell_type": "code",
   "execution_count": 92,
   "id": "e6444759-8b0a-4aa0-8205-0762c99424ed",
   "metadata": {},
   "outputs": [],
   "source": [
    "# Exercise\n",
    "# BankAccount\n",
    "# Attribnutes: ac no, holder details(name, kyc), balance\n",
    "# Actions: credit, debit, check balance"
   ]
  },
  {
   "cell_type": "markdown",
   "id": "de96f102-1fd3-47c9-ad04-f7c1f3130043",
   "metadata": {},
   "source": [
    "## Modules"
   ]
  },
  {
   "cell_type": "code",
   "execution_count": 93,
   "id": "63cb5105-c206-42f8-8edc-25e0d0c049fb",
   "metadata": {},
   "outputs": [],
   "source": [
    "import csv"
   ]
  },
  {
   "cell_type": "code",
   "execution_count": 94,
   "id": "26862fe3-4ca5-4f54-aaf9-fb2577d785f9",
   "metadata": {},
   "outputs": [
    {
     "data": {
      "text/plain": [
       "<module 'csv' from '/opt/anaconda3/lib/python3.11/csv.py'>"
      ]
     },
     "execution_count": 94,
     "metadata": {},
     "output_type": "execute_result"
    }
   ],
   "source": [
    "csv"
   ]
  },
  {
   "cell_type": "code",
   "execution_count": 95,
   "id": "9bee56ce-5f2e-4a34-b844-492daa647911",
   "metadata": {},
   "outputs": [],
   "source": [
    "import pandas"
   ]
  },
  {
   "cell_type": "code",
   "execution_count": 96,
   "id": "68db7b2c-690f-4f18-a779-e0271d7ce2d7",
   "metadata": {},
   "outputs": [
    {
     "data": {
      "text/plain": [
       "<module 'pandas' from '/opt/anaconda3/lib/python3.11/site-packages/pandas/__init__.py'>"
      ]
     },
     "execution_count": 96,
     "metadata": {},
     "output_type": "execute_result"
    }
   ],
   "source": [
    "pandas"
   ]
  },
  {
   "cell_type": "code",
   "execution_count": 97,
   "id": "35da9eab-8bda-4b2c-9d4c-f149e2485424",
   "metadata": {},
   "outputs": [],
   "source": [
    "import sys"
   ]
  },
  {
   "cell_type": "code",
   "execution_count": 99,
   "id": "20cbdbbe-5c2e-4081-9ea5-dfc783563b95",
   "metadata": {},
   "outputs": [
    {
     "data": {
      "text/plain": [
       "['/Users/ashishgulati/Train/npci/npci-hyd/morn',\n",
       " '/opt/anaconda3/lib/python311.zip',\n",
       " '/opt/anaconda3/lib/python3.11',\n",
       " '/opt/anaconda3/lib/python3.11/lib-dynload',\n",
       " '',\n",
       " '/opt/anaconda3/lib/python3.11/site-packages',\n",
       " '/opt/anaconda3/lib/python3.11/site-packages/aeosa',\n",
       " '/opt/anaconda3/lib/python3.11/site-packages/pyjnius-1.6.1-py3.11-macosx-11.0-arm64.egg']"
      ]
     },
     "execution_count": 99,
     "metadata": {},
     "output_type": "execute_result"
    }
   ],
   "source": [
    "sys.path"
   ]
  },
  {
   "cell_type": "code",
   "execution_count": null,
   "id": "dc1c9e95-728d-41ab-9ae2-b3fa30b27c0b",
   "metadata": {},
   "outputs": [],
   "source": [
    "import list1"
   ]
  },
  {
   "cell_type": "code",
   "execution_count": null,
   "id": "cde72e8d-781a-47a7-9095-bf02ceaab86e",
   "metadata": {},
   "outputs": [],
   "source": []
  },
  {
   "cell_type": "code",
   "execution_count": null,
   "id": "f1851b10-df41-42ae-9dc2-b381866f9ece",
   "metadata": {},
   "outputs": [],
   "source": []
  },
  {
   "cell_type": "code",
   "execution_count": null,
   "id": "f3cfb16b-f844-4abd-b79f-efeddb531473",
   "metadata": {},
   "outputs": [],
   "source": []
  }
 ],
 "metadata": {
  "kernelspec": {
   "display_name": "Python 3 (ipykernel)",
   "language": "python",
   "name": "python3"
  },
  "language_info": {
   "codemirror_mode": {
    "name": "ipython",
    "version": 3
   },
   "file_extension": ".py",
   "mimetype": "text/x-python",
   "name": "python",
   "nbconvert_exporter": "python",
   "pygments_lexer": "ipython3",
   "version": "3.11.0"
  }
 },
 "nbformat": 4,
 "nbformat_minor": 5
}
