{
 "cells": [
  {
   "cell_type": "code",
   "execution_count": 6,
   "id": "9956321e-e523-4186-ad9a-812af09164cc",
   "metadata": {},
   "outputs": [],
   "source": [
    "# Exercises\n",
    "\n",
    "words = 'the quick brown fox jumps over the lazy dog'.split()"
   ]
  },
  {
   "cell_type": "code",
   "execution_count": 7,
   "id": "786da134-8939-4f2f-83a8-252c88c33edf",
   "metadata": {},
   "outputs": [
    {
     "data": {
      "text/plain": [
       "list"
      ]
     },
     "execution_count": 7,
     "metadata": {},
     "output_type": "execute_result"
    }
   ],
   "source": [
    "type(words)"
   ]
  },
  {
   "cell_type": "code",
   "execution_count": 8,
   "id": "377f0748-1587-4896-b3c9-9779410da0dc",
   "metadata": {},
   "outputs": [
    {
     "data": {
      "text/plain": [
       "['the', 'quick', 'brown', 'fox', 'jumps', 'over', 'the', 'lazy', 'dog']"
      ]
     },
     "execution_count": 8,
     "metadata": {},
     "output_type": "execute_result"
    }
   ],
   "source": [
    "words"
   ]
  },
  {
   "cell_type": "code",
   "execution_count": 11,
   "id": "cc44327e-a50d-44e9-b331-d089d47eec50",
   "metadata": {},
   "outputs": [
    {
     "data": {
      "text/plain": [
       "['quick', 'brown', 'fox', 'lazy', 'dog']"
      ]
     },
     "execution_count": 11,
     "metadata": {},
     "output_type": "execute_result"
    }
   ],
   "source": [
    "words[1:4] + words[-2:]"
   ]
  },
  {
   "cell_type": "code",
   "execution_count": null,
   "id": "6d17c989-ebc1-496a-8de1-24ea060f95a8",
   "metadata": {},
   "outputs": [],
   "source": [
    "['quick', 'brown', 'fox', 'lazy', 'dog']"
   ]
  },
  {
   "cell_type": "code",
   "execution_count": 23,
   "id": "33072681-2248-44a7-991b-0c409828d713",
   "metadata": {},
   "outputs": [
    {
     "name": "stdin",
     "output_type": "stream",
     "text": [
      "Word to find gorilla\n"
     ]
    },
    {
     "data": {
      "text/plain": [
       "0"
      ]
     },
     "execution_count": 23,
     "metadata": {},
     "output_type": "execute_result"
    }
   ],
   "source": [
    "# Find how many times a user-entered word is present in the list\n",
    "word = input('Word to find')\n",
    "words.count(word)"
   ]
  },
  {
   "cell_type": "code",
   "execution_count": 18,
   "id": "0734539d-49d9-405c-9a6a-6be3c62ec7df",
   "metadata": {},
   "outputs": [
    {
     "name": "stdin",
     "output_type": "stream",
     "text": [
      "Enter a number 123\n"
     ]
    }
   ],
   "source": [
    "num = input('Enter a number')"
   ]
  },
  {
   "cell_type": "code",
   "execution_count": 20,
   "id": "d6abcc48-dd8d-414b-bba9-ac6d73b9ed7a",
   "metadata": {},
   "outputs": [
    {
     "data": {
      "text/plain": [
       "15129"
      ]
     },
     "execution_count": 20,
     "metadata": {},
     "output_type": "execute_result"
    }
   ],
   "source": [
    "int(num) ** 2"
   ]
  },
  {
   "cell_type": "markdown",
   "id": "de5e0bcc-c55a-4116-87c1-24d126a0c62c",
   "metadata": {},
   "source": [
    "# Strings"
   ]
  },
  {
   "cell_type": "code",
   "execution_count": 32,
   "id": "bae31b21-3fe3-4f88-99d7-f569b482fbba",
   "metadata": {},
   "outputs": [],
   "source": [
    "name = 'Alexandar'\n",
    "address = '1\\'st main, 2\\'nd cross, '\n",
    "address = \"1'st main, 2'nd cross, \"\n",
    "multiline = 'hello\\\n",
    "world\\\n",
    "howdy!'\n",
    "multiline = '''hello\n",
    "world\n",
    "howdy!'''\n",
    "winpath = r'c:\\windows\\test\\newfile.txt'     # raw-string\n",
    "email_patt = r'\\w+@\\w+\\.\\w+'"
   ]
  },
  {
   "cell_type": "code",
   "execution_count": 27,
   "id": "a79152cc-73d1-4051-bae2-afa75619036f",
   "metadata": {},
   "outputs": [
    {
     "data": {
      "text/plain": [
       "str"
      ]
     },
     "execution_count": 27,
     "metadata": {},
     "output_type": "execute_result"
    }
   ],
   "source": [
    "type(address)"
   ]
  },
  {
   "cell_type": "code",
   "execution_count": 33,
   "id": "00425b4e-7fa4-4095-9bf6-b7b453308bad",
   "metadata": {},
   "outputs": [
    {
     "name": "stdout",
     "output_type": "stream",
     "text": [
      "c:\\windows\test\n",
      "ewfile.txt\n"
     ]
    }
   ],
   "source": [
    "print(winpath)"
   ]
  },
  {
   "cell_type": "code",
   "execution_count": 34,
   "id": "b3580259-d137-444e-8683-7ad31341f59d",
   "metadata": {},
   "outputs": [
    {
     "data": {
      "text/plain": [
       "\"Alexandar1'st main, 2'nd cross, \""
      ]
     },
     "execution_count": 34,
     "metadata": {},
     "output_type": "execute_result"
    }
   ],
   "source": [
    "name + address"
   ]
  },
  {
   "cell_type": "code",
   "execution_count": 35,
   "id": "93fd5f64-bc14-423c-b103-a655de4f5b56",
   "metadata": {},
   "outputs": [
    {
     "data": {
      "text/plain": [
       "'AlexandarAlexandarAlexandar'"
      ]
     },
     "execution_count": 35,
     "metadata": {},
     "output_type": "execute_result"
    }
   ],
   "source": [
    "name * 3"
   ]
  },
  {
   "cell_type": "code",
   "execution_count": 36,
   "id": "d6cbb68a-5b67-4b15-a82b-1552c4868c56",
   "metadata": {},
   "outputs": [
    {
     "data": {
      "text/plain": [
       "'r'"
      ]
     },
     "execution_count": 36,
     "metadata": {},
     "output_type": "execute_result"
    }
   ],
   "source": [
    "name[-1]"
   ]
  },
  {
   "cell_type": "code",
   "execution_count": 38,
   "id": "cd18b555-05aa-4de9-b798-091fa3aa7d2a",
   "metadata": {},
   "outputs": [
    {
     "data": {
      "text/plain": [
       "'andar'"
      ]
     },
     "execution_count": 38,
     "metadata": {},
     "output_type": "execute_result"
    }
   ],
   "source": [
    "name[-5:]"
   ]
  },
  {
   "cell_type": "code",
   "execution_count": 39,
   "id": "3b79cfab-ace2-4d46-9ba8-5f8b88f56933",
   "metadata": {},
   "outputs": [
    {
     "data": {
      "text/plain": [
       "'Alexandar'"
      ]
     },
     "execution_count": 39,
     "metadata": {},
     "output_type": "execute_result"
    }
   ],
   "source": [
    "name"
   ]
  },
  {
   "cell_type": "code",
   "execution_count": 40,
   "id": "3677e769-7620-40fe-bc4a-a13e585beed5",
   "metadata": {},
   "outputs": [
    {
     "data": {
      "text/plain": [
       "'Alar'"
      ]
     },
     "execution_count": 40,
     "metadata": {},
     "output_type": "execute_result"
    }
   ],
   "source": [
    "'Alar'\n",
    "name[:2] + name[-2:]"
   ]
  },
  {
   "cell_type": "code",
   "execution_count": 41,
   "id": "248eeae7-dcde-46be-bd61-20d763f2bdb0",
   "metadata": {},
   "outputs": [
    {
     "data": {
      "text/plain": [
       "'Alexandar'"
      ]
     },
     "execution_count": 41,
     "metadata": {},
     "output_type": "execute_result"
    }
   ],
   "source": [
    "name.capitalize()"
   ]
  },
  {
   "cell_type": "code",
   "execution_count": 42,
   "id": "0f914eb2-c473-43db-bd09-668edbae1b70",
   "metadata": {},
   "outputs": [
    {
     "data": {
      "text/plain": [
       "'ALEXANDAR'"
      ]
     },
     "execution_count": 42,
     "metadata": {},
     "output_type": "execute_result"
    }
   ],
   "source": [
    "name.upper()"
   ]
  },
  {
   "cell_type": "code",
   "execution_count": 43,
   "id": "f4fdea27-ffd2-477b-b2b6-08f29f174d9a",
   "metadata": {},
   "outputs": [
    {
     "data": {
      "text/plain": [
       "'alexandar'"
      ]
     },
     "execution_count": 43,
     "metadata": {},
     "output_type": "execute_result"
    }
   ],
   "source": [
    "name.lower()"
   ]
  },
  {
   "cell_type": "code",
   "execution_count": 44,
   "id": "5591a6f2-af1c-40bb-a422-ee01bc3fa873",
   "metadata": {},
   "outputs": [
    {
     "data": {
      "text/plain": [
       "False"
      ]
     },
     "execution_count": 44,
     "metadata": {},
     "output_type": "execute_result"
    }
   ],
   "source": [
    "name.islower()      # predicates"
   ]
  },
  {
   "cell_type": "code",
   "execution_count": 45,
   "id": "b987e1d8-098a-4b00-8de9-2bec841c66b4",
   "metadata": {},
   "outputs": [],
   "source": [
    "sentence = 'the quick brown fox jumps over the lazy dog'"
   ]
  },
  {
   "cell_type": "code",
   "execution_count": 46,
   "id": "0bcf5ae5-ea88-4ec6-a9fa-d5a3c4e423ee",
   "metadata": {},
   "outputs": [
    {
     "data": {
      "text/plain": [
       "2"
      ]
     },
     "execution_count": 46,
     "metadata": {},
     "output_type": "execute_result"
    }
   ],
   "source": [
    "sentence.count('the')"
   ]
  },
  {
   "cell_type": "code",
   "execution_count": 47,
   "id": "907c0182-d611-4f0c-a3e8-d953f3d7375d",
   "metadata": {},
   "outputs": [
    {
     "data": {
      "text/plain": [
       "0"
      ]
     },
     "execution_count": 47,
     "metadata": {},
     "output_type": "execute_result"
    }
   ],
   "source": [
    "sentence.count('zebra')"
   ]
  },
  {
   "cell_type": "code",
   "execution_count": 48,
   "id": "2eb6a7a4-1e94-445d-ade6-76b55c796240",
   "metadata": {},
   "outputs": [
    {
     "data": {
      "text/plain": [
       "0"
      ]
     },
     "execution_count": 48,
     "metadata": {},
     "output_type": "execute_result"
    }
   ],
   "source": [
    "sentence.index('the')"
   ]
  },
  {
   "cell_type": "code",
   "execution_count": 49,
   "id": "409b3be1-adbc-49b4-9426-7caec5dceb0f",
   "metadata": {},
   "outputs": [
    {
     "ename": "ValueError",
     "evalue": "substring not found",
     "output_type": "error",
     "traceback": [
      "\u001b[0;31m---------------------------------------------------------------------------\u001b[0m",
      "\u001b[0;31mValueError\u001b[0m                                Traceback (most recent call last)",
      "Cell \u001b[0;32mIn[49], line 1\u001b[0m\n\u001b[0;32m----> 1\u001b[0m sentence\u001b[38;5;241m.\u001b[39mindex(\u001b[38;5;124m'\u001b[39m\u001b[38;5;124mzebra\u001b[39m\u001b[38;5;124m'\u001b[39m)\n",
      "\u001b[0;31mValueError\u001b[0m: substring not found"
     ]
    }
   ],
   "source": [
    "sentence.index('zebra')"
   ]
  },
  {
   "cell_type": "code",
   "execution_count": 50,
   "id": "bff3e62f-c0fd-48fe-90a2-edf654ba7da0",
   "metadata": {},
   "outputs": [
    {
     "data": {
      "text/plain": [
       "-1"
      ]
     },
     "execution_count": 50,
     "metadata": {},
     "output_type": "execute_result"
    }
   ],
   "source": [
    "sentence.find('zebra')"
   ]
  },
  {
   "cell_type": "code",
   "execution_count": 51,
   "id": "d5c36ec8-aa40-4998-a7b9-d1812e6b9e50",
   "metadata": {},
   "outputs": [
    {
     "data": {
      "text/plain": [
       "True"
      ]
     },
     "execution_count": 51,
     "metadata": {},
     "output_type": "execute_result"
    }
   ],
   "source": [
    "'the' in sentence     # membership check operator"
   ]
  },
  {
   "cell_type": "code",
   "execution_count": 52,
   "id": "9f96a48f-7964-4d9a-837b-bacfb17bb4c4",
   "metadata": {},
   "outputs": [
    {
     "data": {
      "text/plain": [
       "True"
      ]
     },
     "execution_count": 52,
     "metadata": {},
     "output_type": "execute_result"
    }
   ],
   "source": [
    "1 in [1,2,3,4]"
   ]
  },
  {
   "cell_type": "code",
   "execution_count": null,
   "id": "c0ad0d83-e739-42a4-a468-fef41fb33224",
   "metadata": {},
   "outputs": [],
   "source": [
    "# if sub in sentence or element in nums:\n",
    "    "
   ]
  },
  {
   "cell_type": "code",
   "execution_count": 53,
   "id": "33fe6ae9-c047-42e2-8ec0-3590b2463d2f",
   "metadata": {},
   "outputs": [
    {
     "data": {
      "text/plain": [
       "True"
      ]
     },
     "execution_count": 53,
     "metadata": {},
     "output_type": "execute_result"
    }
   ],
   "source": [
    "name.endswith('ar')"
   ]
  },
  {
   "cell_type": "code",
   "execution_count": 54,
   "id": "f772d1c6-a6e7-4e4d-8bf9-488aa08bd839",
   "metadata": {},
   "outputs": [
    {
     "data": {
      "text/plain": [
       "False"
      ]
     },
     "execution_count": 54,
     "metadata": {},
     "output_type": "execute_result"
    }
   ],
   "source": [
    "name.endswith('AR')"
   ]
  },
  {
   "cell_type": "code",
   "execution_count": 56,
   "id": "931e9cb2-eb40-417f-8f18-f728036df3f1",
   "metadata": {},
   "outputs": [
    {
     "data": {
      "text/plain": [
       "'123,    Mighty   Street'"
      ]
     },
     "execution_count": 56,
     "metadata": {},
     "output_type": "execute_result"
    }
   ],
   "source": [
    "address = '        123,    Mighty   Street       '\n",
    "address.strip()"
   ]
  },
  {
   "cell_type": "code",
   "execution_count": 57,
   "id": "7c9b3da2-8afe-4fcc-8df2-6d4fd1a94807",
   "metadata": {},
   "outputs": [
    {
     "data": {
      "text/plain": [
       "['123,', 'Mighty', 'Street']"
      ]
     },
     "execution_count": 57,
     "metadata": {},
     "output_type": "execute_result"
    }
   ],
   "source": [
    "address.split()"
   ]
  },
  {
   "cell_type": "code",
   "execution_count": 59,
   "id": "d3ceedf0-a3f0-432d-8b69-d88391b6a248",
   "metadata": {},
   "outputs": [
    {
     "data": {
      "text/plain": [
       "['123', '456', '789']"
      ]
     },
     "execution_count": 59,
     "metadata": {},
     "output_type": "execute_result"
    }
   ],
   "source": [
    "nums = '123:456:789'\n",
    "nums.split(':')"
   ]
  },
  {
   "cell_type": "code",
   "execution_count": 61,
   "id": "a608e4bf-9399-43f6-8c4f-ccf0972155be",
   "metadata": {},
   "outputs": [
    {
     "name": "stdout",
     "output_type": "stream",
     "text": [
      "15129\n",
      "207936\n",
      "622521\n"
     ]
    }
   ],
   "source": [
    "for num in nums.split(':'):\n",
    "    print(int(num) ** 2)"
   ]
  },
  {
   "cell_type": "code",
   "execution_count": 62,
   "id": "cd2da0d1-a4a9-4982-b83c-0d7df87b2271",
   "metadata": {},
   "outputs": [],
   "source": [
    "names = '       mighty  joe  black  '"
   ]
  },
  {
   "cell_type": "code",
   "execution_count": 64,
   "id": "bd80700b-d9bf-41b3-8ac4-cd8029c188bf",
   "metadata": {},
   "outputs": [
    {
     "data": {
      "text/plain": [
       "'Mighty  joe  black'"
      ]
     },
     "execution_count": 64,
     "metadata": {},
     "output_type": "execute_result"
    }
   ],
   "source": [
    "names.strip().capitalize()"
   ]
  },
  {
   "cell_type": "code",
   "execution_count": 65,
   "id": "d53f199c-3251-42d0-a0dc-b099d79a5a36",
   "metadata": {},
   "outputs": [
    {
     "data": {
      "text/plain": [
       "'       Mighty  Joe  Black  '"
      ]
     },
     "execution_count": 65,
     "metadata": {},
     "output_type": "execute_result"
    }
   ],
   "source": [
    "names.title()"
   ]
  },
  {
   "cell_type": "code",
   "execution_count": 68,
   "id": "99d01f25-d878-474d-82b8-99a21f9c1e33",
   "metadata": {},
   "outputs": [
    {
     "data": {
      "text/plain": [
       "['the', 'quick', 'brown', 'fox', 'jumps', 'over', 'the', 'lazy', 'dog']"
      ]
     },
     "execution_count": 68,
     "metadata": {},
     "output_type": "execute_result"
    }
   ],
   "source": [
    "words = sentence.split()\n",
    "words"
   ]
  },
  {
   "cell_type": "code",
   "execution_count": null,
   "id": "370587e8-4754-43b3-8ed9-3afdb8274e32",
   "metadata": {},
   "outputs": [],
   "source": [
    "'the:quick:brown:fox...'"
   ]
  },
  {
   "cell_type": "code",
   "execution_count": 69,
   "id": "22506f1a-01e2-400b-94db-1b842fb41637",
   "metadata": {},
   "outputs": [
    {
     "data": {
      "text/plain": [
       "'the:quick:brown:fox:jumps:over:the:lazy:dog'"
      ]
     },
     "execution_count": 69,
     "metadata": {},
     "output_type": "execute_result"
    }
   ],
   "source": [
    "':'.join(words)"
   ]
  },
  {
   "cell_type": "code",
   "execution_count": 70,
   "id": "e38a099b-a652-4189-85d7-ad3521b09ebc",
   "metadata": {},
   "outputs": [
    {
     "data": {
      "text/plain": [
       "'the--quick--brown--fox--jumps--over--the--lazy--dog'"
      ]
     },
     "execution_count": 70,
     "metadata": {},
     "output_type": "execute_result"
    }
   ],
   "source": [
    "'--'.join(words)"
   ]
  },
  {
   "cell_type": "code",
   "execution_count": 73,
   "id": "70a68a23-3646-4b1a-a724-791d62ee0ca4",
   "metadata": {},
   "outputs": [],
   "source": [
    "# Exercises\n",
    "first = 'charles'\n",
    "middle = 'chadwick'\n",
    "last = 'CHAPLIN'"
   ]
  },
  {
   "cell_type": "code",
   "execution_count": null,
   "id": "2b90710f-f518-449a-9b44-8069e96f6981",
   "metadata": {},
   "outputs": [],
   "source": [
    "formal = 'C.C.Chaplin'"
   ]
  },
  {
   "cell_type": "code",
   "execution_count": 78,
   "id": "18494c8d-b19f-44b0-b23c-6818a64a6b46",
   "metadata": {},
   "outputs": [
    {
     "data": {
      "text/plain": [
       "'C.C.Chaplin'"
      ]
     },
     "execution_count": 78,
     "metadata": {},
     "output_type": "execute_result"
    }
   ],
   "source": [
    "first.upper()[0] + '.' + middle.upper()[0] + '.' + last.capitalize()"
   ]
  },
  {
   "cell_type": "code",
   "execution_count": 79,
   "id": "1f190001-d8ee-455a-a82f-2a3f5b162adf",
   "metadata": {},
   "outputs": [
    {
     "data": {
      "text/plain": [
       "'C.C.Chaplin'"
      ]
     },
     "execution_count": 79,
     "metadata": {},
     "output_type": "execute_result"
    }
   ],
   "source": [
    "'.'.join([first.upper()[0], middle.upper()[0], last.capitalize()])"
   ]
  },
  {
   "cell_type": "code",
   "execution_count": 82,
   "id": "b00eb094-9c14-4262-95e5-d52b4255cb97",
   "metadata": {},
   "outputs": [
    {
     "data": {
      "text/plain": [
       "'Charles Chadwick Chaplin'"
      ]
     },
     "execution_count": 82,
     "metadata": {},
     "output_type": "execute_result"
    }
   ],
   "source": [
    "' '.join([first, middle, last]).title()"
   ]
  },
  {
   "cell_type": "code",
   "execution_count": 83,
   "id": "daf378c1-ea0c-4782-a983-941ad6da8081",
   "metadata": {},
   "outputs": [
    {
     "data": {
      "text/plain": [
       "'CHARLES'"
      ]
     },
     "execution_count": 83,
     "metadata": {},
     "output_type": "execute_result"
    }
   ],
   "source": [
    "first.upper()"
   ]
  },
  {
   "cell_type": "code",
   "execution_count": 84,
   "id": "9d1bc0ae-edd9-462e-97bf-899c150d5d0e",
   "metadata": {},
   "outputs": [
    {
     "data": {
      "text/plain": [
       "'charles'"
      ]
     },
     "execution_count": 84,
     "metadata": {},
     "output_type": "execute_result"
    }
   ],
   "source": [
    "first"
   ]
  },
  {
   "cell_type": "markdown",
   "id": "87729871-24e6-4192-b9d1-28ab4aa97426",
   "metadata": {},
   "source": [
    "## Mutable/Immutable\n",
    "\n",
    "- Copy by reference\n",
    "- Copy by value"
   ]
  },
  {
   "cell_type": "code",
   "execution_count": 85,
   "id": "94ac0749-c12a-4348-9312-07fd594daa5b",
   "metadata": {},
   "outputs": [
    {
     "data": {
      "text/plain": [
       "tuple"
      ]
     },
     "execution_count": 85,
     "metadata": {},
     "output_type": "execute_result"
    }
   ],
   "source": [
    "nums = (1,2,3,4)\n",
    "type(nums)"
   ]
  },
  {
   "cell_type": "code",
   "execution_count": 88,
   "id": "a6f76fa0-111c-41fe-866f-be3f7f9d2ebc",
   "metadata": {},
   "outputs": [
    {
     "data": {
      "text/plain": [
       "(3, 4)"
      ]
     },
     "execution_count": 88,
     "metadata": {},
     "output_type": "execute_result"
    }
   ],
   "source": [
    "nums[0]\n",
    "nums[-2:]"
   ]
  },
  {
   "cell_type": "code",
   "execution_count": 91,
   "id": "cc16f4e1-e870-46bf-af12-f41f753007d2",
   "metadata": {},
   "outputs": [
    {
     "data": {
      "text/plain": [
       "'CHARLES'"
      ]
     },
     "execution_count": 91,
     "metadata": {},
     "output_type": "execute_result"
    }
   ],
   "source": [
    "first = 'charles'\n",
    "first.upper()\n"
   ]
  },
  {
   "cell_type": "code",
   "execution_count": 90,
   "id": "9f9d8c03-af28-40fe-aaa9-894886ed1b18",
   "metadata": {},
   "outputs": [],
   "source": [
    "FIRST = first.upper()"
   ]
  },
  {
   "cell_type": "code",
   "execution_count": 92,
   "id": "233487fd-03b5-4652-b712-07250a29d454",
   "metadata": {},
   "outputs": [
    {
     "data": {
      "text/plain": [
       "4614067440"
      ]
     },
     "execution_count": 92,
     "metadata": {},
     "output_type": "execute_result"
    }
   ],
   "source": [
    "id(first)"
   ]
  },
  {
   "cell_type": "code",
   "execution_count": 93,
   "id": "7cf5894b-a2a6-4403-9ecf-0242ff68bc3f",
   "metadata": {},
   "outputs": [],
   "source": [
    "first = first.upper()"
   ]
  },
  {
   "cell_type": "code",
   "execution_count": 94,
   "id": "8ba612f6-a3ac-434d-ba4e-5d4b3b8119f9",
   "metadata": {},
   "outputs": [
    {
     "data": {
      "text/plain": [
       "4602225648"
      ]
     },
     "execution_count": 94,
     "metadata": {},
     "output_type": "execute_result"
    }
   ],
   "source": [
    "id(first)"
   ]
  },
  {
   "cell_type": "code",
   "execution_count": 96,
   "id": "94466af4-9209-4357-9185-e84d701e5ea0",
   "metadata": {},
   "outputs": [
    {
     "data": {
      "text/plain": [
       "4614067440"
      ]
     },
     "execution_count": 96,
     "metadata": {},
     "output_type": "execute_result"
    }
   ],
   "source": [
    "first = 'charles'\n",
    "first1 = first\n",
    "first.upper()\n",
    "\n",
    "id(first)"
   ]
  },
  {
   "cell_type": "code",
   "execution_count": 97,
   "id": "07ce9cbc-34b5-4bb6-a5bb-d6babc076a0e",
   "metadata": {},
   "outputs": [
    {
     "data": {
      "text/plain": [
       "4615687856"
      ]
     },
     "execution_count": 97,
     "metadata": {},
     "output_type": "execute_result"
    }
   ],
   "source": [
    "first = first.upper()\n",
    "\n",
    "id(first)"
   ]
  },
  {
   "cell_type": "code",
   "execution_count": 98,
   "id": "aa1afe8d-7051-495a-ab67-b44aeae86d5c",
   "metadata": {},
   "outputs": [
    {
     "data": {
      "text/plain": [
       "4614067440"
      ]
     },
     "execution_count": 98,
     "metadata": {},
     "output_type": "execute_result"
    }
   ],
   "source": [
    "id(first1)"
   ]
  },
  {
   "cell_type": "code",
   "execution_count": 100,
   "id": "f0a9ab0f-2a8b-4617-ab7b-bb112c404d4e",
   "metadata": {},
   "outputs": [],
   "source": [
    "nums = [1,2,3,4]\n",
    "nums.append(5)"
   ]
  },
  {
   "cell_type": "code",
   "execution_count": 102,
   "id": "b8498315-ef0f-4e5e-af4e-8183762446b2",
   "metadata": {},
   "outputs": [],
   "source": [
    "nums2 = nums          # copy by reference\n",
    "nums2.append(6)"
   ]
  },
  {
   "cell_type": "code",
   "execution_count": 104,
   "id": "ba6f580e-a98e-447e-aa25-756242669a53",
   "metadata": {},
   "outputs": [
    {
     "data": {
      "text/plain": [
       "[1, 2, 3, 4, 5, 6]"
      ]
     },
     "execution_count": 104,
     "metadata": {},
     "output_type": "execute_result"
    }
   ],
   "source": [
    "nums"
   ]
  },
  {
   "cell_type": "code",
   "execution_count": 103,
   "id": "52480e86-e28f-4066-90a2-d8831a80ae5b",
   "metadata": {},
   "outputs": [
    {
     "data": {
      "text/plain": [
       "[1, 2, 3, 4, 5, 6]"
      ]
     },
     "execution_count": 103,
     "metadata": {},
     "output_type": "execute_result"
    }
   ],
   "source": [
    "nums2"
   ]
  },
  {
   "cell_type": "code",
   "execution_count": 105,
   "id": "36a07cbc-f5f3-49d4-b674-23df0403c156",
   "metadata": {},
   "outputs": [],
   "source": [
    "nums2 = nums.copy()          # copy by value\n",
    "nums2.append(6)"
   ]
  },
  {
   "cell_type": "code",
   "execution_count": 106,
   "id": "9dc10140-b0e9-4398-9067-c715f1d9f911",
   "metadata": {},
   "outputs": [
    {
     "data": {
      "text/plain": [
       "[1, 2, 3, 4, 5, 6, 6]"
      ]
     },
     "execution_count": 106,
     "metadata": {},
     "output_type": "execute_result"
    }
   ],
   "source": [
    "nums2"
   ]
  },
  {
   "cell_type": "code",
   "execution_count": 107,
   "id": "a0a0b88f-83ff-45fd-abcb-56cfb3c62d4c",
   "metadata": {},
   "outputs": [
    {
     "data": {
      "text/plain": [
       "[1, 2, 3, 4, 5, 6]"
      ]
     },
     "execution_count": 107,
     "metadata": {},
     "output_type": "execute_result"
    }
   ],
   "source": [
    "nums"
   ]
  },
  {
   "cell_type": "code",
   "execution_count": 108,
   "id": "fee6ad43-6b81-49e2-82cc-673ec55ddc01",
   "metadata": {},
   "outputs": [
    {
     "data": {
      "text/plain": [
       "4616565504"
      ]
     },
     "execution_count": 108,
     "metadata": {},
     "output_type": "execute_result"
    }
   ],
   "source": [
    "id(nums)"
   ]
  },
  {
   "cell_type": "code",
   "execution_count": 109,
   "id": "37c6178d-e416-41c9-bfbb-7562bf7da97f",
   "metadata": {},
   "outputs": [
    {
     "data": {
      "text/plain": [
       "4612887680"
      ]
     },
     "execution_count": 109,
     "metadata": {},
     "output_type": "execute_result"
    }
   ],
   "source": [
    "id(nums2)"
   ]
  },
  {
   "cell_type": "markdown",
   "id": "5f9a9aba-2782-4ddd-a21f-b7d657903e15",
   "metadata": {},
   "source": [
    "## Dictionaries\n",
    "\n",
    "- Optimized data type for lookup\n",
    "- Association between key-value\n",
    "- Key-value store"
   ]
  },
  {
   "cell_type": "code",
   "execution_count": 110,
   "id": "6a4bf53a-ade4-45fa-9ae6-be65d582fac8",
   "metadata": {},
   "outputs": [],
   "source": [
    "items  = ['cookies', 'biscuits', 'chocolates', 'toffees']\n",
    "prices = [123.45,     10.0,      250.50,        2.50]"
   ]
  },
  {
   "cell_type": "code",
   "execution_count": 111,
   "id": "1cf368c1-c125-4b00-839d-14711d7b150a",
   "metadata": {},
   "outputs": [
    {
     "name": "stdin",
     "output_type": "stream",
     "text": [
      "Enter item to lookup price toffees\n"
     ]
    }
   ],
   "source": [
    "item = input('Enter item to lookup price')"
   ]
  },
  {
   "cell_type": "code",
   "execution_count": 112,
   "id": "8ad551da-62bc-44d0-b7ce-a1db49eee33f",
   "metadata": {},
   "outputs": [
    {
     "data": {
      "text/plain": [
       "'toffees'"
      ]
     },
     "execution_count": 112,
     "metadata": {},
     "output_type": "execute_result"
    }
   ],
   "source": [
    "item"
   ]
  },
  {
   "cell_type": "code",
   "execution_count": 116,
   "id": "69432d5a-d1bb-4e08-85c9-6448dadfb326",
   "metadata": {},
   "outputs": [
    {
     "name": "stdin",
     "output_type": "stream",
     "text": [
      "Enter item to lookup price coffee\n"
     ]
    },
    {
     "ename": "ValueError",
     "evalue": "'coffee' is not in list",
     "output_type": "error",
     "traceback": [
      "\u001b[0;31m---------------------------------------------------------------------------\u001b[0m",
      "\u001b[0;31mValueError\u001b[0m                                Traceback (most recent call last)",
      "Cell \u001b[0;32mIn[116], line 2\u001b[0m\n\u001b[1;32m      1\u001b[0m item \u001b[38;5;241m=\u001b[39m \u001b[38;5;28minput\u001b[39m(\u001b[38;5;124m'\u001b[39m\u001b[38;5;124mEnter item to lookup price\u001b[39m\u001b[38;5;124m'\u001b[39m)\n\u001b[0;32m----> 2\u001b[0m idx \u001b[38;5;241m=\u001b[39m items\u001b[38;5;241m.\u001b[39mindex(item)\n\u001b[1;32m      3\u001b[0m prices[idx]\n",
      "\u001b[0;31mValueError\u001b[0m: 'coffee' is not in list"
     ]
    }
   ],
   "source": [
    "item = input('Enter item to lookup price')\n",
    "idx = items.index(item)\n",
    "prices[idx]"
   ]
  },
  {
   "cell_type": "code",
   "execution_count": 121,
   "id": "2d6e24d6-8f08-4749-a50a-56eafd50473f",
   "metadata": {},
   "outputs": [
    {
     "name": "stdin",
     "output_type": "stream",
     "text": [
      "Enter item to lookup price coffee\n"
     ]
    },
    {
     "name": "stdout",
     "output_type": "stream",
     "text": [
      "coffee not found\n"
     ]
    }
   ],
   "source": [
    "item = input('Enter item to lookup price')\n",
    "if item in items:\n",
    "    idx = items.index(item)\n",
    "    prices[idx]\n",
    "else:\n",
    "    print(item, 'not found')"
   ]
  },
  {
   "cell_type": "code",
   "execution_count": 117,
   "id": "3c6b1fb6-5666-49cc-b685-f6f1fdbba474",
   "metadata": {},
   "outputs": [
    {
     "data": {
      "text/plain": [
       "False"
      ]
     },
     "execution_count": 117,
     "metadata": {},
     "output_type": "execute_result"
    }
   ],
   "source": [
    "if item in items"
   ]
  },
  {
   "cell_type": "code",
   "execution_count": 125,
   "id": "6c4352b2-3baf-419a-9465-2a55cf350635",
   "metadata": {},
   "outputs": [],
   "source": [
    "ages = {'Snoopy': 105, 'Jumpy': 103, 'Sneezy': 99}\n",
    "squares = {10: 100, 11: 121, 12: 144}\n",
    "length_words = {3: 'the', 5: 'quick', 4: 'jump'}"
   ]
  },
  {
   "cell_type": "code",
   "execution_count": 124,
   "id": "6662cb74-6ee9-4b3c-8531-089416f4253b",
   "metadata": {},
   "outputs": [
    {
     "data": {
      "text/plain": [
       "dict"
      ]
     },
     "execution_count": 124,
     "metadata": {},
     "output_type": "execute_result"
    }
   ],
   "source": [
    "type(ages)"
   ]
  },
  {
   "cell_type": "code",
   "execution_count": 126,
   "id": "5038e0af-e9a4-4e98-a49b-8c1f4fa14b9f",
   "metadata": {},
   "outputs": [
    {
     "data": {
      "text/plain": [
       "105"
      ]
     },
     "execution_count": 126,
     "metadata": {},
     "output_type": "execute_result"
    }
   ],
   "source": [
    "ages['Snoopy']"
   ]
  },
  {
   "cell_type": "code",
   "execution_count": 127,
   "id": "985fcb64-8884-45f5-ae9d-5d4a2dc91432",
   "metadata": {},
   "outputs": [
    {
     "ename": "KeyError",
     "evalue": "13",
     "output_type": "error",
     "traceback": [
      "\u001b[0;31m---------------------------------------------------------------------------\u001b[0m",
      "\u001b[0;31mKeyError\u001b[0m                                  Traceback (most recent call last)",
      "Cell \u001b[0;32mIn[127], line 1\u001b[0m\n\u001b[0;32m----> 1\u001b[0m squares[\u001b[38;5;241m13\u001b[39m]\n",
      "\u001b[0;31mKeyError\u001b[0m: 13"
     ]
    }
   ],
   "source": [
    "squares[13]"
   ]
  },
  {
   "cell_type": "code",
   "execution_count": 128,
   "id": "f613975d-398a-46f8-a744-c268ea3ed032",
   "metadata": {},
   "outputs": [],
   "source": [
    "squares[13] = 169"
   ]
  },
  {
   "cell_type": "code",
   "execution_count": 129,
   "id": "d3dad793-d501-45e9-961a-4b45ec322fd9",
   "metadata": {},
   "outputs": [
    {
     "data": {
      "text/plain": [
       "{10: 100, 11: 121, 12: 144, 13: 169}"
      ]
     },
     "execution_count": 129,
     "metadata": {},
     "output_type": "execute_result"
    }
   ],
   "source": [
    "squares"
   ]
  },
  {
   "cell_type": "code",
   "execution_count": 130,
   "id": "2dbd72dd-b3d0-47c4-a8cb-81051d2712f0",
   "metadata": {},
   "outputs": [
    {
     "data": {
      "text/plain": [
       "False"
      ]
     },
     "execution_count": 130,
     "metadata": {},
     "output_type": "execute_result"
    }
   ],
   "source": [
    "14 in squares"
   ]
  },
  {
   "cell_type": "code",
   "execution_count": 131,
   "id": "f66066ed-50bb-42fe-b03a-746f9b48ae38",
   "metadata": {},
   "outputs": [
    {
     "data": {
      "text/plain": [
       "True"
      ]
     },
     "execution_count": 131,
     "metadata": {},
     "output_type": "execute_result"
    }
   ],
   "source": [
    "13 in squares"
   ]
  },
  {
   "cell_type": "code",
   "execution_count": 132,
   "id": "35ed6cde-00bb-46a8-9fe5-88002aade0fc",
   "metadata": {},
   "outputs": [
    {
     "data": {
      "text/plain": [
       "dict_keys(['Snoopy', 'Jumpy', 'Sneezy'])"
      ]
     },
     "execution_count": 132,
     "metadata": {},
     "output_type": "execute_result"
    }
   ],
   "source": [
    "ages.keys()"
   ]
  },
  {
   "cell_type": "code",
   "execution_count": 133,
   "id": "d5cd00f9-48cf-4972-a302-d1f79db20034",
   "metadata": {},
   "outputs": [
    {
     "data": {
      "text/plain": [
       "dict_values([105, 103, 99])"
      ]
     },
     "execution_count": 133,
     "metadata": {},
     "output_type": "execute_result"
    }
   ],
   "source": [
    "ages.values()"
   ]
  },
  {
   "cell_type": "code",
   "execution_count": 134,
   "id": "b14b089a-8773-4092-a7e0-a89c1af3d913",
   "metadata": {},
   "outputs": [
    {
     "data": {
      "text/plain": [
       "dict_items([('Snoopy', 105), ('Jumpy', 103), ('Sneezy', 99)])"
      ]
     },
     "execution_count": 134,
     "metadata": {},
     "output_type": "execute_result"
    }
   ],
   "source": [
    "ages.items()"
   ]
  },
  {
   "cell_type": "code",
   "execution_count": null,
   "id": "3b827895-357d-4c7c-9d41-5af900180b90",
   "metadata": {},
   "outputs": [],
   "source": [
    "[ [11, 121],  [12, 144], "
   ]
  },
  {
   "cell_type": "code",
   "execution_count": 135,
   "id": "bcb62b3a-5b96-4567-a00b-3c05d4144a4e",
   "metadata": {},
   "outputs": [
    {
     "name": "stdout",
     "output_type": "stream",
     "text": [
      "Snoopy\n",
      "SNOOPY\n",
      "Jumpy\n",
      "JUMPY\n",
      "Sneezy\n",
      "SNEEZY\n"
     ]
    }
   ],
   "source": [
    "for key in ages.keys():\n",
    "    print(key)\n",
    "    print(key.upper())"
   ]
  },
  {
   "cell_type": "code",
   "execution_count": 145,
   "id": "ee756e5b-663f-4999-9632-d4e13a62303f",
   "metadata": {},
   "outputs": [
    {
     "name": "stdout",
     "output_type": "stream",
     "text": [
      "Snoopy 105\n",
      "Jumpy 103\n",
      "Sneezy 99\n"
     ]
    }
   ],
   "source": [
    "for item in ages.items():\n",
    "    print(item[0], item[1])"
   ]
  },
  {
   "cell_type": "code",
   "execution_count": 142,
   "id": "d83e6e9f-4efe-4917-8015-b829780e91ca",
   "metadata": {},
   "outputs": [],
   "source": [
    "x = 10\n",
    "y = 20\n",
    "x, y = 10, 20\n",
    "x, y = [10, 20]\n",
    "# x, y, z = 10, 20     # too few values to unpack\n",
    "# x, y = 10, 20, 30    # too many values to unpack"
   ]
  },
  {
   "cell_type": "code",
   "execution_count": 143,
   "id": "ff2a959b-810b-4470-bae3-c9ad7ba5874d",
   "metadata": {},
   "outputs": [
    {
     "name": "stdout",
     "output_type": "stream",
     "text": [
      "Snoopy 105\n",
      "Jumpy 103\n",
      "Sneezy 99\n"
     ]
    }
   ],
   "source": [
    "for key, value in ages.items():\n",
    "    print(key, value)"
   ]
  },
  {
   "cell_type": "code",
   "execution_count": 146,
   "id": "da59f1d3-e66c-47fe-a300-bc591ffa7669",
   "metadata": {},
   "outputs": [
    {
     "data": {
      "text/plain": [
       "['cookies', 'biscuits', 'chocolates', 'toffees']"
      ]
     },
     "execution_count": 146,
     "metadata": {},
     "output_type": "execute_result"
    }
   ],
   "source": [
    "items"
   ]
  },
  {
   "cell_type": "code",
   "execution_count": 147,
   "id": "a3f04385-d98f-4b9e-8619-d60905f337b5",
   "metadata": {},
   "outputs": [
    {
     "data": {
      "text/plain": [
       "[123.45, 10.0, 250.5, 2.5]"
      ]
     },
     "execution_count": 147,
     "metadata": {},
     "output_type": "execute_result"
    }
   ],
   "source": [
    "prices"
   ]
  },
  {
   "cell_type": "code",
   "execution_count": 148,
   "id": "196cf0cb-952a-49ae-a8cf-18238265dcb1",
   "metadata": {},
   "outputs": [],
   "source": [
    "prices_items = {'cookies': 123.45, }"
   ]
  },
  {
   "cell_type": "code",
   "execution_count": 149,
   "id": "da0ded1e-49a9-4b03-a7f8-608cac72b4e4",
   "metadata": {},
   "outputs": [
    {
     "data": {
      "text/plain": [
       "123.45"
      ]
     },
     "execution_count": 149,
     "metadata": {},
     "output_type": "execute_result"
    }
   ],
   "source": [
    "prices_items['cookies']"
   ]
  },
  {
   "cell_type": "code",
   "execution_count": 150,
   "id": "33a76627-e56a-4d00-b3e5-fd44b7d7f33e",
   "metadata": {},
   "outputs": [],
   "source": [
    "for ___ in items, prices:\n",
    "    ..."
   ]
  },
  {
   "cell_type": "code",
   "execution_count": null,
   "id": "eb8d6f86-3bb4-4fda-855d-80110e90fa5f",
   "metadata": {},
   "outputs": [],
   "source": [
    "for item, price in [('cookies', 123.45), (...)]:\n",
    "    prices_items[item] = price"
   ]
  },
  {
   "cell_type": "code",
   "execution_count": 154,
   "id": "72334768-b734-43a0-abf9-da995907a86d",
   "metadata": {},
   "outputs": [
    {
     "data": {
      "text/plain": [
       "[('cookies', 123.45),\n",
       " ('biscuits', 10.0),\n",
       " ('chocolates', 250.5),\n",
       " ('toffees', 2.5)]"
      ]
     },
     "execution_count": 154,
     "metadata": {},
     "output_type": "execute_result"
    }
   ],
   "source": [
    "list(zip(items, prices))"
   ]
  },
  {
   "cell_type": "code",
   "execution_count": 153,
   "id": "af70433b-c1f0-4496-b7e7-30242103fce9",
   "metadata": {},
   "outputs": [
    {
     "data": {
      "text/plain": [
       "[10, 20, 30, 40, 50, 60, 70, 80, 90]"
      ]
     },
     "execution_count": 153,
     "metadata": {},
     "output_type": "execute_result"
    }
   ],
   "source": [
    "list(range(10, 100, 10))"
   ]
  },
  {
   "cell_type": "code",
   "execution_count": 157,
   "id": "e17dda5d-2a3a-49b1-bcda-806e85c89522",
   "metadata": {},
   "outputs": [],
   "source": [
    "item_prices = {}\n",
    "for item, price in list(zip(items, prices)):\n",
    "    # print(item, price)\n",
    "    item_prices[item] = price"
   ]
  },
  {
   "cell_type": "code",
   "execution_count": 158,
   "id": "243ef815-4633-47cf-aeb5-03e5c8a0ce1d",
   "metadata": {},
   "outputs": [
    {
     "data": {
      "text/plain": [
       "{'cookies': 123.45, 'biscuits': 10.0, 'chocolates': 250.5, 'toffees': 2.5}"
      ]
     },
     "execution_count": 158,
     "metadata": {},
     "output_type": "execute_result"
    }
   ],
   "source": [
    "item_prices"
   ]
  },
  {
   "cell_type": "code",
   "execution_count": 161,
   "id": "60ac7833-08a8-436a-a85c-42c9921888ff",
   "metadata": {},
   "outputs": [
    {
     "name": "stdin",
     "output_type": "stream",
     "text": [
      "Enter item for price coffee\n"
     ]
    },
    {
     "name": "stdout",
     "output_type": "stream",
     "text": [
      "coffee not found\n"
     ]
    }
   ],
   "source": [
    "item = input('Enter item for price')\n",
    "if item in item_prices:\n",
    "    print(item_prices[item])\n",
    "else:\n",
    "    print(item, 'not found')"
   ]
  },
  {
   "cell_type": "code",
   "execution_count": 162,
   "id": "7f8eb792-e6c3-4567-ab69-18954651f28b",
   "metadata": {},
   "outputs": [
    {
     "data": {
      "text/plain": [
       "{'cookies': 123.45, 'biscuits': 10.0, 'chocolates': 250.5, 'toffees': 2.5}"
      ]
     },
     "execution_count": 162,
     "metadata": {},
     "output_type": "execute_result"
    }
   ],
   "source": [
    "item_prices"
   ]
  },
  {
   "cell_type": "code",
   "execution_count": 163,
   "id": "ea0b0f3f-dc0f-4cf5-b81a-ea57a053cfba",
   "metadata": {},
   "outputs": [
    {
     "data": {
      "text/plain": [
       "{'cookies': 111.11, 'biscuits': 10.0, 'chocolates': 250.5, 'toffees': 2.5}"
      ]
     },
     "execution_count": 163,
     "metadata": {},
     "output_type": "execute_result"
    }
   ],
   "source": [
    "item_prices['cookies'] = 111.11\n",
    "item_prices"
   ]
  },
  {
   "cell_type": "code",
   "execution_count": 164,
   "id": "73209be1-7aae-421f-a901-3a62632b9949",
   "metadata": {},
   "outputs": [],
   "source": [
    "squares = {1: 1, 2: 4, 1: 11}"
   ]
  },
  {
   "cell_type": "code",
   "execution_count": 165,
   "id": "e1f409d1-2129-4222-af1e-94a87b545d10",
   "metadata": {},
   "outputs": [
    {
     "data": {
      "text/plain": [
       "{1: 11, 2: 4}"
      ]
     },
     "execution_count": 165,
     "metadata": {},
     "output_type": "execute_result"
    }
   ],
   "source": [
    "squares"
   ]
  },
  {
   "cell_type": "code",
   "execution_count": 166,
   "id": "19c0549e-1439-43ad-be82-5111875bbc39",
   "metadata": {},
   "outputs": [],
   "source": [
    "item_prices['cookies'] += 10"
   ]
  },
  {
   "cell_type": "code",
   "execution_count": 167,
   "id": "343c09be-018a-40cc-91e9-496044df0782",
   "metadata": {},
   "outputs": [
    {
     "data": {
      "text/plain": [
       "{'cookies': 121.11, 'biscuits': 10.0, 'chocolates': 250.5, 'toffees': 2.5}"
      ]
     },
     "execution_count": 167,
     "metadata": {},
     "output_type": "execute_result"
    }
   ],
   "source": [
    "item_prices"
   ]
  },
  {
   "cell_type": "code",
   "execution_count": 168,
   "id": "3629642d-fa92-4a23-bd40-ce1ad1fc8e53",
   "metadata": {},
   "outputs": [
    {
     "data": {
      "text/plain": [
       "[0, 1, 2, 3, 4, 5, 6, 7, 8, 9]"
      ]
     },
     "execution_count": 168,
     "metadata": {},
     "output_type": "execute_result"
    }
   ],
   "source": [
    "list(range(10))"
   ]
  },
  {
   "cell_type": "code",
   "execution_count": 169,
   "id": "960d264e-2a56-4ece-bde2-fa3d7515d760",
   "metadata": {},
   "outputs": [
    {
     "data": {
      "text/plain": [
       "[10, 11, 12, 13, 14, 15, 16, 17, 18, 19]"
      ]
     },
     "execution_count": 169,
     "metadata": {},
     "output_type": "execute_result"
    }
   ],
   "source": [
    "list(range(10, 20))"
   ]
  },
  {
   "cell_type": "code",
   "execution_count": 170,
   "id": "849a545f-5445-45b0-baed-d6c3484b9768",
   "metadata": {},
   "outputs": [
    {
     "name": "stdout",
     "output_type": "stream",
     "text": [
      "0\n",
      "1\n",
      "2\n",
      "3\n",
      "4\n",
      "5\n",
      "6\n",
      "7\n",
      "8\n",
      "9\n"
     ]
    }
   ],
   "source": [
    "for num in range(10):\n",
    "    print(num)"
   ]
  },
  {
   "cell_type": "code",
   "execution_count": null,
   "id": "7b23bac3-10d2-4206-b1c6-eb1369a67454",
   "metadata": {},
   "outputs": [],
   "source": [
    "squares = {10: 100, 11: 121, ... 20: 400}"
   ]
  },
  {
   "cell_type": "code",
   "execution_count": 174,
   "id": "c7f42cb8-924c-4c0c-9adb-916a4dab06f2",
   "metadata": {},
   "outputs": [],
   "source": [
    "squares = {}\n",
    "\n",
    "for num in range(10,21):\n",
    "    squares[num] = num**2"
   ]
  },
  {
   "cell_type": "code",
   "execution_count": 172,
   "id": "15a3a919-59c5-4efe-9478-bee835ae033c",
   "metadata": {},
   "outputs": [
    {
     "data": {
      "text/plain": [
       "{10: 100,\n",
       " 11: 121,\n",
       " 12: 144,\n",
       " 13: 169,\n",
       " 14: 196,\n",
       " 15: 225,\n",
       " 16: 256,\n",
       " 17: 289,\n",
       " 18: 324,\n",
       " 19: 361,\n",
       " 20: 400}"
      ]
     },
     "execution_count": 172,
     "metadata": {},
     "output_type": "execute_result"
    }
   ],
   "source": [
    "squares"
   ]
  },
  {
   "cell_type": "code",
   "execution_count": 173,
   "id": "7442ea0e-b0fd-4bfd-82eb-c0581a16ffba",
   "metadata": {},
   "outputs": [
    {
     "data": {
      "text/plain": [
       "'the quick brown fox jumps over the lazy dog'"
      ]
     },
     "execution_count": 173,
     "metadata": {},
     "output_type": "execute_result"
    }
   ],
   "source": [
    "sentence"
   ]
  },
  {
   "cell_type": "code",
   "execution_count": null,
   "id": "8ac46e0b-d6e2-4490-9071-9673de1f89a2",
   "metadata": {},
   "outputs": [],
   "source": [
    "{'the': 3, 'quick': 5, ...\n",
    " # {'THE': 3, 'QUICK': 5, ..."
   ]
  },
  {
   "cell_type": "code",
   "execution_count": 177,
   "id": "4d412e64-b4b2-4e2c-a8d3-dbffb398f129",
   "metadata": {},
   "outputs": [],
   "source": [
    "word_lens = {}\n",
    "for word in sentence.split():\n",
    "    word_lens[word] = len(word)"
   ]
  },
  {
   "cell_type": "code",
   "execution_count": 176,
   "id": "2685b7a9-f918-4cd9-827d-a229e1fa6748",
   "metadata": {},
   "outputs": [
    {
     "data": {
      "text/plain": [
       "8"
      ]
     },
     "execution_count": 176,
     "metadata": {},
     "output_type": "execute_result"
    }
   ],
   "source": [
    "len('asdfasdf')"
   ]
  },
  {
   "cell_type": "code",
   "execution_count": 178,
   "id": "74be6197-29ae-449a-991f-dfad6c385c38",
   "metadata": {},
   "outputs": [
    {
     "data": {
      "text/plain": [
       "{'the': 3,\n",
       " 'quick': 5,\n",
       " 'brown': 5,\n",
       " 'fox': 3,\n",
       " 'jumps': 5,\n",
       " 'over': 4,\n",
       " 'lazy': 4,\n",
       " 'dog': 3}"
      ]
     },
     "execution_count": 178,
     "metadata": {},
     "output_type": "execute_result"
    }
   ],
   "source": [
    "word_lens"
   ]
  },
  {
   "cell_type": "code",
   "execution_count": 179,
   "id": "ed07e88e-55a0-4a8f-aba9-995afc8fea78",
   "metadata": {},
   "outputs": [
    {
     "data": {
      "text/plain": [
       "9"
      ]
     },
     "execution_count": 179,
     "metadata": {},
     "output_type": "execute_result"
    }
   ],
   "source": [
    "len(sentence.split())"
   ]
  },
  {
   "cell_type": "code",
   "execution_count": 180,
   "id": "5cec51e2-3e58-4f78-95c4-451eb7b617b6",
   "metadata": {},
   "outputs": [
    {
     "data": {
      "text/plain": [
       "8"
      ]
     },
     "execution_count": 180,
     "metadata": {},
     "output_type": "execute_result"
    }
   ],
   "source": [
    "len(word_lens)"
   ]
  },
  {
   "cell_type": "code",
   "execution_count": 1,
   "id": "d2c4ffdb-11bb-4d50-9aa7-d4ffca81b5c7",
   "metadata": {},
   "outputs": [],
   "source": [
    "piggybank = [1, 1, 5, 5, 2, 2, 1, 1, 5, 5, 10, 10]"
   ]
  },
  {
   "cell_type": "code",
   "execution_count": 182,
   "id": "61c52380-103a-4a35-ada2-c0aca8ac868d",
   "metadata": {},
   "outputs": [],
   "source": [
    "coin_count = {1: 4, 2: 2, 5: 4, 10: 2}"
   ]
  },
  {
   "cell_type": "code",
   "execution_count": 183,
   "id": "e6e550b4-b632-48fa-a9e9-ad9977d96ecb",
   "metadata": {},
   "outputs": [
    {
     "data": {
      "text/plain": [
       "2"
      ]
     },
     "execution_count": 183,
     "metadata": {},
     "output_type": "execute_result"
    }
   ],
   "source": [
    "coin_count[10]"
   ]
  },
  {
   "cell_type": "code",
   "execution_count": 6,
   "id": "82b804ee-9a79-4bc4-9450-bd0393b30225",
   "metadata": {},
   "outputs": [],
   "source": [
    "# N * N iterations: O(N^2)\n",
    "\n",
    "coin_count = {}\n",
    "\n",
    "for coin in piggybank:\n",
    "    coin_count[coin] = piggybank.count(coin)"
   ]
  },
  {
   "cell_type": "code",
   "execution_count": 184,
   "id": "51a93ab2-1ea9-44b9-9b50-e1d5b6814edb",
   "metadata": {},
   "outputs": [
    {
     "data": {
      "text/plain": [
       "4"
      ]
     },
     "execution_count": 184,
     "metadata": {},
     "output_type": "execute_result"
    }
   ],
   "source": [
    "piggybank.count(5)"
   ]
  },
  {
   "cell_type": "code",
   "execution_count": 5,
   "id": "79544bc6-b875-4018-b9bf-12ac5e7bf3e4",
   "metadata": {},
   "outputs": [
    {
     "data": {
      "text/plain": [
       "{1: 4, 5: 4, 2: 2, 10: 2}"
      ]
     },
     "execution_count": 5,
     "metadata": {},
     "output_type": "execute_result"
    }
   ],
   "source": [
    "coin_count"
   ]
  },
  {
   "cell_type": "code",
   "execution_count": 4,
   "id": "130108fb-e721-455d-a6f3-e16fbcca6ffe",
   "metadata": {},
   "outputs": [],
   "source": [
    "# < O(N^2)\n",
    "\n",
    "coin_count = {}\n",
    "\n",
    "for coin in piggybank:\n",
    "    if coin not in coin_count:\n",
    "        coin_count[coin] = piggybank.count(coin)"
   ]
  },
  {
   "cell_type": "code",
   "execution_count": 3,
   "id": "49c89e37-0cd3-4ee4-a3d7-5c3d2c8a1b85",
   "metadata": {},
   "outputs": [
    {
     "name": "stdout",
     "output_type": "stream",
     "text": [
      "1\n",
      "2\n",
      "10\n",
      "5\n"
     ]
    }
   ],
   "source": [
    "for coin in set(piggybank):\n",
    "    print(coin)"
   ]
  },
  {
   "cell_type": "code",
   "execution_count": 7,
   "id": "fa9b98d4-6344-4f77-b620-02d58acdb0c4",
   "metadata": {},
   "outputs": [],
   "source": [
    "# O(4*N)\n",
    "\n",
    "coin_count = {}\n",
    "\n",
    "for coin in set(piggybank):\n",
    "    coin_count[coin] = piggybank.count(coin)"
   ]
  },
  {
   "cell_type": "code",
   "execution_count": 8,
   "id": "e8c763df-4be3-4b49-80a4-7682885441ef",
   "metadata": {},
   "outputs": [
    {
     "data": {
      "text/plain": [
       "{1: 4, 2: 2, 10: 2, 5: 4}"
      ]
     },
     "execution_count": 8,
     "metadata": {},
     "output_type": "execute_result"
    }
   ],
   "source": [
    "coin_count"
   ]
  },
  {
   "cell_type": "code",
   "execution_count": null,
   "id": "b5424811-0376-43d1-8f9b-057b37bf5f75",
   "metadata": {},
   "outputs": [],
   "source": []
  },
  {
   "cell_type": "code",
   "execution_count": null,
   "id": "99808dd0-da98-43e8-b12f-f258560a13db",
   "metadata": {},
   "outputs": [],
   "source": []
  },
  {
   "cell_type": "code",
   "execution_count": null,
   "id": "84459c4a-bb1a-4b38-a270-a03d2455948a",
   "metadata": {},
   "outputs": [],
   "source": []
  }
 ],
 "metadata": {
  "kernelspec": {
   "display_name": "Python 3 (ipykernel)",
   "language": "python",
   "name": "python3"
  },
  "language_info": {
   "codemirror_mode": {
    "name": "ipython",
    "version": 3
   },
   "file_extension": ".py",
   "mimetype": "text/x-python",
   "name": "python",
   "nbconvert_exporter": "python",
   "pygments_lexer": "ipython3",
   "version": "3.11.0"
  }
 },
 "nbformat": 4,
 "nbformat_minor": 5
}
