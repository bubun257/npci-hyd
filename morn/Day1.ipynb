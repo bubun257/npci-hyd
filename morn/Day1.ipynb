{
 "cells": [
  {
   "cell_type": "markdown",
   "id": "1fbe02df-82c0-452c-9476-eee7c2c68fb3",
   "metadata": {},
   "source": [
    "# Day 1: Agenda"
   ]
  },
  {
   "cell_type": "markdown",
   "id": "a9de069e-04c7-4693-ab78-75247925f366",
   "metadata": {},
   "source": [
    "## Python Features\n",
    "\n",
    "- Interpreted\n",
    "- Implicitly typed\n",
    "- Dynamic"
   ]
  },
  {
   "cell_type": "code",
   "execution_count": 3,
   "id": "b35b3246-180b-4cee-b0c7-17b0579816ef",
   "metadata": {},
   "outputs": [],
   "source": [
    "cost = 123.45\n",
    "count = 11\n",
    "item = 'Phone covers'"
   ]
  },
  {
   "cell_type": "code",
   "execution_count": 4,
   "id": "bc2da351-c910-441a-925c-dd673eb08534",
   "metadata": {},
   "outputs": [
    {
     "data": {
      "text/plain": [
       "float"
      ]
     },
     "execution_count": 4,
     "metadata": {},
     "output_type": "execute_result"
    }
   ],
   "source": [
    "type(cost)"
   ]
  },
  {
   "cell_type": "markdown",
   "id": "896a8198-fc5b-4b44-be7b-9995913ed4c2",
   "metadata": {},
   "source": [
    "## Numeric Types\n",
    "\n",
    "- int\n",
    "- float\n",
    "- bool (True, False)\n",
    "\n",
    "## Operators\n",
    "\n",
    "- Arithmetic : `** * / % + -` (BEMDAS)\n",
    "- Comparison: `== != > < >= <=`\n",
    "- Boolean: `and or not`"
   ]
  },
  {
   "cell_type": "code",
   "execution_count": 5,
   "id": "22493ac1-eee6-43b9-b728-752c4971268e",
   "metadata": {},
   "outputs": [
    {
     "data": {
      "text/plain": [
       "False"
      ]
     },
     "execution_count": 5,
     "metadata": {},
     "output_type": "execute_result"
    }
   ],
   "source": [
    "cost == 123"
   ]
  },
  {
   "cell_type": "code",
   "execution_count": 6,
   "id": "11ddc9ad-d683-4c7d-a27f-d9b8aad0d884",
   "metadata": {},
   "outputs": [
    {
     "data": {
      "text/plain": [
       "True"
      ]
     },
     "execution_count": 6,
     "metadata": {},
     "output_type": "execute_result"
    }
   ],
   "source": [
    "count > 10"
   ]
  },
  {
   "cell_type": "code",
   "execution_count": 8,
   "id": "1746b585-bb26-4668-ae38-95f8e9ff3964",
   "metadata": {},
   "outputs": [
    {
     "data": {
      "text/plain": [
       "True"
      ]
     },
     "execution_count": 8,
     "metadata": {},
     "output_type": "execute_result"
    }
   ],
   "source": [
    "cost * count >= 1234.56  or count > 12"
   ]
  },
  {
   "cell_type": "code",
   "execution_count": 16,
   "id": "fa34e280-9fff-48e7-b72f-948bb6a32fb4",
   "metadata": {},
   "outputs": [],
   "source": [
    "p = 1234.56\n",
    "r = 12\n",
    "n = 7"
   ]
  },
  {
   "cell_type": "code",
   "execution_count": 12,
   "id": "35c91340-04ea-43da-a629-09a7fc600542",
   "metadata": {},
   "outputs": [
    {
     "data": {
      "text/plain": [
       "True"
      ]
     },
     "execution_count": 12,
     "metadata": {},
     "output_type": "execute_result"
    }
   ],
   "source": [
    "p * r * n / 100 > 500"
   ]
  },
  {
   "cell_type": "code",
   "execution_count": 14,
   "id": "1ab5d3d1-9aa3-47b2-a4bb-0ab62aabee07",
   "metadata": {},
   "outputs": [
    {
     "data": {
      "text/plain": [
       "1202.2425342207603"
      ]
     },
     "execution_count": 14,
     "metadata": {},
     "output_type": "execute_result"
    }
   ],
   "source": [
    "p * (1 + r/100) ** n - p"
   ]
  },
  {
   "cell_type": "code",
   "execution_count": 17,
   "id": "5b745f0c-3347-436d-b07b-b2952b6a7be8",
   "metadata": {},
   "outputs": [
    {
     "data": {
      "text/plain": [
       "True"
      ]
     },
     "execution_count": 17,
     "metadata": {},
     "output_type": "execute_result"
    }
   ],
   "source": [
    "p * (1 + r/100) ** n  >= 2 * p"
   ]
  },
  {
   "cell_type": "markdown",
   "id": "77980468-c8cc-45d9-8b4e-dadcb1590ec1",
   "metadata": {},
   "source": [
    "## Lists\n",
    "\n",
    "    Heterogenous Sequence of values"
   ]
  },
  {
   "cell_type": "code",
   "execution_count": 23,
   "id": "269b3ba0-97e8-4ee8-9e74-118c28e5a7d4",
   "metadata": {},
   "outputs": [],
   "source": [
    "prices = [123.45, 10.00, 15.55]\n",
    "counts = [11, 13, 2]\n",
    "items = ['bread', 'biscuits', 'chocolate']\n",
    "misc = [123.45, 11, 'bread', 'blah']"
   ]
  },
  {
   "cell_type": "code",
   "execution_count": 19,
   "id": "c8199492-8a36-4201-86cf-0f851a04a8dd",
   "metadata": {},
   "outputs": [
    {
     "data": {
      "text/plain": [
       "list"
      ]
     },
     "execution_count": 19,
     "metadata": {},
     "output_type": "execute_result"
    }
   ],
   "source": [
    "type(prices)"
   ]
  },
  {
   "cell_type": "code",
   "execution_count": 22,
   "id": "c5033a08-8cfc-443d-9874-74ea74e215e5",
   "metadata": {},
   "outputs": [
    {
     "data": {
      "text/plain": [
       "list"
      ]
     },
     "execution_count": 22,
     "metadata": {},
     "output_type": "execute_result"
    }
   ],
   "source": [
    "type(items)"
   ]
  },
  {
   "cell_type": "code",
   "execution_count": 24,
   "id": "feb3c1e0-35fc-4e49-a006-3a0af5e6d681",
   "metadata": {},
   "outputs": [
    {
     "data": {
      "text/plain": [
       "123.45"
      ]
     },
     "execution_count": 24,
     "metadata": {},
     "output_type": "execute_result"
    }
   ],
   "source": [
    "prices[0]"
   ]
  },
  {
   "cell_type": "code",
   "execution_count": 25,
   "id": "472d9784-fe4b-447b-8a64-7dea2b633288",
   "metadata": {},
   "outputs": [
    {
     "data": {
      "text/plain": [
       "3"
      ]
     },
     "execution_count": 25,
     "metadata": {},
     "output_type": "execute_result"
    }
   ],
   "source": [
    "len(prices)"
   ]
  },
  {
   "cell_type": "code",
   "execution_count": 26,
   "id": "43320a58-02b8-4649-97c0-8de121c444a0",
   "metadata": {},
   "outputs": [
    {
     "data": {
      "text/plain": [
       "15.55"
      ]
     },
     "execution_count": 26,
     "metadata": {},
     "output_type": "execute_result"
    }
   ],
   "source": [
    "prices[2]"
   ]
  },
  {
   "cell_type": "code",
   "execution_count": 28,
   "id": "51a84078-dfde-4fd6-b381-a20fb5c67344",
   "metadata": {},
   "outputs": [
    {
     "data": {
      "text/plain": [
       "15.55"
      ]
     },
     "execution_count": 28,
     "metadata": {},
     "output_type": "execute_result"
    }
   ],
   "source": [
    "prices[-1]\n",
    "# prices[len(prices)-1]"
   ]
  },
  {
   "cell_type": "code",
   "execution_count": 29,
   "id": "709b4581-03d7-4b7c-9438-e04bec62d1bd",
   "metadata": {},
   "outputs": [
    {
     "data": {
      "text/plain": [
       "4"
      ]
     },
     "execution_count": 29,
     "metadata": {},
     "output_type": "execute_result"
    }
   ],
   "source": [
    "len(misc)"
   ]
  },
  {
   "cell_type": "code",
   "execution_count": 32,
   "id": "8ef07e96-46f2-46d5-955e-f2893e92ba71",
   "metadata": {},
   "outputs": [
    {
     "ename": "IndexError",
     "evalue": "list index out of range",
     "output_type": "error",
     "traceback": [
      "\u001b[0;31m---------------------------------------------------------------------------\u001b[0m",
      "\u001b[0;31mIndexError\u001b[0m                                Traceback (most recent call last)",
      "Cell \u001b[0;32mIn[32], line 1\u001b[0m\n\u001b[0;32m----> 1\u001b[0m misc[\u001b[38;5;241m4\u001b[39m]\n",
      "\u001b[0;31mIndexError\u001b[0m: list index out of range"
     ]
    }
   ],
   "source": [
    "misc[4]"
   ]
  },
  {
   "cell_type": "markdown",
   "id": "a41ee09c-0d92-4a44-959f-10290dbf566b",
   "metadata": {},
   "source": [
    "### Slices\n",
    "\n",
    "    list [start : stop]\n",
    "\n",
    "    start: inclusive, default: beginning\n",
    "    stop: non-inclusive, default: end"
   ]
  },
  {
   "cell_type": "code",
   "execution_count": 34,
   "id": "419249d4-0bea-43f0-b9f5-b1ae49738474",
   "metadata": {},
   "outputs": [
    {
     "data": {
      "text/plain": [
       "[11, 'bread', 'blah']"
      ]
     },
     "execution_count": 34,
     "metadata": {},
     "output_type": "execute_result"
    }
   ],
   "source": [
    "misc[1:4]\n",
    "misc[1:]"
   ]
  },
  {
   "cell_type": "code",
   "execution_count": 37,
   "id": "e06ed4d7-cf57-47f7-a224-6673d00ca079",
   "metadata": {},
   "outputs": [
    {
     "data": {
      "text/plain": [
       "[123.45, 11, 'bread']"
      ]
     },
     "execution_count": 37,
     "metadata": {},
     "output_type": "execute_result"
    }
   ],
   "source": [
    "misc[:3]"
   ]
  },
  {
   "cell_type": "code",
   "execution_count": 38,
   "id": "ae2a99c0-203e-48d9-85d6-41180bacf24f",
   "metadata": {},
   "outputs": [
    {
     "data": {
      "text/plain": [
       "[123.45, 11, 'bread', 'blah']"
      ]
     },
     "execution_count": 38,
     "metadata": {},
     "output_type": "execute_result"
    }
   ],
   "source": [
    "misc[:]"
   ]
  },
  {
   "cell_type": "code",
   "execution_count": 39,
   "id": "33be96d9-84be-446b-b25b-314fc78117b4",
   "metadata": {},
   "outputs": [
    {
     "data": {
      "text/plain": [
       "[123.45, 10.0, 15.55, 11, 13, 2]"
      ]
     },
     "execution_count": 39,
     "metadata": {},
     "output_type": "execute_result"
    }
   ],
   "source": [
    "prices + counts      # concatenation"
   ]
  },
  {
   "cell_type": "code",
   "execution_count": 40,
   "id": "c2505b89-c8be-4ee0-afb5-7022accd1d64",
   "metadata": {},
   "outputs": [
    {
     "ename": "TypeError",
     "evalue": "can't multiply sequence by non-int of type 'list'",
     "output_type": "error",
     "traceback": [
      "\u001b[0;31m---------------------------------------------------------------------------\u001b[0m",
      "\u001b[0;31mTypeError\u001b[0m                                 Traceback (most recent call last)",
      "Cell \u001b[0;32mIn[40], line 1\u001b[0m\n\u001b[0;32m----> 1\u001b[0m prices \u001b[38;5;241m*\u001b[39m counts\n",
      "\u001b[0;31mTypeError\u001b[0m: can't multiply sequence by non-int of type 'list'"
     ]
    }
   ],
   "source": [
    "prices * counts"
   ]
  },
  {
   "cell_type": "code",
   "execution_count": 41,
   "id": "f664fce6-7a02-44a6-955f-5800c0b18fef",
   "metadata": {},
   "outputs": [
    {
     "data": {
      "text/plain": [
       "[123.45, 10.0, 15.55, 123.45, 10.0, 15.55, 123.45, 10.0, 15.55]"
      ]
     },
     "execution_count": 41,
     "metadata": {},
     "output_type": "execute_result"
    }
   ],
   "source": [
    "prices * 3  # repetition operator"
   ]
  },
  {
   "cell_type": "code",
   "execution_count": 43,
   "id": "cfd0609a-e9f4-4a9d-9e7b-20c335b23ba4",
   "metadata": {},
   "outputs": [
    {
     "data": {
      "text/plain": [
       "['bread',\n",
       " 'biscuits',\n",
       " 'chocolate',\n",
       " 'bread',\n",
       " 'biscuits',\n",
       " 'chocolate',\n",
       " 'bread',\n",
       " 'biscuits',\n",
       " 'chocolate']"
      ]
     },
     "execution_count": 43,
     "metadata": {},
     "output_type": "execute_result"
    }
   ],
   "source": [
    "items * 3"
   ]
  },
  {
   "cell_type": "code",
   "execution_count": 54,
   "id": "80d56628-12c0-4e58-b95f-f05b3886c8e7",
   "metadata": {},
   "outputs": [
    {
     "data": {
      "text/plain": [
       "[10, 10, 10, 10, 10, 5, 5, 5, 5, 5, 5, 5, 5, 5, 5]"
      ]
     },
     "execution_count": 54,
     "metadata": {},
     "output_type": "execute_result"
    }
   ],
   "source": [
    "nums = [10] * 5  +  [5] * 10\n",
    "nums"
   ]
  },
  {
   "cell_type": "code",
   "execution_count": 47,
   "id": "2eafd762-4222-4b72-9014-a61cf6b5478d",
   "metadata": {},
   "outputs": [
    {
     "data": {
      "text/plain": [
       "[5, 5, 5, 5, 5, 5, 5]"
      ]
     },
     "execution_count": 47,
     "metadata": {},
     "output_type": "execute_result"
    }
   ],
   "source": [
    "nums[5:12]"
   ]
  },
  {
   "cell_type": "code",
   "execution_count": 55,
   "id": "1f2783eb-9ce0-4d1c-9c16-a57013fc1f0f",
   "metadata": {},
   "outputs": [
    {
     "data": {
      "text/plain": [
       "[10,\n",
       " 10,\n",
       " 10,\n",
       " 10,\n",
       " 10,\n",
       " 'hello',\n",
       " 'hello',\n",
       " 'hello',\n",
       " 'hello',\n",
       " 'hello',\n",
       " 'hello',\n",
       " 'hello',\n",
       " 5,\n",
       " 5,\n",
       " 5]"
      ]
     },
     "execution_count": 55,
     "metadata": {},
     "output_type": "execute_result"
    }
   ],
   "source": [
    "nums[5:12] = ['hello'] * 7\n",
    "nums"
   ]
  },
  {
   "cell_type": "code",
   "execution_count": null,
   "id": "ad10d756-6475-4f46-8a63-11358af84629",
   "metadata": {},
   "outputs": [],
   "source": [
    "10 * 7\n",
    "[10] * 7"
   ]
  },
  {
   "cell_type": "code",
   "execution_count": 48,
   "id": "349cd493-5a27-4a53-87a8-9c86f7e935a1",
   "metadata": {},
   "outputs": [
    {
     "data": {
      "text/plain": [
       "[1, 2, 3, 1, 2, 3, 1, 2, 3]"
      ]
     },
     "execution_count": 48,
     "metadata": {},
     "output_type": "execute_result"
    }
   ],
   "source": [
    "[1,2,3] * 3"
   ]
  },
  {
   "cell_type": "code",
   "execution_count": null,
   "id": "19fd97c4-a491-466b-afe4-46c2ba492d88",
   "metadata": {},
   "outputs": [],
   "source": [
    "[1] * 3"
   ]
  },
  {
   "cell_type": "code",
   "execution_count": 56,
   "id": "1827d3f9-5573-4c58-ae30-1194d14a155f",
   "metadata": {},
   "outputs": [
    {
     "data": {
      "text/plain": [
       "[10, 10, 10, 10, 10, 5, 5, 5]"
      ]
     },
     "execution_count": 56,
     "metadata": {},
     "output_type": "execute_result"
    }
   ],
   "source": [
    "nums[5:12] = []\n",
    "nums"
   ]
  },
  {
   "cell_type": "code",
   "execution_count": 57,
   "id": "39a632de-d06f-4d5f-9a2d-449bd0fa68be",
   "metadata": {},
   "outputs": [],
   "source": [
    "nums.append(100)"
   ]
  },
  {
   "cell_type": "code",
   "execution_count": 58,
   "id": "47935860-5fa5-4a6c-a8be-9431b0d3055d",
   "metadata": {},
   "outputs": [
    {
     "data": {
      "text/plain": [
       "[10, 10, 10, 10, 10, 5, 5, 5, 100]"
      ]
     },
     "execution_count": 58,
     "metadata": {},
     "output_type": "execute_result"
    }
   ],
   "source": [
    "nums"
   ]
  },
  {
   "cell_type": "code",
   "execution_count": 59,
   "id": "b9784b15-70b8-43ac-9f79-73146bd9b43d",
   "metadata": {},
   "outputs": [
    {
     "data": {
      "text/plain": [
       "100"
      ]
     },
     "execution_count": 59,
     "metadata": {},
     "output_type": "execute_result"
    }
   ],
   "source": [
    "nums.pop()"
   ]
  },
  {
   "cell_type": "code",
   "execution_count": 60,
   "id": "39a99b9d-9af4-4637-b119-244873830558",
   "metadata": {},
   "outputs": [
    {
     "data": {
      "text/plain": [
       "[10, 10, 10, 10, 10, 5, 5, 5]"
      ]
     },
     "execution_count": 60,
     "metadata": {},
     "output_type": "execute_result"
    }
   ],
   "source": [
    "nums"
   ]
  },
  {
   "cell_type": "code",
   "execution_count": 61,
   "id": "b560c8b7-f16e-4531-a971-c9320fcce3aa",
   "metadata": {},
   "outputs": [],
   "source": [
    "last = nums.pop()\n",
    "nums.append(last)"
   ]
  },
  {
   "cell_type": "code",
   "execution_count": 62,
   "id": "2490c4d9-7a46-4ba1-bdfe-8b595f4eb0a7",
   "metadata": {},
   "outputs": [
    {
     "data": {
      "text/plain": [
       "[10, 10, 10, 10, 10, 5, 5, 5]"
      ]
     },
     "execution_count": 62,
     "metadata": {},
     "output_type": "execute_result"
    }
   ],
   "source": [
    "nums"
   ]
  },
  {
   "cell_type": "code",
   "execution_count": 63,
   "id": "26eb285d-5958-498d-807a-c385c0add157",
   "metadata": {},
   "outputs": [
    {
     "data": {
      "text/plain": [
       "[100, 10, 10, 10, 10, 10, 5, 5, 5]"
      ]
     },
     "execution_count": 63,
     "metadata": {},
     "output_type": "execute_result"
    }
   ],
   "source": [
    "nums.insert(0, 100)\n",
    "nums"
   ]
  },
  {
   "cell_type": "code",
   "execution_count": 64,
   "id": "30510eae-b096-4cf5-8b92-7a09583361ec",
   "metadata": {},
   "outputs": [],
   "source": [
    "first = nums.pop(0)\n",
    "nums.append(first)"
   ]
  },
  {
   "cell_type": "code",
   "execution_count": 65,
   "id": "ff7bfcd4-3d86-4018-9751-f17a9c97cb63",
   "metadata": {},
   "outputs": [
    {
     "data": {
      "text/plain": [
       "[10, 10, 10, 10, 10, 5, 5, 5, 100]"
      ]
     },
     "execution_count": 65,
     "metadata": {},
     "output_type": "execute_result"
    }
   ],
   "source": [
    "nums"
   ]
  },
  {
   "cell_type": "code",
   "execution_count": 66,
   "id": "a1372fc4-397d-4798-84b6-b014552b9041",
   "metadata": {},
   "outputs": [
    {
     "data": {
      "text/plain": [
       "8"
      ]
     },
     "execution_count": 66,
     "metadata": {},
     "output_type": "execute_result"
    }
   ],
   "source": [
    "nums.index(100)"
   ]
  },
  {
   "cell_type": "code",
   "execution_count": 67,
   "id": "8c3f7da2-5eee-4498-bc29-245cc5281cae",
   "metadata": {},
   "outputs": [
    {
     "ename": "ValueError",
     "evalue": "'hello' is not in list",
     "output_type": "error",
     "traceback": [
      "\u001b[0;31m---------------------------------------------------------------------------\u001b[0m",
      "\u001b[0;31mValueError\u001b[0m                                Traceback (most recent call last)",
      "Cell \u001b[0;32mIn[67], line 1\u001b[0m\n\u001b[0;32m----> 1\u001b[0m nums\u001b[38;5;241m.\u001b[39mindex(\u001b[38;5;124m'\u001b[39m\u001b[38;5;124mhello\u001b[39m\u001b[38;5;124m'\u001b[39m)\n",
      "\u001b[0;31mValueError\u001b[0m: 'hello' is not in list"
     ]
    }
   ],
   "source": [
    "nums.index('hello')"
   ]
  },
  {
   "cell_type": "code",
   "execution_count": 68,
   "id": "b99b84b2-6eb0-499b-9523-609794d2a1a6",
   "metadata": {},
   "outputs": [
    {
     "data": {
      "text/plain": [
       "1"
      ]
     },
     "execution_count": 68,
     "metadata": {},
     "output_type": "execute_result"
    }
   ],
   "source": [
    "nums.count(100)"
   ]
  },
  {
   "cell_type": "code",
   "execution_count": 69,
   "id": "8b3edf21-e2ef-4adf-aff7-fd555cf99ab3",
   "metadata": {},
   "outputs": [
    {
     "data": {
      "text/plain": [
       "0"
      ]
     },
     "execution_count": 69,
     "metadata": {},
     "output_type": "execute_result"
    }
   ],
   "source": [
    "nums.count('hello')"
   ]
  },
  {
   "cell_type": "code",
   "execution_count": 70,
   "id": "5480bf12-2e8d-4bcc-bd25-85344b71972d",
   "metadata": {},
   "outputs": [
    {
     "data": {
      "text/plain": [
       "5"
      ]
     },
     "execution_count": 70,
     "metadata": {},
     "output_type": "execute_result"
    }
   ],
   "source": [
    "nums.count(10)"
   ]
  },
  {
   "cell_type": "code",
   "execution_count": 71,
   "id": "3e92021d-1c59-4d9f-8542-2918adb72e29",
   "metadata": {},
   "outputs": [],
   "source": [
    "nums.extend([1,2,3,4])"
   ]
  },
  {
   "cell_type": "code",
   "execution_count": 72,
   "id": "01703a5d-83c2-4af1-8333-7dfe48b02cc4",
   "metadata": {},
   "outputs": [
    {
     "data": {
      "text/plain": [
       "[10, 10, 10, 10, 10, 5, 5, 5, 100, 1, 2, 3, 4]"
      ]
     },
     "execution_count": 72,
     "metadata": {},
     "output_type": "execute_result"
    }
   ],
   "source": [
    "nums"
   ]
  },
  {
   "cell_type": "code",
   "execution_count": 73,
   "id": "ca9427b5-1751-4faf-b528-2b60128be711",
   "metadata": {},
   "outputs": [
    {
     "data": {
      "text/plain": [
       "[10, 10, 10, 10, 10, 5, 5, 5, 100, 1, 2, 3, 4, [1, 2, 3, 4]]"
      ]
     },
     "execution_count": 73,
     "metadata": {},
     "output_type": "execute_result"
    }
   ],
   "source": [
    "nums.append([1,2,3,4])\n",
    "nums"
   ]
  },
  {
   "cell_type": "code",
   "execution_count": 74,
   "id": "e773be17-905d-4192-b182-3bdcd2f755eb",
   "metadata": {},
   "outputs": [
    {
     "data": {
      "text/plain": [
       "[10, 10, 10, 10, 10, 5, 5, 5, 100, 1, 2, 3, 4, [1, 2, 3, 4]]"
      ]
     },
     "execution_count": 74,
     "metadata": {},
     "output_type": "execute_result"
    }
   ],
   "source": [
    "nums"
   ]
  },
  {
   "cell_type": "code",
   "execution_count": 75,
   "id": "98a51281-5d7d-4ad3-b58c-6cfeb76dfaad",
   "metadata": {},
   "outputs": [
    {
     "name": "stdout",
     "output_type": "stream",
     "text": [
      "10\n",
      "10\n",
      "10\n",
      "10\n",
      "10\n",
      "5\n",
      "5\n",
      "5\n",
      "100\n",
      "1\n",
      "2\n",
      "3\n",
      "4\n",
      "[1, 2, 3, 4]\n"
     ]
    }
   ],
   "source": [
    "for num in nums:\n",
    "    print(num)"
   ]
  },
  {
   "cell_type": "code",
   "execution_count": 76,
   "id": "1cc136e8-36b5-473d-8495-3845dff966fe",
   "metadata": {},
   "outputs": [
    {
     "ename": "TypeError",
     "evalue": "'int' object is not iterable",
     "output_type": "error",
     "traceback": [
      "\u001b[0;31m---------------------------------------------------------------------------\u001b[0m",
      "\u001b[0;31mTypeError\u001b[0m                                 Traceback (most recent call last)",
      "Cell \u001b[0;32mIn[76], line 1\u001b[0m\n\u001b[0;32m----> 1\u001b[0m nums\u001b[38;5;241m.\u001b[39mextend(\u001b[38;5;241m100\u001b[39m)\n",
      "\u001b[0;31mTypeError\u001b[0m: 'int' object is not iterable"
     ]
    }
   ],
   "source": [
    "nums.extend(100)"
   ]
  },
  {
   "cell_type": "code",
   "execution_count": 78,
   "id": "e7b8184e-407b-4bb3-a1e1-51552d194554",
   "metadata": {},
   "outputs": [
    {
     "data": {
      "text/plain": [
       "[0, 1, 2, 3, 4, 5, 6, 7, 8, 9]"
      ]
     },
     "execution_count": 78,
     "metadata": {},
     "output_type": "execute_result"
    }
   ],
   "source": [
    "list(range(10))"
   ]
  },
  {
   "cell_type": "code",
   "execution_count": 79,
   "id": "7e388093-1743-4c4f-8d9e-05156c6a819d",
   "metadata": {},
   "outputs": [
    {
     "data": {
      "text/plain": [
       "[10, 20, 30, 40, 50, 60, 70, 80, 90]"
      ]
     },
     "execution_count": 79,
     "metadata": {},
     "output_type": "execute_result"
    }
   ],
   "source": [
    "nums = list(range(10,100,10))\n",
    "nums"
   ]
  },
  {
   "cell_type": "code",
   "execution_count": 80,
   "id": "7bff390c-893d-42e6-b155-898b2d461e6a",
   "metadata": {},
   "outputs": [],
   "source": [
    "# Move the first element to the end\n",
    "# nums.append(10)\n",
    "# nums.pop(0)\n",
    "\n",
    "first = nums.pop(0)\n",
    "nums.append(first)"
   ]
  },
  {
   "cell_type": "code",
   "execution_count": 82,
   "id": "26359bbc-72e2-4f04-9e43-c2470d70dba5",
   "metadata": {},
   "outputs": [
    {
     "data": {
      "text/plain": [
       "8"
      ]
     },
     "execution_count": 82,
     "metadata": {},
     "output_type": "execute_result"
    }
   ],
   "source": [
    "# Find where 10 is present\n",
    "to_find = 10\n",
    "nums.index(to_find)"
   ]
  },
  {
   "cell_type": "code",
   "execution_count": 83,
   "id": "aea5ec43-ba8f-4e2b-bce7-2928128b9650",
   "metadata": {},
   "outputs": [
    {
     "data": {
      "text/plain": [
       "[20, 30, 40, 50, 60, 70, 80, 90, 10]"
      ]
     },
     "execution_count": 83,
     "metadata": {},
     "output_type": "execute_result"
    }
   ],
   "source": [
    "nums"
   ]
  },
  {
   "cell_type": "code",
   "execution_count": null,
   "id": "1f469932-f0c0-4c62-8ebb-cac386da1aa8",
   "metadata": {},
   "outputs": [],
   "source": [
    "# Make the middle 3 elements (50,60,70) to reach the end\n",
    "[20,30,40,80,90,10,50,60,70]"
   ]
  },
  {
   "cell_type": "code",
   "execution_count": null,
   "id": "26583db6-1285-436c-966c-32f2728d17ee",
   "metadata": {},
   "outputs": [],
   "source": []
  },
  {
   "cell_type": "code",
   "execution_count": null,
   "id": "089dd088-b27e-4813-9687-f8daadfa1e26",
   "metadata": {},
   "outputs": [],
   "source": []
  },
  {
   "cell_type": "code",
   "execution_count": null,
   "id": "23a4afa3-dfeb-4e71-809b-9ac47142da32",
   "metadata": {},
   "outputs": [],
   "source": []
  },
  {
   "cell_type": "code",
   "execution_count": null,
   "id": "b559a350-d564-4413-b54a-2190b2331af5",
   "metadata": {},
   "outputs": [],
   "source": []
  }
 ],
 "metadata": {
  "kernelspec": {
   "display_name": "Python 3 (ipykernel)",
   "language": "python",
   "name": "python3"
  },
  "language_info": {
   "codemirror_mode": {
    "name": "ipython",
    "version": 3
   },
   "file_extension": ".py",
   "mimetype": "text/x-python",
   "name": "python",
   "nbconvert_exporter": "python",
   "pygments_lexer": "ipython3",
   "version": "3.11.0"
  }
 },
 "nbformat": 4,
 "nbformat_minor": 5
}
